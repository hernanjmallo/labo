{
 "cells": [
  {
   "cell_type": "code",
   "execution_count": 1,
   "id": "2092837f",
   "metadata": {
    "vscode": {
     "languageId": "r"
    }
   },
   "outputs": [
    {
     "data": {
      "text/html": [
       "<table class=\"dataframe\">\n",
       "<caption>A matrix: 2 × 6 of type dbl</caption>\n",
       "<thead>\n",
       "\t<tr><th></th><th scope=col>used</th><th scope=col>(Mb)</th><th scope=col>gc trigger</th><th scope=col>(Mb)</th><th scope=col>max used</th><th scope=col>(Mb)</th></tr>\n",
       "</thead>\n",
       "<tbody>\n",
       "\t<tr><th scope=row>Ncells</th><td> 613855</td><td>32.8</td><td>1330092</td><td>71.1</td><td>1056120</td><td>56.5</td></tr>\n",
       "\t<tr><th scope=row>Vcells</th><td>1149820</td><td> 8.8</td><td>8388608</td><td>64.0</td><td>1801053</td><td>13.8</td></tr>\n",
       "</tbody>\n",
       "</table>\n"
      ],
      "text/latex": [
       "A matrix: 2 × 6 of type dbl\n",
       "\\begin{tabular}{r|llllll}\n",
       "  & used & (Mb) & gc trigger & (Mb) & max used & (Mb)\\\\\n",
       "\\hline\n",
       "\tNcells &  613855 & 32.8 & 1330092 & 71.1 & 1056120 & 56.5\\\\\n",
       "\tVcells & 1149820 &  8.8 & 8388608 & 64.0 & 1801053 & 13.8\\\\\n",
       "\\end{tabular}\n"
      ],
      "text/markdown": [
       "\n",
       "A matrix: 2 × 6 of type dbl\n",
       "\n",
       "| <!--/--> | used | (Mb) | gc trigger | (Mb) | max used | (Mb) |\n",
       "|---|---|---|---|---|---|---|\n",
       "| Ncells |  613855 | 32.8 | 1330092 | 71.1 | 1056120 | 56.5 |\n",
       "| Vcells | 1149820 |  8.8 | 8388608 | 64.0 | 1801053 | 13.8 |\n",
       "\n"
      ],
      "text/plain": [
       "       used    (Mb) gc trigger (Mb) max used (Mb)\n",
       "Ncells  613855 32.8 1330092    71.1 1056120  56.5\n",
       "Vcells 1149820  8.8 8388608    64.0 1801053  13.8"
      ]
     },
     "metadata": {},
     "output_type": "display_data"
    },
    {
     "name": "stderr",
     "output_type": "stream",
     "text": [
      "Loading required package: mlr\n",
      "\n",
      "Loading required package: ParamHelpers\n",
      "\n",
      "Warning message: 'mlr' is in 'maintenance-only' mode since July 2019.\n",
      "Future development will only happen in 'mlr3'\n",
      "(<https://mlr3.mlr-org.com>). Due to the focus on 'mlr3' there might be\n",
      "uncaught bugs meanwhile in {mlr} - please consider switching.\n",
      "\n",
      "Loading required package: smoof\n",
      "\n",
      "Loading required package: checkmate\n",
      "\n",
      "\n",
      "Attaching package: ‘checkmate’\n",
      "\n",
      "\n",
      "The following object is masked from ‘package:DiceKriging’:\n",
      "\n",
      "    checkNames\n",
      "\n",
      "\n",
      "Warning message:\n",
      "“no DISPLAY variable so Tk is not available”\n"
     ]
    }
   ],
   "source": [
    "#Optimizacion Bayesiana de hiperparametros de  rpart\n",
    "#funciona automaticamente con EXPERIMENTOS\n",
    "#va generando incrementalmente salidas para kaggle\n",
    "\n",
    "#limpio la memoria\n",
    "rm( list=ls() )  #remove all objects\n",
    "gc()             #garbage collection\n",
    "\n",
    "library(\"data.table\")\n",
    "library(\"rlist\")\n",
    "library(\"yaml\")\n",
    "\n",
    "library(\"rpart\")\n",
    "library(\"parallel\")\n",
    "\n",
    "#paquetes necesarios para la Bayesian Optimization\n",
    "library(\"DiceKriging\")\n",
    "library(\"mlrMBO\")"
   ]
  },
  {
   "cell_type": "code",
   "execution_count": 2,
   "id": "cdbf9f90",
   "metadata": {
    "vscode": {
     "languageId": "r"
    }
   },
   "outputs": [],
   "source": [
    "#para poder usarlo en la PC y en la nube\n",
    "switch ( Sys.info()[['sysname']],\n",
    "         Windows = { directory.root   <-  \"M:\\\\\" },   #Microsoft Windows\n",
    "         Darwin  = { directory.root   <-  \"~/dm/\" },  #Apple MAC\n",
    "#         Linux   = { directory.root   <-  \"~/buckets/b1/\" }  #Entorno Google Cloud\n",
    "         Linux   = { directory.root   <-  \"~/\" }  #Hay un problema en el almacenamiento en cloud del BO por el momento se graba en el usuario\n",
    "       )\n",
    "#defino la carpeta donde trabajo\n",
    "\n",
    "#Hay un error en el almacenamiento \n",
    "\n",
    "setwd( directory.root )"
   ]
  },
  {
   "cell_type": "code",
   "execution_count": 3,
   "id": "0b489a50",
   "metadata": {
    "vscode": {
     "languageId": "r"
    }
   },
   "outputs": [],
   "source": [
    "kexperimento  <- NA   #NA si se corre la primera vez, un valor concreto si es para continuar procesando\n",
    "\n",
    "kscript           <- \"04.02 - BO Rpart FE\"\n",
    "kBO_iter    <-  200   #cantidad de iteraciones de la Optimizacion Bayesiana\n",
    "\n",
    "kcarpeta_datasets    <- \"./buckets/b1/datasets/\"                          #VM o Ubuntu\n",
    "\n",
    "#Archivo con datos etiquetados para entrenamiento\n",
    "karchivo_entrada      <-  paste0(kcarpeta_datasets, \"competencia1_2022_FE.csv\")\n",
    "\n",
    "\n",
    "#Ganancia por TP\n",
    "kTPGain               <-  78000\n",
    "\n",
    "#Pérdida por FP\n",
    "kFPGain               <-  -2000\n",
    "\n",
    "\n",
    "hs  <- makeParamSet(\n",
    "          makeNumericParam(\"cp\"       , lower= -1   , upper=    0.1),\n",
    "          makeIntegerParam(\"minsplit\" , lower=  1L  , upper= 8000L),  #la letra L al final significa ENTERO\n",
    "          makeIntegerParam(\"minbucket\", lower=  1L  , upper= 2000L),\n",
    "          makeIntegerParam(\"maxdepth\" , lower=  3L  , upper=   20L),\n",
    "          forbidden = quote( minbucket > 0.5*minsplit ) )\n",
    "\n",
    "\n",
    "ksemilla_azar  <- 102191"
   ]
  },
  {
   "cell_type": "markdown",
   "id": "426b9b91-0ff7-45dd-8245-a32801ff5b76",
   "metadata": {
    "vscode": {
     "languageId": "r"
    }
   },
   "source": [
    "#------------------------------------------------------------------------------\n",
    "#Funcion que lleva el registro de los experimentos\n",
    "\n",
    "get_experimento  <- function()\n",
    "{\n",
    "  if( !file.exists( \"./maestro.yaml\" ) )  cat( file=\"./maestro.yaml\", \"experimento: 1000\" )\n",
    "\n",
    "  exp  <- read_yaml( \"./maestro.yaml\" )\n",
    "  experimento_actual  <- exp$experimento\n",
    "\n",
    "  exp$experimento  <- as.integer(exp$experimento + 1)\n",
    "  Sys.chmod( \"./maestro.yaml\", mode = \"0644\", use_umask = TRUE)\n",
    "  write_yaml( exp, \"./maestro.yaml\" )\n",
    "  Sys.chmod( \"./maestro.yaml\", mode = \"0444\", use_umask = TRUE) #dejo el archivo readonly\n",
    "\n",
    "  return( experimento_actual )\n",
    "}"
   ]
  },
  {
   "cell_type": "code",
   "execution_count": 4,
   "id": "d2e38325-19a3-4e59-8b0a-26471a2c4fd5",
   "metadata": {
    "vscode": {
     "languageId": "r"
    }
   },
   "outputs": [],
   "source": [
    "#------------------------------------------------------------------------------\n",
    "#Funcion que lleva el registro de los experimentos\n",
    "\n",
    "get_experimento  <- function()\n",
    "{\n",
    "  if( !file.exists( \"./maestro.yaml\" ) )  cat( file=\"./maestro.yaml\", \"experimento: 1000\" )\n",
    "\n",
    "  exp  <- read_yaml( \"./maestro.yaml\" )\n",
    "  experimento_actual  <- exp$experimento\n",
    "\n",
    "  exp$experimento  <- as.integer(exp$experimento + 1)\n",
    "  Sys.chmod( \"./maestro.yaml\", mode = \"0644\", use_umask = TRUE)\n",
    "  write_yaml( exp, \"./maestro.yaml\" )\n",
    "  Sys.chmod( \"./maestro.yaml\", mode = \"0444\", use_umask = TRUE) #dejo el archivo readonly\n",
    "\n",
    "  return( experimento_actual )\n",
    "}"
   ]
  },
  {
   "cell_type": "code",
   "execution_count": 5,
   "id": "1e9841a2",
   "metadata": {
    "vscode": {
     "languageId": "r"
    }
   },
   "outputs": [],
   "source": [
    "#------------------------------------------------------------------------------\n",
    "#funcion para particionar, es la que Andres reemplaza con caret\n",
    "\n",
    "particionar  <- function( data, division, agrupa=\"\", campo=\"fold\", start=1, seed=NA )\n",
    "{\n",
    "  if( !is.na( seed)  )   set.seed( seed )\n",
    "\n",
    "  bloque  <- unlist( mapply(  function(x,y) { rep( y, x ) }, division, seq( from=start, length.out=length(division) )  ) )\n",
    "\n",
    "  data[ , (campo) :=  sample( rep( bloque, ceiling(.N/length(bloque))) )[1:.N],\n",
    "           by= agrupa ]\n",
    "}\n",
    "#------------------------------------------------------------------------------"
   ]
  },
  {
   "cell_type": "code",
   "execution_count": 6,
   "id": "c1e1901e",
   "metadata": {
    "vscode": {
     "languageId": "r"
    }
   },
   "outputs": [],
   "source": [
    "ArbolSimple  <- function( fold_test, data, param )\n",
    "{\n",
    "  #genero el modelo\n",
    "  modelo  <- rpart(\"clase_ternaria ~ .\", \n",
    "                   data= data[ fold != fold_test, ],\n",
    "                   xval= 0,\n",
    "                   control= param )\n",
    "\n",
    "  #aplico el modelo a los datos de testing, fold==2\n",
    "  prediccion  <- predict( modelo, data[ fold==fold_test, ], type = \"prob\")\n",
    "\n",
    "  prob_baja2  <- prediccion[, \"BAJA+2\"]\n",
    "\n",
    "  ganancia_testing  <- sum(  data[ fold==fold_test ][ prob_baja2 >0.025,  ifelse( clase_ternaria==\"BAJA+2\", kTPGain, kFPGain ) ] )\n",
    "\n",
    "  return( ganancia_testing )\n",
    "}"
   ]
  },
  {
   "cell_type": "code",
   "execution_count": 7,
   "id": "3f25f951",
   "metadata": {
    "vscode": {
     "languageId": "r"
    }
   },
   "outputs": [],
   "source": [
    "#------------------------------------------------------------------------------\n",
    "\n",
    "ArbolesCrossValidation  <- function( data, param, qfolds, pagrupa, semilla )\n",
    "{\n",
    "  divi  <- rep( 1, qfolds )\n",
    "  particionar( data, divi, seed=semilla, agrupa=pagrupa )\n",
    "\n",
    "  ganancias  <- mcmapply( ArbolSimple, \n",
    "                          seq(qfolds), # 1 2 3 4 5  \n",
    "                          MoreArgs= list( data, param), \n",
    "                          SIMPLIFY= FALSE,\n",
    "                          mc.cores= 5 )   #se puede subir a 5 si posee Linux o Mac OS\n",
    "\n",
    "  data[ , fold := NULL ]\n",
    "  #devuelvo la primer ganancia y el promedio\n",
    "  return( mean( unlist( ganancias )) *  qfolds )   #aqui normalizo la ganancia\n",
    "}"
   ]
  },
  {
   "cell_type": "code",
   "execution_count": 8,
   "id": "6ba36867",
   "metadata": {
    "vscode": {
     "languageId": "r"
    }
   },
   "outputs": [],
   "source": [
    "#------------------------------------------------------------------------------\n",
    "#esta funcion solo puede recibir los parametros que se estan optimizando\n",
    "#el resto de los parametros se pasan como variables globales\n",
    "\n",
    "EstimarGanancia  <- function( x )\n",
    "{\n",
    "   GLOBAL_iteracion  <<-  GLOBAL_iteracion + 1\n",
    "\n",
    "   xval_folds  <- 5\n",
    "   ganancia  <-  ArbolesCrossValidation( dtrain, param=x, qfolds= xval_folds, pagrupa=\"clase_ternaria\", semilla=ksemilla_azar )\n",
    "\n",
    "   #si tengo una ganancia superadora, genero el archivo para Kaggle\n",
    "   if(  ganancia > GLOBAL_ganancia_max )\n",
    "   {\n",
    "     GLOBAL_ganancia_max <<-  ganancia  #asigno la nueva maxima ganancia\n",
    "    \n",
    "     modelo  <- rpart(\"clase_ternaria ~ .\",\n",
    "                      data= dtrain,\n",
    "                      xval= 0,\n",
    "                      control= x )\n",
    "\n",
    "     #genero el vector con la prediccion, la probabilidad de ser positivo\n",
    "     prediccion  <- predict( modelo, dapply)\n",
    "\n",
    "     prob_baja2  <- prediccion[, \"BAJA+2\"]\n",
    "     Predicted   <- ifelse( prob_baja2 > 0.025, 1, 0 )\n",
    "\n",
    "     entrega  <-  as.data.table( list( \"numero_de_cliente\"=dapply$numero_de_cliente, \"Predicted\"=Predicted)  )\n",
    "\n",
    "     #genero el archivo para Kaggle\n",
    "     fwrite( entrega, \n",
    "             file= paste0(kkaggle, GLOBAL_iteracion, \".csv\" ),\n",
    "             sep=  \",\" )\n",
    "   }\n",
    "\n",
    "   return( ganancia )\n",
    "}\n",
    "#------------------------------------------------------------------------------"
   ]
  },
  {
   "cell_type": "code",
   "execution_count": 9,
   "id": "3bdbd4cb",
   "metadata": {
    "vscode": {
     "languageId": "r"
    }
   },
   "outputs": [],
   "source": [
    "#Aqui empieza el programa\n",
    "\n",
    "if( is.na(kexperimento ) )   kexperimento <- get_experimento()  #creo el experimento"
   ]
  },
  {
   "cell_type": "code",
   "execution_count": 10,
   "id": "57f2a412",
   "metadata": {
    "vscode": {
     "languageId": "r"
    }
   },
   "outputs": [],
   "source": [
    "#en estos archivos quedan los resultados\n",
    "kbayesiana  <- paste0(\"./E\",  kexperimento, \"_rpart.RDATA\" )\n",
    "kkaggle     <- paste0(\"./E\",kexperimento, \"_rpart_kaggle_\" )"
   ]
  },
  {
   "cell_type": "code",
   "execution_count": 11,
   "id": "a555476f",
   "metadata": {
    "vscode": {
     "languageId": "r"
    }
   },
   "outputs": [],
   "source": [
    "GLOBAL_ganancia_max  <-  -Inf\n",
    "GLOBAL_iteracion  <- 0"
   ]
  },
  {
   "cell_type": "code",
   "execution_count": 12,
   "id": "81cc80f4",
   "metadata": {
    "vscode": {
     "languageId": "r"
    }
   },
   "outputs": [],
   "source": [
    "#cargo los datos\n",
    "dataset <- fread(karchivo_entrada)\n",
    "\n",
    "#Para hacer pruebas rapidas puedo reducir el dataset a una fraccion\n",
    "#subsample <- sample(1:nrow(dataset), .1 * nrow(dataset))\n",
    "#dataset <- dataset[subsample,]\n",
    "\n",
    "dtrain  <- dataset[ foto_mes==202101 ]  #defino donde voy a entrenar\n",
    "\n",
    "dapply  <- dataset[ foto_mes==202103 ]  #defino donde voy a aplicar el modelo"
   ]
  },
  {
   "cell_type": "code",
   "execution_count": 13,
   "id": "c81db6a6",
   "metadata": {
    "vscode": {
     "languageId": "r"
    }
   },
   "outputs": [],
   "source": [
    "#Aqui comienza la configuracion de la Bayesian Optimization\n",
    "\n",
    "configureMlr( show.learner.output = FALSE)\n",
    "\n",
    "funcion_optimizar  <- EstimarGanancia\n",
    "\n",
    "#configuro la busqueda bayesiana,  los hiperparametros que se van a optimizar\n",
    "#por favor, no desesperarse por lo complejo\n",
    "obj.fun  <- makeSingleObjectiveFunction(\n",
    "              fn=       funcion_optimizar,\n",
    "              minimize= FALSE,   #estoy Maximizando la ganancia\n",
    "              noisy=    TRUE,\n",
    "              par.set=  hs,\n",
    "              has.simple.signature = FALSE\n",
    "             )\n",
    "\n",
    "ctrl  <- makeMBOControl( save.on.disk.at.time= 60,  save.file.path= kbayesiana)\n",
    "ctrl  <- setMBOControlTermination(ctrl, iters= kBO_iter )\n",
    "ctrl  <- setMBOControlInfill(ctrl, crit= makeMBOInfillCritEI())\n",
    "\n",
    "surr.km  <-  makeLearner(\"regr.km\", predict.type= \"se\", covtype= \"matern3_2\", control= list(trace= TRUE))"
   ]
  },
  {
   "cell_type": "code",
   "execution_count": 14,
   "id": "9383ca74",
   "metadata": {
    "vscode": {
     "languageId": "r"
    }
   },
   "outputs": [
    {
     "name": "stderr",
     "output_type": "stream",
     "text": [
      "Computing y column(s) for design. Not provided.\n",
      "\n",
      "[mbo] 0: cp=-0.239; minsplit=2739; minbucket=691; maxdepth=10 : y = 1.87e+07 : 37.2 secs : initdesign\n",
      "\n",
      "[mbo] 0: cp=-0.519; minsplit=5912; minbucket=1516; maxdepth=8 : y = 1.59e+07 : 17.2 secs : initdesign\n",
      "\n",
      "[mbo] 0: cp=-0.439; minsplit=4549; minbucket=814; maxdepth=14 : y = 1.62e+07 : 24.5 secs : initdesign\n",
      "\n",
      "[mbo] 0: cp=-0.479; minsplit=3716; minbucket=329; maxdepth=4 : y = 1.64e+07 : 10.5 secs : initdesign\n",
      "\n",
      "[mbo] 0: cp=-0.784; minsplit=6646; minbucket=1119; maxdepth=5 : y = 1.53e+07 : 13.3 secs : initdesign\n",
      "\n",
      "[mbo] 0: cp=-0.258; minsplit=5289; minbucket=1436; maxdepth=17 : y = 1.59e+07 : 23.1 secs : initdesign\n",
      "\n",
      "[mbo] 0: cp=-0.63; minsplit=7695; minbucket=1866; maxdepth=9 : y = 1.53e+07 : 17.1 secs : initdesign\n",
      "\n",
      "[mbo] 0: cp=-0.0481; minsplit=6399; minbucket=153; maxdepth=16 : y = 1.51e+07 : 28.4 secs : initdesign\n",
      "\n",
      "[mbo] 0: cp=-0.0357; minsplit=1853; minbucket=531; maxdepth=3 : y = 1.58e+07 : 7.8 secs : initdesign\n",
      "\n",
      "[mbo] 0: cp=-0.823; minsplit=2096; minbucket=107; maxdepth=13 : y = 1.86e+07 : 25.1 secs : initdesign\n",
      "\n",
      "[mbo] 0: cp=-0.866; minsplit=7278; minbucket=473; maxdepth=17 : y = 1.51e+07 : 25.6 secs : initdesign\n",
      "\n",
      "[mbo] 0: cp=-0.997; minsplit=3469; minbucket=1725; maxdepth=18 : y = 1.75e+07 : 21.9 secs : initdesign\n",
      "\n",
      "[mbo] 0: cp=-0.374; minsplit=4472; minbucket=1142; maxdepth=7 : y = 1.57e+07 : 15.0 secs : initdesign\n",
      "\n",
      "[mbo] 0: cp=-0.903; minsplit=7788; minbucket=1917; maxdepth=12 : y = 1.53e+07 : 18.4 secs : initdesign\n",
      "\n",
      "[mbo] 0: cp=-0.449; minsplit=4960; minbucket=59; maxdepth=5 : y = 1.61e+07 : 14.1 secs : initdesign\n",
      "\n",
      "[mbo] 0: cp=0.021; minsplit=3095; minbucket=1419; maxdepth=8 : y = 0 : 14.1 secs : initdesign\n",
      "\n",
      "Saved the current state after iteration 1 in the file ./E1003_rpart.RDATA.\n",
      "\n",
      "[mbo] 1: cp=-0.286; minsplit=2624; minbucket=395; maxdepth=12 : y = 1.8e+07 : 24.0 secs : infill_ei\n",
      "\n",
      "[mbo] 2: cp=-0.358; minsplit=2756; minbucket=762; maxdepth=10 : y = 1.87e+07 : 34.2 secs : infill_ei\n",
      "\n",
      "Saved the current state after iteration 3 in the file ./E1003_rpart.RDATA.\n",
      "\n",
      "[mbo] 3: cp=-0.988; minsplit=2725; minbucket=725; maxdepth=20 : y = 1.87e+07 : 23.9 secs : infill_ei\n",
      "\n",
      "[mbo] 4: cp=-1; minsplit=80; minbucket=40; maxdepth=3 : y = 1.71e+07 : 8.9 secs : infill_ei\n",
      "\n",
      "[mbo] 5: cp=-0.16; minsplit=9; minbucket=1; maxdepth=3 : y = 1.74e+07 : 6.8 secs : infill_ei\n",
      "\n",
      "[mbo] 6: cp=-0.311; minsplit=1271; minbucket=632; maxdepth=3 : y = 1.57e+07 : 8.5 secs : infill_ei\n",
      "\n",
      "[mbo] 7: cp=-0.984; minsplit=2736; minbucket=7; maxdepth=7 : y = 1.77e+07 : 15.1 secs : infill_ei\n",
      "\n",
      "Saved the current state after iteration 8 in the file ./E1003_rpart.RDATA.\n",
      "\n",
      "[mbo] 8: cp=-0.351; minsplit=2715; minbucket=16; maxdepth=20 : y = 1.66e+07 : 36.4 secs : infill_ei\n",
      "\n",
      "[mbo] 9: cp=-0.891; minsplit=2686; minbucket=1343; maxdepth=6 : y = 1.84e+07 : 13.9 secs : infill_ei\n",
      "\n",
      "[mbo] 10: cp=-0.855; minsplit=2480; minbucket=609; maxdepth=13 : y = 1.85e+07 : 24.5 secs : infill_ei\n",
      "\n",
      "Saved the current state after iteration 11 in the file ./E1003_rpart.RDATA.\n",
      "\n",
      "[mbo] 11: cp=-0.661; minsplit=9; minbucket=2; maxdepth=10 : y = 1.86e+07 : 23.3 secs : infill_ei\n",
      "\n",
      "[mbo] 12: cp=-0.996; minsplit=1816; minbucket=907; maxdepth=11 : y = 1.83e+07 : 24.7 secs : infill_ei\n",
      "\n",
      "[mbo] 13: cp=-0.923; minsplit=8; minbucket=3; maxdepth=20 : y = 5.98e+06 : 45.8 secs : infill_ei\n",
      "\n",
      "Saved the current state after iteration 14 in the file ./E1003_rpart.RDATA.\n",
      "\n",
      "[mbo] 14: cp=-0.939; minsplit=2522; minbucket=825; maxdepth=12 : y = 1.86e+07 : 23.5 secs : infill_ei\n",
      "\n",
      "[mbo] 15: cp=-0.892; minsplit=2112; minbucket=669; maxdepth=13 : y = 1.86e+07 : 26.0 secs : infill_ei\n",
      "\n",
      "[mbo] 16: cp=-0.761; minsplit=2246; minbucket=188; maxdepth=10 : y = 1.86e+07 : 22.5 secs : infill_ei\n",
      "\n",
      "Saved the current state after iteration 17 in the file ./E1003_rpart.RDATA.\n",
      "\n",
      "[mbo] 17: cp=-1; minsplit=3203; minbucket=1085; maxdepth=19 : y = 1.8e+07 : 23.3 secs : infill_ei\n",
      "\n",
      "[mbo] 18: cp=-0.606; minsplit=2592; minbucket=8; maxdepth=12 : y = 1.78e+07 : 24.0 secs : infill_ei\n",
      "\n",
      "[mbo] 19: cp=-0.25; minsplit=231; minbucket=115; maxdepth=9 : y = 1.9e+07 : 36.8 secs : infill_ei\n",
      "\n",
      "Saved the current state after iteration 20 in the file ./E1003_rpart.RDATA.\n",
      "\n",
      "[mbo] 20: cp=-0.259; minsplit=1891; minbucket=721; maxdepth=20 : y = 1.86e+07 : 25.4 secs : infill_ei\n",
      "\n",
      "[mbo] 21: cp=-0.65; minsplit=2877; minbucket=1438; maxdepth=20 : y = 1.84e+07 : 24.8 secs : infill_ei\n",
      "\n",
      "[mbo] 22: cp=-0.729; minsplit=2626; minbucket=867; maxdepth=20 : y = 1.87e+07 : 23.9 secs : infill_ei\n",
      "\n",
      "Saved the current state after iteration 23 in the file ./E1003_rpart.RDATA.\n",
      "\n",
      "[mbo] 23: cp=-0.627; minsplit=1523; minbucket=758; maxdepth=9 : y = 1.89e+07 : 20.1 secs : infill_ei\n",
      "\n",
      "[mbo] 24: cp=-0.341; minsplit=1057; minbucket=528; maxdepth=9 : y = 1.91e+07 : 34.6 secs : infill_ei\n",
      "\n",
      "[mbo] 25: cp=-0.904; minsplit=1481; minbucket=739; maxdepth=7 : y = 1.9e+07 : 16.4 secs : infill_ei\n",
      "\n",
      "Saved the current state after iteration 26 in the file ./E1003_rpart.RDATA.\n",
      "\n",
      "[mbo] 26: cp=-0.514; minsplit=6003; minbucket=1814; maxdepth=20 : y = 1.59e+07 : 18.1 secs : infill_ei\n",
      "\n",
      "[mbo] 27: cp=-0.812; minsplit=2775; minbucket=1387; maxdepth=15 : y = 1.84e+07 : 16.3 secs : infill_ei\n",
      "\n",
      "[mbo] 28: cp=-0.191; minsplit=2042; minbucket=1; maxdepth=9 : y = 1.95e+07 : 27.2 secs : infill_ei\n",
      "\n",
      "Saved the current state after iteration 29 in the file ./E1003_rpart.RDATA.\n",
      "\n",
      "[mbo] 29: cp=-0.062; minsplit=654; minbucket=1; maxdepth=10 : y = 2.09e+07 : 30.2 secs : infill_ei\n",
      "\n",
      "[mbo] 30: cp=0.0998; minsplit=360; minbucket=1; maxdepth=10 : y = 0 : 7.7 secs : infill_ei\n",
      "\n",
      "[mbo] 31: cp=-0.1; minsplit=816; minbucket=1; maxdepth=14 : y = 2.06e+07 : 21.4 secs : infill_ei\n",
      "\n",
      "Saved the current state after iteration 32 in the file ./E1003_rpart.RDATA.\n",
      "\n",
      "[mbo] 32: cp=-0.0833; minsplit=1544; minbucket=1; maxdepth=7 : y = 1.94e+07 : 11.8 secs : infill_ei\n",
      "\n",
      "[mbo] 33: cp=-0.068; minsplit=50; minbucket=20; maxdepth=20 : y = 1.23e+07 : 27.9 secs : infill_ei\n",
      "\n",
      "[mbo] 34: cp=-0.118; minsplit=58; minbucket=27; maxdepth=11 : y = 1.57e+07 : 17.8 secs : infill_ei\n",
      "\n",
      "Saved the current state after iteration 35 in the file ./E1003_rpart.RDATA.\n",
      "\n",
      "[mbo] 35: cp=-0.135; minsplit=658; minbucket=39; maxdepth=5 : y = 1.93e+07 : 9.3 secs : infill_ei\n",
      "\n",
      "[mbo] 36: cp=-0.0593; minsplit=898; minbucket=17; maxdepth=6 : y = 2.01e+07 : 10.9 secs : infill_ei\n",
      "\n",
      "[mbo] 37: cp=-0.0695; minsplit=733; minbucket=349; maxdepth=15 : y = 1.8e+07 : 19.5 secs : infill_ei\n",
      "\n",
      "[mbo] 38: cp=-0.337; minsplit=748; minbucket=7; maxdepth=13 : y = 1.98e+07 : 19.7 secs : infill_ei\n",
      "\n",
      "Saved the current state after iteration 39 in the file ./E1003_rpart.RDATA.\n",
      "\n",
      "[mbo] 39: cp=-0.25; minsplit=948; minbucket=1; maxdepth=16 : y = 2.04e+07 : 23.5 secs : infill_ei\n",
      "\n",
      "[mbo] 40: cp=-0.192; minsplit=1643; minbucket=5; maxdepth=19 : y = 1.81e+07 : 26.2 secs : infill_ei\n",
      "\n",
      "[mbo] 41: cp=-0.78; minsplit=1724; minbucket=752; maxdepth=10 : y = 1.85e+07 : 24.0 secs : infill_ei\n",
      "\n",
      "Saved the current state after iteration 42 in the file ./E1003_rpart.RDATA.\n",
      "\n"
     ]
    }
   ],
   "source": [
    "#inicio la optimizacion bayesiana\n",
    "if(!file.exists(kbayesiana)) {\n",
    "  run  <- mbo(obj.fun, learner = surr.km, control = ctrl)\n",
    "} else  run  <- mboContinue( kbayesiana )   #retomo en caso que ya exista"
   ]
  },
  {
   "cell_type": "code",
   "execution_count": null,
   "id": "fd592624",
   "metadata": {
    "vscode": {
     "languageId": "r"
    }
   },
   "outputs": [],
   "source": [
    "quit( save=\"no\" )"
   ]
  },
  {
   "cell_type": "code",
   "execution_count": null,
   "id": "5b559bf4",
   "metadata": {
    "vscode": {
     "languageId": "r"
    }
   },
   "outputs": [],
   "source": []
  }
 ],
 "metadata": {
  "kernelspec": {
   "display_name": "R",
   "language": "R",
   "name": "ir"
  },
  "language_info": {
   "codemirror_mode": "r",
   "file_extension": ".r",
   "mimetype": "text/x-r-source",
   "name": "R",
   "pygments_lexer": "r",
   "version": "4.2.1"
  },
  "vscode": {
   "interpreter": {
    "hash": "0b87cd2a2c92c59199cd604023601109306b45cac2bd778b8aa97bbc69631231"
   }
  }
 },
 "nbformat": 4,
 "nbformat_minor": 5
}
