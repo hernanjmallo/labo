{
 "cells": [
  {
   "cell_type": "code",
   "execution_count": 2,
   "id": "1069511e-1627-45a0-b841-d5c742f4dbe4",
   "metadata": {
    "vscode": {
     "languageId": "r"
    }
   },
   "outputs": [
    {
     "data": {
      "text/html": [
       "<table class=\"dataframe\">\n",
       "<caption>A matrix: 2 × 6 of type dbl</caption>\n",
       "<thead>\n",
       "\t<tr><th></th><th scope=col>used</th><th scope=col>(Mb)</th><th scope=col>gc trigger</th><th scope=col>(Mb)</th><th scope=col>max used</th><th scope=col>(Mb)</th></tr>\n",
       "</thead>\n",
       "<tbody>\n",
       "\t<tr><th scope=row>Ncells</th><td>   726367</td><td>  38.8</td><td>  1349487</td><td>  72.1</td><td>  1349487</td><td>  72.1</td></tr>\n",
       "\t<tr><th scope=row>Vcells</th><td>183625990</td><td>1401.0</td><td>781909358</td><td>5965.5</td><td>812556391</td><td>6199.4</td></tr>\n",
       "</tbody>\n",
       "</table>\n"
      ],
      "text/latex": [
       "A matrix: 2 × 6 of type dbl\n",
       "\\begin{tabular}{r|llllll}\n",
       "  & used & (Mb) & gc trigger & (Mb) & max used & (Mb)\\\\\n",
       "\\hline\n",
       "\tNcells &    726367 &   38.8 &   1349487 &   72.1 &   1349487 &   72.1\\\\\n",
       "\tVcells & 183625990 & 1401.0 & 781909358 & 5965.5 & 812556391 & 6199.4\\\\\n",
       "\\end{tabular}\n"
      ],
      "text/markdown": [
       "\n",
       "A matrix: 2 × 6 of type dbl\n",
       "\n",
       "| <!--/--> | used | (Mb) | gc trigger | (Mb) | max used | (Mb) |\n",
       "|---|---|---|---|---|---|---|\n",
       "| Ncells |    726367 |   38.8 |   1349487 |   72.1 |   1349487 |   72.1 |\n",
       "| Vcells | 183625990 | 1401.0 | 781909358 | 5965.5 | 812556391 | 6199.4 |\n",
       "\n"
      ],
      "text/plain": [
       "       used      (Mb)   gc trigger (Mb)   max used  (Mb)  \n",
       "Ncells    726367   38.8   1349487    72.1   1349487   72.1\n",
       "Vcells 183625990 1401.0 781909358  5965.5 812556391 6199.4"
      ]
     },
     "metadata": {},
     "output_type": "display_data"
    }
   ],
   "source": [
    "#Feature Engineering\n",
    "#creo nuevas variables dentro del mismo mes\n",
    "#Condimentar a gusto con nuevas variables\n",
    "\n",
    "#limpio la memoria\n",
    "rm( list=ls() )\n",
    "gc()\n",
    "\n",
    "require(\"data.table\")\n",
    "\n",
    "#Establezco el Working Directory\n",
    "setwd(\"~/\")\n",
    "\n",
    "\n",
    "EnriquecerDataset <- function( dataset , arch_destino )\n",
    "{\n",
    "  columnas_originales <-  copy(colnames( dataset ))\n",
    "\n",
    "  dataset[ , mv_status01       := pmax( Master_status,  Visa_status, na.rm = TRUE) ]\n",
    "  dataset[ , mv_status02       := Master_status +  Visa_status ]\n",
    "  dataset[ , mv_status03       := pmax( ifelse( is.na(Master_status), 10, Master_status) , ifelse( is.na(Visa_status), 10, Visa_status) ) ]\n",
    "  dataset[ , mv_status04       := ifelse( is.na(Master_status), 10, Master_status)  +  ifelse( is.na(Visa_status), 10, Visa_status)  ]\n",
    "  dataset[ , mv_status05       := ifelse( is.na(Master_status), 10, Master_status)  +  100*ifelse( is.na(Visa_status), 10, Visa_status)  ]\n",
    "\n",
    "  dataset[ , mv_status06       := ifelse( is.na(Visa_status), \n",
    "                                          ifelse( is.na(Master_status), 10, Master_status), \n",
    "                                          Visa_status)  ]\n",
    "\n",
    "  dataset[ , mv_status07       := ifelse( is.na(Master_status), \n",
    "                                          ifelse( is.na(Visa_status), 10, Visa_status), \n",
    "                                          Master_status)  ]\n",
    "\n",
    "    \n",
    "dataset[ , new_weight_cpagodeservicios_ctrx_quarter  := cpagodeservicios*.8+ctrx_quarter*.2  ]\n",
    "dataset[ , new_payroll_rent_prod_saldo               := paste(ifelse( mpayroll_adj > 0,\"1\",\"0\"), ifelse( mrentabilidad_adj > 0,\"1\",\"0\"), ifelse( mcuentas_saldo_adj > 0,\"1\",\"0\"), ifelse(cproductos > 7,\"1\",\"0\"))  ]\n",
    "dataset[ , new_rt_mpasivos_margen_mcuenta_corriente  := ifelse( is.na(mpasivos_margen_adj), 1, mpasivos_margen_adj)  /  ifelse(ifelse( is.na(mcuenta_corriente_adj), 1, mcuenta_corriente_adj)==0,1,mcuenta_corriente_adj) ]\n",
    "dataset[ , new_limite_saldototal   := (ifelse( is.na(Master_mlimitecompra), 1, Master_mlimitecompra)+ifelse( is.na(Visa_mlimitecompra), 1, Visa_mlimitecompra)) /  ifelse( is.na(Visa_msaldototal_adj), 1, Visa_msaldototal_adj)  ]          \n",
    "    \n",
    "\n",
    "    \n",
    "  columnas_extendidas <-  copy( setdiff(  colnames(dataset), columnas_originales ) )\n",
    "  \n",
    "\n",
    "  #grabo con nombre extendido\n",
    "  fwrite( dataset,\n",
    "          file=arch_destino,\n",
    "          sep= \",\" )\n",
    "}\n",
    "#------------------------------------------------------------------------------\n",
    "\n",
    "#kcarpeta_datasets    <- \"../input/laboratorio-de-implementacion-i-2021/\"   #KAGGLE\n",
    "kcarpeta_datasets    <- \"./buckets/b1/datasets/\"                          #VM o Ubuntu\n",
    "\n",
    "#Archivo con datos etiquetados para entrenamiento\n",
    "karchivo_entrada      <-  paste0(kcarpeta_datasets, \"competencia2_2022_ADJ.csv.gz\")\n",
    "karchivo_salida      <-  paste0(kcarpeta_datasets, \"competencia2_2022_FE.csv.gz\")\n",
    "\n",
    "\n",
    "\n",
    "#lectura rapida del dataset  usando fread  de la libreria  data.table\n",
    "dataset1  <- fread(karchivo_entrada)\n",
    "\n",
    "EnriquecerDataset( dataset1, karchivo_salida )\n",
    "\n",
    "\n",
    "\n",
    "quit( save=\"no\")\n"
   ]
  },
  {
   "cell_type": "code",
   "execution_count": null,
   "id": "b9621ff5",
   "metadata": {
    "vscode": {
     "languageId": "r"
    }
   },
   "outputs": [],
   "source": []
  }
 ],
 "metadata": {
  "kernelspec": {
   "display_name": "R",
   "language": "R",
   "name": "ir"
  },
  "language_info": {
   "codemirror_mode": "r",
   "file_extension": ".r",
   "mimetype": "text/x-r-source",
   "name": "R",
   "pygments_lexer": "r",
   "version": "4.2.1"
  }
 },
 "nbformat": 4,
 "nbformat_minor": 5
}
