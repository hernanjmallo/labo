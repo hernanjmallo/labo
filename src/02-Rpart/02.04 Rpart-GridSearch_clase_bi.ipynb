{
 "cells": [
  {
   "cell_type": "code",
   "execution_count": 1,
   "metadata": {
    "papermill": {
     "duration": 1.629423,
     "end_time": "2020-09-04T19:00:49.168162",
     "exception": false,
     "start_time": "2020-09-04T19:00:47.538739",
     "status": "completed"
    },
    "tags": [],
    "vscode": {
     "languageId": "r"
    }
   },
   "outputs": [
    {
     "data": {
      "text/html": [
       "<table class=\"dataframe\">\n",
       "<caption>A matrix: 2 × 6 of type dbl</caption>\n",
       "<thead>\n",
       "\t<tr><th></th><th scope=col>used</th><th scope=col>(Mb)</th><th scope=col>gc trigger</th><th scope=col>(Mb)</th><th scope=col>max used</th><th scope=col>(Mb)</th></tr>\n",
       "</thead>\n",
       "<tbody>\n",
       "\t<tr><th scope=row>Ncells</th><td> 604207</td><td>32.3</td><td>1291145</td><td>69</td><td>1291145</td><td>69.0</td></tr>\n",
       "\t<tr><th scope=row>Vcells</th><td>1085981</td><td> 8.3</td><td>8388608</td><td>64</td><td>1633205</td><td>12.5</td></tr>\n",
       "</tbody>\n",
       "</table>\n"
      ],
      "text/latex": [
       "A matrix: 2 × 6 of type dbl\n",
       "\\begin{tabular}{r|llllll}\n",
       "  & used & (Mb) & gc trigger & (Mb) & max used & (Mb)\\\\\n",
       "\\hline\n",
       "\tNcells &  604207 & 32.3 & 1291145 & 69 & 1291145 & 69.0\\\\\n",
       "\tVcells & 1085981 &  8.3 & 8388608 & 64 & 1633205 & 12.5\\\\\n",
       "\\end{tabular}\n"
      ],
      "text/markdown": [
       "\n",
       "A matrix: 2 × 6 of type dbl\n",
       "\n",
       "| <!--/--> | used | (Mb) | gc trigger | (Mb) | max used | (Mb) |\n",
       "|---|---|---|---|---|---|---|\n",
       "| Ncells |  604207 | 32.3 | 1291145 | 69 | 1291145 | 69.0 |\n",
       "| Vcells | 1085981 |  8.3 | 8388608 | 64 | 1633205 | 12.5 |\n",
       "\n"
      ],
      "text/plain": [
       "       used    (Mb) gc trigger (Mb) max used (Mb)\n",
       "Ncells  604207 32.3 1291145    69   1291145  69.0\n",
       "Vcells 1085981  8.3 8388608    64   1633205  12.5"
      ]
     },
     "metadata": {},
     "output_type": "display_data"
    },
    {
     "name": "stderr",
     "output_type": "stream",
     "text": [
      "Loading required package: ggplot2\n",
      "\n",
      "Loading required package: lattice\n",
      "\n"
     ]
    }
   ],
   "source": [
    "#limpio la memoria\n",
    "rm(list=ls())\n",
    "gc()\n",
    "\n",
    "#cargo librerias\n",
    "library(\"data.table\")\n",
    "library(\"ROCR\")\n",
    "library(\"rpart\")\n",
    "library(\"rpart.plot\")\n",
    "library(\"caret\")"
   ]
  },
  {
   "cell_type": "code",
   "execution_count": 2,
   "metadata": {
    "papermill": {
     "duration": 0.279475,
     "end_time": "2020-09-04T19:00:49.466032",
     "exception": false,
     "start_time": "2020-09-04T19:00:49.186557",
     "status": "completed"
    },
    "tags": [],
    "vscode": {
     "languageId": "r"
    }
   },
   "outputs": [],
   "source": [
    "setwd(\"~/lab1/\")\n",
    "\n",
    "#Parametros entrada\n",
    "\n",
    "#kcarpeta_datasets    <- \"../input/laboratorio-de-implementacion-i-2021/\"   #KAGGLE\n",
    "kcarpeta_datasets    <- \"./datasets/\"                          #VM o Ubuntu\n",
    "\n",
    "#Archivo con datos etiquetados para entrenamiento\n",
    "karchivo_entrada      <-  paste0(kcarpeta_datasets, \"competencia1_2022_b2.csv\")\n",
    "\n",
    "#Formato para submit en Kaggle\n",
    "#karchivo_score      <-  \"../input/uamds2020ldi1f1/Sample_201910_Fase_I.txt\"\n",
    "\n",
    "#Separador de campos en archivos\n",
    "kcampos_separador     <-  \"\\t\"\n",
    "\n",
    "#Campo que identifica las muestras\n",
    "kcampo_id             <-  \"numero_de_cliente\"\n",
    "\n",
    "#Campo que contiene la clase a estimar\n",
    "kclase_nomcampo       <-  \"clase_binaria\"\n",
    "\n",
    "#Valor de interés\n",
    "kclase_valor_positivo <-  \"(+)\"\n",
    "\n",
    "#Campos a borrar para el entrenamiento\n",
    "kcampos_a_borrar      <-  c(kcampo_id,kclase_nomcampo,\"foto_mes\")\n",
    "\n",
    "#Campo que contendrá a la variable objetivo generada\n",
    "kobjetivo             <-  \"clase\"\n",
    "\n",
    "#Identificación del modelo\n",
    "kmodelo               <-  \"02-RPART\"\n",
    "\n",
    "#Ganancia por TP\n",
    "kTPGain               <-  78000\n",
    "\n",
    "#Pérdida por FP\n",
    "kFPGain               <-  -2000\n",
    "\n",
    "#Establezco semilla aleatoria\n",
    "set.seed(1)\n",
    "\n"
   ]
  },
  {
   "cell_type": "code",
   "execution_count": 3,
   "metadata": {
    "papermill": {
     "duration": 3.125502,
     "end_time": "2020-09-04T19:00:52.608890",
     "exception": false,
     "start_time": "2020-09-04T19:00:49.483388",
     "status": "completed"
    },
    "tags": [],
    "vscode": {
     "languageId": "r"
    }
   },
   "outputs": [],
   "source": [
    "#cargo los datos\n",
    "dataset <- fread(karchivo_entrada)\n",
    "\n",
    "#Para hacer pruebas rapidas puedo reducir el dataset a una fraccion\n",
    "#subsample <- sample(1:nrow(dataset), .1 * nrow(dataset))\n",
    "#dataset <- dataset[subsample,]\n",
    "\n",
    "dtrain  <- dataset[ foto_mes==202101 ]  #defino donde voy a entrenar\n",
    "\n",
    "train_rows <- createDataPartition(dtrain$clase, p = .66, list = FALSE)\n",
    "\n",
    "#train_rows <- sample(1:nrow(dataset), .66 * nrow(dataset))\n",
    "dtest <- dtrain[-train_rows,]\n",
    "dtrain <- dtrain[train_rows,]\n",
    "\n",
    "dapply  <- dataset[ foto_mes==202103 ]  #defino donde voy a aplicar el modelo"
   ]
  },
  {
   "cell_type": "code",
   "execution_count": 4,
   "metadata": {
    "vscode": {
     "languageId": "r"
    }
   },
   "outputs": [],
   "source": [
    "#Funcion que calcula la ganancia para una prediccion y valores reales\n",
    "fmetrica_ganancia_rpart  = function( probs, clases, pclase_valor_positivo )\n",
    "{\n",
    " \n",
    "  return(  sum(    (probs > 1/40 ) * \n",
    "                   ifelse( clases== pclase_valor_positivo, kTPGain, kFPGain )   \n",
    "              )\n",
    "         )\n",
    "}"
   ]
  },
  {
   "cell_type": "code",
   "execution_count": 5,
   "metadata": {
    "vscode": {
     "languageId": "r"
    }
   },
   "outputs": [],
   "source": [
    "# Funcion que entrena el arbol y luego determina la ganancia sobre el set de test\n",
    "modelo_rpart_ganancia = function( ptrain, ptest, pmaxdepth, pminbucket, pminsplit, pcp )\n",
    "{\n",
    "\n",
    "  modelo   <-  rpart(\"clase_binaria ~ .\",   data = ptrain,  xval=0, maxdepth=pmaxdepth, minbucket=pminbucket, minsplit=pminsplit, cp=pcp)\n",
    "\n",
    "  #aplico el modelo a datos nuevos\n",
    "  testing_prediccion  <- predict( modelo, ptest)[, \"(+)\"]\n",
    "    \n",
    "  return(fmetrica_ganancia_rpart(testing_prediccion,ptest[,..kclase_nomcampo],\"(+)\"))\n",
    "  \n",
    "}"
   ]
  },
  {
   "cell_type": "code",
   "execution_count": 6,
   "metadata": {
    "vscode": {
     "languageId": "r"
    }
   },
   "outputs": [
    {
     "name": "stderr",
     "output_type": "stream",
     "text": [
      "Intentando -0.819 830 1 9\n",
      "\n",
      "Nuevo Maximo:  47688000 -0.819 830 1 9\n",
      "\n",
      "Ganancia: 47688000 Ganancia Maxima 47688000\n",
      "\n",
      "Intentando -0.819 1143 1 9\n",
      "\n",
      "Nuevo Maximo:  47694000 -0.819 1143 1 9\n",
      "\n",
      "Ganancia: 47694000 Ganancia Maxima 47694000\n",
      "\n",
      "Intentando -0.937 830 1 9\n",
      "\n",
      "Ganancia: 47688000 Ganancia Maxima 47694000\n",
      "\n",
      "Intentando -0.937 1143 1 9\n",
      "\n",
      "Ganancia: 47694000 Ganancia Maxima 47694000\n",
      "\n",
      "Intentando -0.819 830 1 10\n",
      "\n",
      "Nuevo Maximo:  48150000 -0.819 830 1 10\n",
      "\n",
      "Ganancia: 48150000 Ganancia Maxima 48150000\n",
      "\n",
      "Intentando -0.819 1143 1 10\n",
      "\n",
      "Ganancia: 47442000 Ganancia Maxima 48150000\n",
      "\n",
      "Intentando -0.937 830 1 10\n",
      "\n",
      "Ganancia: 48150000 Ganancia Maxima 48150000\n",
      "\n",
      "Intentando -0.937 1143 1 10\n",
      "\n",
      "Ganancia: 47442000 Ganancia Maxima 48150000\n",
      "\n"
     ]
    }
   ],
   "source": [
    "#Cuenta los modelos probados\n",
    "linea <- 1\n",
    "\n",
    "#Establece una ganancia inicial muy baja a superar\n",
    "max_gan <- -100000000\n",
    "\n",
    "#minsplit= minimo de split para seguir particionando el arbol.\n",
    "#maxdepth= maxima profundidad del arbol\n",
    "#minbucket = minimo de obs por clase.\n",
    "#CP= que tan distintos son los hijos al padr. mientras mayor mas diferenctes seran\n",
    "#For anidados para grid search \n",
    "\n",
    "#for( vmaxdepth in  c(4,8,14,16) ) #max Depth\n",
    "for( vmaxdepth in  c(9,10) ) #max Depth\n",
    "for( vcp in c(-0.819,-0.937)) #Complexity Factor\n",
    "#for( vcp in c( -1)) #Complexity Factor    \n",
    "#for( vminsplit in  c(2, 4, 8, 10, 15, 20, 30, 50, 100, 150, 200, 300, 400 ) ) #Min Split\n",
    "for( vminsplit in  c(830,1143) ) #Min Split\n",
    "for( vminbucket  in  unique( as.integer(c(1)) ) ) #Min Bucck\n",
    "{ \n",
    "\n",
    "    #Muestra los parametros a testear\n",
    "    message(paste('Intentando',vcp,vminsplit,vminbucket,vmaxdepth))\n",
    "    #Llama a la funcion que entrena el modelo y calcula la ganancia para esos parametros\n",
    "    res <- modelo_rpart_ganancia( dtrain, dtest, \n",
    "                                  pmaxdepth=vmaxdepth, pminbucket=vminbucket, pminsplit=vminsplit, pcp=vcp )\n",
    "\n",
    "  \n",
    "    #Verifica si se supero la mejor ganancia hasta el momento. En caso de haberla superado graba los hiperparametros nuevos\n",
    "    if (res>max_gan) {\n",
    "      max_gan <- res\n",
    "      message(paste(\"Nuevo Maximo: \", res*3, vcp,vminsplit,vminbucket,vmaxdepth))\n",
    "      pcp<-vcp\n",
    "      pminsplit<-vminsplit\n",
    "      pminbucket<-vminbucket\n",
    "      pmaxdepth<-vmaxdepth\n",
    "  }\n",
    "  #Muestra al ganancia de la iteracion\n",
    "  message(paste('Ganancia:',res*3,'Ganancia Maxima',max_gan*3))\n",
    "    \n",
    "  linea <- linea+1\n",
    "\n",
    "\n",
    "}"
   ]
  },
  {
   "cell_type": "code",
   "execution_count": 7,
   "metadata": {
    "vscode": {
     "languageId": "r"
    }
   },
   "outputs": [
    {
     "name": "stdout",
     "output_type": "stream",
     "text": [
      "[1] 14.8296\n"
     ]
    }
   ],
   "source": [
    "#Entrena el modelo con el dataset completo\n",
    "t0       <-  Sys.time()\n",
    "modelo   <-  rpart(\"clase_binaria ~ .\",   data = dataset,   xval=0, maxdepth=pmaxdepth, minbucket=pminbucket, minsplit=pminsplit, cp=pcp)\n",
    "t1       <-  Sys.time()\n",
    "\n",
    "tcorrida <-  as.numeric( t1 - t0, units = \"secs\")\n",
    "print( tcorrida)"
   ]
  },
  {
   "cell_type": "code",
   "execution_count": null,
   "metadata": {
    "vscode": {
     "languageId": "r"
    }
   },
   "outputs": [],
   "source": []
  },
  {
   "cell_type": "code",
   "execution_count": 8,
   "metadata": {
    "papermill": {
     "duration": 0.042756,
     "end_time": "2020-09-04T19:01:52.213056",
     "exception": false,
     "start_time": "2020-09-04T19:01:52.170300",
     "status": "completed"
    },
    "tags": [],
    "vscode": {
     "languageId": "r"
    }
   },
   "outputs": [
    {
     "data": {
      "text/plain": [
       "n= 324242 \n",
       "\n",
       "node), split, n, loss, yval, (yprob)\n",
       "      * denotes terminal node\n",
       "\n",
       "   1) root 324242 161342  (0.5024025265 0.4929281216 0.0046693519)  \n",
       "     2) foto_mes>=202102 162900      0  (1.0000000000 0.0000000000 0.0000000000) *\n",
       "     3) foto_mes< 202102 161342   1514 (-) (0.0000000000 0.9906162066 0.0093837934)  \n",
       "       6) ctrx_quarter>=13.5 152942    803 (-) (0.0000000000 0.9947496437 0.0052503563)  \n",
       "        12) Visa_status< 8 147445    673 (-) (0.0000000000 0.9954355862 0.0045644138)  \n",
       "          24) active_vs_mov< 2.667141 132842    325 (-) (0.0000000000 0.9975534846 0.0024465154)  \n",
       "            48) cproductos>=4.5 132841    324 (-) (0.0000000000 0.9975609940 0.0024390060)  \n",
       "              96) mpayroll>=8222.14 76471     51 (-) (0.0000000000 0.9993330805 0.0006669195)  \n",
       "               192) ccuenta_debitos_automaticos< 34.5 76460     50 (-) (0.0000000000 0.9993460633 0.0006539367)  \n",
       "                 384) mpayroll< 1830581 76348     47 (-) (0.0000000000 0.9993843978 0.0006156022)  \n",
       "                   768) ccajas_depositos< 3.5 76332     46 (-) (0.0000000000 0.9993973694 0.0006026306)  \n",
       "                    1536) cliente_edad< 80.5 76249     44 (-) (0.0000000000 0.9994229433 0.0005770567) *\n",
       "                    1537) cliente_edad>=80.5 83      2 (-) (0.0000000000 0.9759036145 0.0240963855) *\n",
       "                   769) ccajas_depositos>=3.5 16      1 (-) (0.0000000000 0.9375000000 0.0625000000) *\n",
       "                 385) mpayroll>=1830581 112      3 (-) (0.0000000000 0.9732142857 0.0267857143) *\n",
       "               193) ccuenta_debitos_automaticos>=34.5 11      1 (-) (0.0000000000 0.9090909091 0.0909090909) *\n",
       "              97) mpayroll< 8222.14 56370    273 (-) (0.0000000000 0.9951569984 0.0048430016)  \n",
       "               194) mpasivos_margen>=110.02 51009    193 (-) (0.0000000000 0.9962163540 0.0037836460)  \n",
       "                 388) catm_trx_other< 27 51007    192 (-) (0.0000000000 0.9962358108 0.0037641892)  \n",
       "                   776) ccallcenter_transacciones< 46 51004    191 (-) (0.0000000000 0.9962551957 0.0037448043)  \n",
       "                    1552) mpasivos_margen>=704.965 31636     67 (-) (0.0000000000 0.9978821596 0.0021178404) *\n",
       "                    1553) mpasivos_margen< 704.965 19368    124 (-) (0.0000000000 0.9935976869 0.0064023131) *\n",
       "                   777) ccallcenter_transacciones>=46 3      1 (-) (0.0000000000 0.6666666667 0.3333333333) *\n",
       "                 389) catm_trx_other>=27 2      1 (-) (0.0000000000 0.5000000000 0.5000000000) *\n",
       "               195) mpasivos_margen< 110.02 5361     80 (-) (0.0000000000 0.9850774109 0.0149225891)  \n",
       "                 390) numero_de_cliente>=3.11321e+07 5360     79 (-) (0.0000000000 0.9852611940 0.0147388060)  \n",
       "                   780) mpasivos_margen< 110 5359     78 (-) (0.0000000000 0.9854450457 0.0145549543)  \n",
       "                    1560) Visa_msaldototal>=3490.135 4122     36 (-) (0.0000000000 0.9912663755 0.0087336245) *\n",
       "                    1561) Visa_msaldototal< 3490.135 1237     42 (-) (0.0000000000 0.9660468876 0.0339531124) *\n",
       "                   781) mpasivos_margen>=110 1      0 (+) (0.0000000000 0.0000000000 1.0000000000) *\n",
       "                 391) numero_de_cliente< 3.11321e+07 1      0 (+) (0.0000000000 0.0000000000 1.0000000000) *\n",
       "            49) cproductos< 4.5 1      0 (+) (0.0000000000 0.0000000000 1.0000000000) *\n",
       "          25) active_vs_mov>=2.667141 14603    348 (-) (0.0000000000 0.9761692803 0.0238307197)  \n",
       "            50) mpasivos_margen>=74.005 10483    135 (-) (0.0000000000 0.9871220071 0.0128779929)  \n",
       "             100) cproductos>=4.5 10482    134 (-) (0.0000000000 0.9872161801 0.0127838199)  \n",
       "               200) mcuenta_corriente_adicional>=-20066.13 10481    133 (-) (0.0000000000 0.9873103711 0.0126896289)  \n",
       "                 400) cseguro_auto< 2.5 10480    132 (-) (0.0000000000 0.9874045802 0.0125954198)  \n",
       "                   800) mpasivos_margen>=237.455 6987     56 (-) (0.0000000000 0.9919851152 0.0080148848)  \n",
       "                    1600) ccallcenter_transacciones< 4.5 6889     50 (-) (0.0000000000 0.9927420525 0.0072579475) *\n",
       "                    1601) ccallcenter_transacciones>=4.5 98      6 (-) (0.0000000000 0.9387755102 0.0612244898) *\n",
       "                   801) mpasivos_margen< 237.455 3493     76 (-) (0.0000000000 0.9782421987 0.0217578013)  \n",
       "                    1602) mpasivos_margen< 237.255 3492     75 (-) (0.0000000000 0.9785223368 0.0214776632) *\n",
       "                    1603) mpasivos_margen>=237.255 1      0 (+) (0.0000000000 0.0000000000 1.0000000000) *\n",
       "                 401) cseguro_auto>=2.5 1      0 (+) (0.0000000000 0.0000000000 1.0000000000) *\n",
       "               201) mcuenta_corriente_adicional< -20066.13 1      0 (+) (0.0000000000 0.0000000000 1.0000000000) *\n",
       "             101) cproductos< 4.5 1      0 (+) (0.0000000000 0.0000000000 1.0000000000) *\n",
       "            51) mpasivos_margen< 74.005 4120    213 (-) (0.0000000000 0.9483009709 0.0516990291)  \n",
       "             102) mprestamos_personales>=14851.38 722      3 (-) (0.0000000000 0.9958448753 0.0041551247) *\n",
       "             103) mprestamos_personales< 14851.38 3398    210 (-) (0.0000000000 0.9381989406 0.0618010594)  \n",
       "               206) Visa_msaldototal>=1624.09 1780     69 (-) (0.0000000000 0.9612359551 0.0387640449)  \n",
       "                 412) mpasivos_margen< 73.9 1778     67 (-) (0.0000000000 0.9623172103 0.0376827897)  \n",
       "                   824) Visa_Fvencimiento< -652 1547     43 (-) (0.0000000000 0.9722042663 0.0277957337)  \n",
       "                    1648) matm_other< 34896.75 1546     42 (-) (0.0000000000 0.9728331177 0.0271668823) *\n",
       "                    1649) matm_other>=34896.75 1      0 (+) (0.0000000000 0.0000000000 1.0000000000) *\n",
       "                   825) Visa_Fvencimiento>=-652 231     24 (-) (0.0000000000 0.8961038961 0.1038961039) *\n",
       "                 413) mpasivos_margen>=73.9 2      0 (+) (0.0000000000 0.0000000000 1.0000000000) *\n",
       "               207) Visa_msaldototal< 1624.09 1618    141 (-) (0.0000000000 0.9128553770 0.0871446230)  \n",
       "                 414) cpayroll_trx>=0.5 333      2 (-) (0.0000000000 0.9939939940 0.0060060060) *\n",
       "                 415) cpayroll_trx< 0.5 1285    139 (-) (0.0000000000 0.8918287938 0.1081712062)  \n",
       "                   830) mpasivos_margen>=5.425 885     74 (-) (0.0000000000 0.9163841808 0.0836158192)  \n",
       "                    1660) Visa_mpagado< 1626.39 872     68 (-) (0.0000000000 0.9220183486 0.0779816514) *\n",
       "                    1661) Visa_mpagado>=1626.39 13      6 (-) (0.0000000000 0.5384615385 0.4615384615) *\n",
       "                   831) mpasivos_margen< 5.425 400     65 (-) (0.0000000000 0.8375000000 0.1625000000) *\n",
       "        13) Visa_status>=8 5497    130 (-) (0.0000000000 0.9763507368 0.0236492632)  \n",
       "          26) Master_status< 8 987     16 (-) (0.0000000000 0.9837892604 0.0162107396)  \n",
       "            52) Visa_mpagominimo>=187.68 743      7 (-) (0.0000000000 0.9905787349 0.0094212651) *\n",
       "            53) Visa_mpagominimo< 187.68 244      9 (-) (0.0000000000 0.9631147541 0.0368852459) *\n",
       "          27) Master_status>=8 4510    114 (-) (0.0000000000 0.9747228381 0.0252771619)  \n",
       "            54) ctarjeta_master_debitos_automaticos< 0.5 4499    107 (-) (0.0000000000 0.9762169371 0.0237830629)  \n",
       "             108) Master_mfinanciacion_limite< 304041.6 4310     91 (-) (0.0000000000 0.9788863109 0.0211136891)  \n",
       "               216) cpayroll_trx>=0.5 2664     12 (-) (0.0000000000 0.9954954955 0.0045045045)  \n",
       "                 432) mcuenta_corriente>=-577259.5 2663     11 (-) (0.0000000000 0.9958693203 0.0041306797)  \n",
       "                   864) avg_visa_master>=-2067.5 2662     10 (-) (0.0000000000 0.9962434260 0.0037565740)  \n",
       "                    1728) mcheques_depositados< 44766.51 2656      8 (-) (0.0000000000 0.9969879518 0.0030120482) *\n",
       "                    1729) mcheques_depositados>=44766.51 6      2 (-) (0.0000000000 0.6666666667 0.3333333333) *\n",
       "                   865) avg_visa_master< -2067.5 1      0 (+) (0.0000000000 0.0000000000 1.0000000000) *\n",
       "                 433) mcuenta_corriente< -577259.5 1      0 (+) (0.0000000000 0.0000000000 1.0000000000) *\n",
       "               217) cpayroll_trx< 0.5 1646     79 (-) (0.0000000000 0.9520048603 0.0479951397)  \n",
       "                 434) mprestamos_personales>=23414.17 794      8 (-) (0.0000000000 0.9899244332 0.0100755668) *\n",
       "                 435) mprestamos_personales< 23414.17 852     71 (-) (0.0000000000 0.9166666667 0.0833333333)  \n",
       "                   870) tcallcenter< 0.5 770     50 (-) (0.0000000000 0.9350649351 0.0649350649) *\n",
       "                   871) tcallcenter>=0.5 82     21 (-) (0.0000000000 0.7439024390 0.2560975610) *\n",
       "             109) Master_mfinanciacion_limite>=304041.6 189     16 (-) (0.0000000000 0.9153439153 0.0846560847) *\n",
       "            55) ctarjeta_master_debitos_automaticos>=0.5 11      4 (+) (0.0000000000 0.3636363636 0.6363636364) *\n",
       "       7) ctrx_quarter< 13.5 8400    711 (-) (0.0000000000 0.9153571429 0.0846428571)  \n",
       "        14) saldo_vs_mov>=-1506.462 5877    313 (-) (0.0000000000 0.9467415348 0.0532584652)  \n",
       "          28) mprestamos_personales>=52827.76 943      9 (-) (0.0000000000 0.9904559915 0.0095440085)  \n",
       "            56) minversion2< 2899.685 942      8 (-) (0.0000000000 0.9915074310 0.0084925690)  \n",
       "             112) Master_Fvencimiento< -103.5 933      7 (-) (0.0000000000 0.9924973205 0.0075026795)  \n",
       "               224) mrentabilidad_annual>=-51167.28 928      6 (-) (0.0000000000 0.9935344828 0.0064655172)  \n",
       "                 448) cprestamos_personales< 22.5 849      2 (-) (0.0000000000 0.9976442874 0.0023557126)  \n",
       "                   896) mcomisiones_mantenimiento< 1775.49 782      0 (-) (0.0000000000 1.0000000000 0.0000000000) *\n",
       "                   897) mcomisiones_mantenimiento>=1775.49 67      2 (-) (0.0000000000 0.9701492537 0.0298507463) *\n",
       "                 449) cprestamos_personales>=22.5 79      4 (-) (0.0000000000 0.9493670886 0.0506329114) *\n",
       "               225) mrentabilidad_annual< -51167.28 5      1 (-) (0.0000000000 0.8000000000 0.2000000000) *\n",
       "             113) Master_Fvencimiento>=-103.5 9      1 (-) (0.0000000000 0.8888888889 0.1111111111) *\n",
       "            57) minversion2>=2899.685 1      0 (+) (0.0000000000 0.0000000000 1.0000000000) *\n",
       "          29) mprestamos_personales< 52827.76 4934    304 (-) (0.0000000000 0.9383867045 0.0616132955)  \n",
       "            58) cdescubierto_preacordado>=0.5 4367    220 (-) (0.0000000000 0.9496221662 0.0503778338)  \n",
       "             116) Visa_status< 8 4024    190 (-) (0.0000000000 0.9527833002 0.0472166998)  \n",
       "               232) mcuentas_saldo>=275.575 2334     66 (-) (0.0000000000 0.9717223650 0.0282776350)  \n",
       "                 464) mprestamos_personales< 48882.47 2333     65 (-) (0.0000000000 0.9721388770 0.0278611230)  \n",
       "                   928) Master_fechaalta< 468 745      4 (-) (0.0000000000 0.9946308725 0.0053691275) *\n",
       "                   929) Master_fechaalta>=468 1588     61 (-) (0.0000000000 0.9615869018 0.0384130982)  \n",
       "                    1858) Master_fechaalta>=470.5 1587     60 (-) (0.0000000000 0.9621928166 0.0378071834) *\n",
       "                    1859) Master_fechaalta< 470.5 1      0 (+) (0.0000000000 0.0000000000 1.0000000000) *\n",
       "                 465) mprestamos_personales>=48882.47 1      0 (+) (0.0000000000 0.0000000000 1.0000000000) *\n",
       "               233) mcuentas_saldo< 275.575 1690    124 (-) (0.0000000000 0.9266272189 0.0733727811)  \n",
       "                 466) Visa_fechaalta< 113.5 316      3 (-) (0.0000000000 0.9905063291 0.0094936709) *\n",
       "                 467) Visa_fechaalta>=113.5 1374    121 (-) (0.0000000000 0.9119359534 0.0880640466)  \n",
       "                   934) cliente_antiguedad< 157 1203     93 (-) (0.0000000000 0.9226932668 0.0773067332)  \n",
       "                    1868) avg_visa_master>=-2036.75 1088     73 (-) (0.0000000000 0.9329044118 0.0670955882) *\n",
       "                    1869) avg_visa_master< -2036.75 115     20 (-) (0.0000000000 0.8260869565 0.1739130435) *\n",
       "                   935) cliente_antiguedad>=157 171     28 (-) (0.0000000000 0.8362573099 0.1637426901) *\n",
       "             117) Visa_status>=8 343     30 (-) (0.0000000000 0.9125364431 0.0874635569) *\n",
       "            59) cdescubierto_preacordado< 0.5 567     84 (-) (0.0000000000 0.8518518519 0.1481481481) *\n",
       "        15) saldo_vs_mov< -1506.462 2523    398 (-) (0.0000000000 0.8422512881 0.1577487119)  \n",
       "          30) cdescubierto_preacordado>=0.5 2144    277 (-) (0.0000000000 0.8708022388 0.1291977612)  \n",
       "            60) mpasivos_margen>=0.235 1150    104 (-) (0.0000000000 0.9095652174 0.0904347826)  \n",
       "             120) mcuenta_corriente< -700.725 1031     77 (-) (0.0000000000 0.9253152279 0.0746847721)  \n",
       "               240) mrentabilidad>=2151.29 438     16 (-) (0.0000000000 0.9634703196 0.0365296804) *\n",
       "               241) mrentabilidad< 2151.29 593     61 (-) (0.0000000000 0.8971332209 0.1028667791) *\n",
       "             121) mcuenta_corriente>=-700.725 119     27 (-) (0.0000000000 0.7731092437 0.2268907563) *\n",
       "            61) mpasivos_margen< 0.235 994    173 (-) (0.0000000000 0.8259557344 0.1740442656)  \n",
       "             122) cliente_antiguedad< 25.5 350     33 (-) (0.0000000000 0.9057142857 0.0942857143) *\n",
       "             123) cliente_antiguedad>=25.5 644    140 (-) (0.0000000000 0.7826086957 0.2173913043) *\n",
       "          31) cdescubierto_preacordado< 0.5 379    121 (-) (0.0000000000 0.6807387863 0.3192612137) *"
      ]
     },
     "metadata": {},
     "output_type": "display_data"
    }
   ],
   "source": [
    "#Detalles del modelo\n",
    "modelo"
   ]
  },
  {
   "cell_type": "code",
   "execution_count": 9,
   "metadata": {
    "papermill": {
     "duration": 2.186041,
     "end_time": "2020-09-04T19:04:18.120606",
     "exception": false,
     "start_time": "2020-09-04T19:04:15.934565",
     "status": "completed"
    },
    "tags": [],
    "vscode": {
     "languageId": "r"
    }
   },
   "outputs": [
    {
     "ename": "ERROR",
     "evalue": "Error in fread(karchivo_predecir): object 'karchivo_predecir' not found\n",
     "output_type": "error",
     "traceback": [
      "Error in fread(karchivo_predecir): object 'karchivo_predecir' not found\nTraceback:\n",
      "1. fread(karchivo_predecir)"
     ]
    }
   ],
   "source": [
    "#Leo datos a estimar\n",
    "dataset_pred <- fread(karchivo_predecir)\n",
    "\n",
    "\n",
    "#Genero la clase\n",
    "#dataset_pred[,(kobjetivo) := as.integer(dataset[,..kclase_nomcampo] == kclase_valor_positivo)]\n",
    "\n",
    "#Limpio campos a borrar\n",
    "#dataset_pred[ ,  (kcampos_a_borrar) := NULL    ] \n",
    "\n",
    "prediccion  <- predict( modelo, dataset_pred ) #aplico el modelo"
   ]
  },
  {
   "cell_type": "code",
   "execution_count": null,
   "metadata": {
    "papermill": {
     "duration": 2.186041,
     "end_time": "2020-09-04T19:04:18.120606",
     "exception": false,
     "start_time": "2020-09-04T19:04:15.934565",
     "status": "completed"
    },
    "tags": [],
    "vscode": {
     "languageId": "r"
    }
   },
   "outputs": [],
   "source": [
    "dataset_pred[ , prob_baja := prediccion]\n",
    "dataset_pred[ , Predicted  := as.numeric(prob_baja > 0.025) ]\n",
    "\n",
    "entrega  <- dataset_pred[   , list(numero_de_cliente, Predicted) ] #genero la salida\n",
    "\n",
    "#genero el archivo para Kaggle\n",
    "fwrite( entrega, file=\"./salida_rpart_grid.csv\", sep=\",\" )"
   ]
  },
  {
   "cell_type": "code",
   "execution_count": null,
   "metadata": {
    "papermill": {
     "duration": 0.195911,
     "end_time": "2020-09-04T19:04:21.274063",
     "exception": false,
     "start_time": "2020-09-04T19:04:21.078152",
     "status": "completed"
    },
    "tags": [],
    "vscode": {
     "languageId": "r"
    }
   },
   "outputs": [],
   "source": []
  },
  {
   "cell_type": "code",
   "execution_count": null,
   "metadata": {
    "vscode": {
     "languageId": "r"
    }
   },
   "outputs": [],
   "source": []
  }
 ],
 "metadata": {
  "kernelspec": {
   "display_name": "R",
   "language": "R",
   "name": "ir"
  },
  "language_info": {
   "codemirror_mode": "r",
   "file_extension": ".r",
   "mimetype": "text/x-r-source",
   "name": "R",
   "pygments_lexer": "r",
   "version": "4.2.1"
  },
  "papermill": {
   "duration": 216.919775,
   "end_time": "2020-09-04T19:04:21.680072",
   "environment_variables": {},
   "exception": null,
   "input_path": "__notebook__.ipynb",
   "output_path": "__notebook__.ipynb",
   "parameters": {},
   "start_time": "2020-09-04T19:00:44.760297",
   "version": "2.1.2"
  }
 },
 "nbformat": 4,
 "nbformat_minor": 4
}
