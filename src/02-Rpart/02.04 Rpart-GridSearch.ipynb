{
 "cells": [
  {
   "cell_type": "code",
   "execution_count": 1,
   "metadata": {
    "papermill": {
     "duration": 1.629423,
     "end_time": "2020-09-04T19:00:49.168162",
     "exception": false,
     "start_time": "2020-09-04T19:00:47.538739",
     "status": "completed"
    },
    "tags": [],
    "vscode": {
     "languageId": "r"
    }
   },
   "outputs": [
    {
     "data": {
      "text/html": [
       "<table class=\"dataframe\">\n",
       "<caption>A matrix: 2 × 6 of type dbl</caption>\n",
       "<thead>\n",
       "\t<tr><th></th><th scope=col>used</th><th scope=col>(Mb)</th><th scope=col>gc trigger</th><th scope=col>(Mb)</th><th scope=col>max used</th><th scope=col>(Mb)</th></tr>\n",
       "</thead>\n",
       "<tbody>\n",
       "\t<tr><th scope=row>Ncells</th><td> 604293</td><td>32.3</td><td>1291145</td><td>69</td><td>1291145</td><td>69.0</td></tr>\n",
       "\t<tr><th scope=row>Vcells</th><td>1086160</td><td> 8.3</td><td>8388608</td><td>64</td><td>1633205</td><td>12.5</td></tr>\n",
       "</tbody>\n",
       "</table>\n"
      ],
      "text/latex": [
       "A matrix: 2 × 6 of type dbl\n",
       "\\begin{tabular}{r|llllll}\n",
       "  & used & (Mb) & gc trigger & (Mb) & max used & (Mb)\\\\\n",
       "\\hline\n",
       "\tNcells &  604293 & 32.3 & 1291145 & 69 & 1291145 & 69.0\\\\\n",
       "\tVcells & 1086160 &  8.3 & 8388608 & 64 & 1633205 & 12.5\\\\\n",
       "\\end{tabular}\n"
      ],
      "text/markdown": [
       "\n",
       "A matrix: 2 × 6 of type dbl\n",
       "\n",
       "| <!--/--> | used | (Mb) | gc trigger | (Mb) | max used | (Mb) |\n",
       "|---|---|---|---|---|---|---|\n",
       "| Ncells |  604293 | 32.3 | 1291145 | 69 | 1291145 | 69.0 |\n",
       "| Vcells | 1086160 |  8.3 | 8388608 | 64 | 1633205 | 12.5 |\n",
       "\n"
      ],
      "text/plain": [
       "       used    (Mb) gc trigger (Mb) max used (Mb)\n",
       "Ncells  604293 32.3 1291145    69   1291145  69.0\n",
       "Vcells 1086160  8.3 8388608    64   1633205  12.5"
      ]
     },
     "metadata": {},
     "output_type": "display_data"
    },
    {
     "name": "stderr",
     "output_type": "stream",
     "text": [
      "Loading required package: ggplot2\n",
      "\n",
      "Loading required package: lattice\n",
      "\n"
     ]
    }
   ],
   "source": [
    "#limpio la memoria\n",
    "rm(list=ls())\n",
    "gc()\n",
    "\n",
    "#cargo librerias\n",
    "library(\"data.table\")\n",
    "library(\"ROCR\")\n",
    "library(\"rpart\")\n",
    "library(\"rpart.plot\")\n",
    "library(\"caret\")"
   ]
  },
  {
   "cell_type": "code",
   "execution_count": 2,
   "metadata": {
    "papermill": {
     "duration": 0.279475,
     "end_time": "2020-09-04T19:00:49.466032",
     "exception": false,
     "start_time": "2020-09-04T19:00:49.186557",
     "status": "completed"
    },
    "tags": [],
    "vscode": {
     "languageId": "r"
    }
   },
   "outputs": [],
   "source": [
    "setwd(\"~/lab1/\")\n",
    "\n",
    "#Parametros entrada\n",
    "\n",
    "#kcarpeta_datasets    <- \"../input/laboratorio-de-implementacion-i-2021/\"   #KAGGLE\n",
    "kcarpeta_datasets    <- \"./datasets/\"                          #VM o Ubuntu\n",
    "\n",
    "#Archivo con datos etiquetados para entrenamiento\n",
    "karchivo_entrada      <-  paste0(kcarpeta_datasets, \"competencia1_2022.csv\")\n",
    "\n",
    "#Formato para submit en Kaggle\n",
    "#karchivo_score      <-  \"../input/uamds2020ldi1f1/Sample_201910_Fase_I.txt\"\n",
    "\n",
    "#Separador de campos en archivos\n",
    "kcampos_separador     <-  \"\\t\"\n",
    "\n",
    "#Campo que identifica las muestras\n",
    "kcampo_id             <-  \"numero_de_cliente\"\n",
    "\n",
    "#Campo que contiene la clase a estimar\n",
    "kclase_nomcampo       <-  \"clase_ternaria\"\n",
    "\n",
    "#Valor de interés\n",
    "kclase_valor_positivo <-  \"BAJA+2\"\n",
    "\n",
    "#Campos a borrar para el entrenamiento\n",
    "kcampos_a_borrar      <-  c(kcampo_id,kclase_nomcampo,\"foto_mes\")\n",
    "\n",
    "#Campo que contendrá a la variable objetivo generada\n",
    "kobjetivo             <-  \"clase\"\n",
    "\n",
    "#Identificación del modelo\n",
    "kmodelo               <-  \"02-RPART\"\n",
    "\n",
    "#Ganancia por TP\n",
    "kTPGain               <-  78000\n",
    "\n",
    "#Pérdida por FP\n",
    "kFPGain               <-  -2000\n",
    "\n",
    "#Establezco semilla aleatoria\n",
    "set.seed(1)\n",
    "\n"
   ]
  },
  {
   "cell_type": "code",
   "execution_count": 3,
   "metadata": {
    "papermill": {
     "duration": 3.125502,
     "end_time": "2020-09-04T19:00:52.608890",
     "exception": false,
     "start_time": "2020-09-04T19:00:49.483388",
     "status": "completed"
    },
    "tags": [],
    "vscode": {
     "languageId": "r"
    }
   },
   "outputs": [],
   "source": [
    "#cargo los datos\n",
    "dataset <- fread(karchivo_entrada)\n",
    "\n",
    "#Para hacer pruebas rapidas puedo reducir el dataset a una fraccion\n",
    "#subsample <- sample(1:nrow(dataset), .1 * nrow(dataset))\n",
    "#dataset <- dataset[subsample,]\n",
    "\n",
    "dtrain  <- dataset[ foto_mes==202101 ]  #defino donde voy a entrenar\n",
    "\n",
    "train_rows <- createDataPartition(dtrain$clase, p = .66, list = FALSE)\n",
    "\n",
    "#train_rows <- sample(1:nrow(dataset), .66 * nrow(dataset))\n",
    "dtest <- dtrain[-train_rows,]\n",
    "dtrain <- dtrain[train_rows,]\n",
    "\n",
    "dapply  <- dataset[ foto_mes==202103 ]  #defino donde voy a aplicar el modelo"
   ]
  },
  {
   "cell_type": "code",
   "execution_count": 4,
   "metadata": {
    "vscode": {
     "languageId": "r"
    }
   },
   "outputs": [],
   "source": [
    "#Funcion que calcula la ganancia para una prediccion y valores reales\n",
    "fmetrica_ganancia_rpart  = function( probs, clases, pclase_valor_positivo )\n",
    "{\n",
    " \n",
    "  return(  sum(    (probs > 1/40 ) * \n",
    "                   ifelse( clases== pclase_valor_positivo, kTPGain, kFPGain )   \n",
    "              )\n",
    "         )\n",
    "}"
   ]
  },
  {
   "cell_type": "code",
   "execution_count": 5,
   "metadata": {
    "vscode": {
     "languageId": "r"
    }
   },
   "outputs": [],
   "source": [
    "# Funcion que entrena el arbol y luego determina la ganancia sobre el set de test\n",
    "modelo_rpart_ganancia = function( ptrain, ptest, pmaxdepth, pminbucket, pminsplit, pcp )\n",
    "{\n",
    "\n",
    "  modelo   <-  rpart(\"clase_ternaria ~ .\",   data = ptrain,  xval=0, maxdepth=pmaxdepth, minbucket=pminbucket, minsplit=pminsplit, cp=pcp)\n",
    "\n",
    "  #aplico el modelo a datos nuevos\n",
    "  testing_prediccion  <- predict( modelo, ptest)[, \"BAJA+2\"]\n",
    "    \n",
    "  return(fmetrica_ganancia_rpart(testing_prediccion,ptest[,..kclase_nomcampo],\"BAJA+2\"))\n",
    "  \n",
    "}"
   ]
  },
  {
   "cell_type": "code",
   "execution_count": 6,
   "metadata": {
    "vscode": {
     "languageId": "r"
    }
   },
   "outputs": [
    {
     "name": "stderr",
     "output_type": "stream",
     "text": [
      "Intentando -0.0478 1397 6 14\n",
      "\n",
      "Nuevo Maximo:  17328000 -0.0478 1397 6 14\n",
      "\n",
      "Ganancia: 17328000 Ganancia Maxima 17328000\n",
      "\n"
     ]
    }
   ],
   "source": [
    "#Cuenta los modelos probados\n",
    "linea <- 1\n",
    "\n",
    "#Establece una ganancia inicial muy baja a superar\n",
    "max_gan <- -100000000\n",
    "\n",
    "#minsplit= minimo de split para seguir particionando el arbol.\n",
    "#maxdepth= maxima profundidad del arbol\n",
    "#minbucket = minimo de obs por clase.\n",
    "#CP= que tan distintos son los hijos al padr. mientras mayor mas diferenctes seran\n",
    "#For anidados para grid search \n",
    "\n",
    "#for( vmaxdepth in  c(4,8,14,16) ) #max Depth\n",
    "for( vmaxdepth in  c(14) ) #max Depth\n",
    "for( vcp in c(-0.0478)) #Complexity Factor\n",
    "#for( vcp in c( -1)) #Complexity Factor    \n",
    "for( vminsplit in  c(1397 ) ) #Min Split\n",
    "#for( vminsplit in  c(10, 15) ) #Min Split\n",
    "for( vminbucket  in  unique( as.integer(c(6 )) ) ) #Min Bucket\n",
    "{ \n",
    "\n",
    "    #Muestra los parametros a testear\n",
    "    message(paste('Intentando',vcp,vminsplit,vminbucket,vmaxdepth))\n",
    "    #Llama a la funcion que entrena el modelo y calcula la ganancia para esos parametros\n",
    "    res <- modelo_rpart_ganancia( dtrain, dtest, \n",
    "                                  pmaxdepth=vmaxdepth, pminbucket=vminbucket, pminsplit=vminsplit, pcp=vcp )\n",
    "\n",
    "  \n",
    "    #Verifica si se supero la mejor ganancia hasta el momento. En caso de haberla superado graba los hiperparametros nuevos\n",
    "    if (res>max_gan) {\n",
    "      max_gan <- res\n",
    "      message(paste(\"Nuevo Maximo: \", res*3, vcp,vminsplit,vminbucket,vmaxdepth))\n",
    "      pcp<-vcp\n",
    "      pminsplit<-vminsplit\n",
    "      pminbucket<-vminbucket\n",
    "      pmaxdepth<-vmaxdepth\n",
    "  }\n",
    "  #Muestra al ganancia de la iteracion\n",
    "  message(paste('Ganancia:',res*3,'Ganancia Maxima',max_gan*3))\n",
    "    \n",
    "  linea <- linea+1\n",
    "\n",
    "\n",
    "}"
   ]
  },
  {
   "cell_type": "code",
   "execution_count": 7,
   "metadata": {
    "vscode": {
     "languageId": "r"
    }
   },
   "outputs": [
    {
     "name": "stdout",
     "output_type": "stream",
     "text": [
      "[1] 29.18908\n"
     ]
    }
   ],
   "source": [
    "#Entrena el modelo con el dataset completo\n",
    "t0       <-  Sys.time()\n",
    "modelo   <-  rpart(\"clase_ternaria ~ .\",   data = dataset,   xval=0, maxdepth=pmaxdepth, minbucket=pminbucket, minsplit=pminsplit, cp=pcp)\n",
    "t1       <-  Sys.time()\n",
    "\n",
    "tcorrida <-  as.numeric( t1 - t0, units = \"secs\")\n",
    "print( tcorrida)"
   ]
  },
  {
   "cell_type": "code",
   "execution_count": null,
   "metadata": {
    "vscode": {
     "languageId": "r"
    }
   },
   "outputs": [],
   "source": []
  },
  {
   "cell_type": "code",
   "execution_count": 9,
   "metadata": {
    "papermill": {
     "duration": 0.042756,
     "end_time": "2020-09-04T19:01:52.213056",
     "exception": false,
     "start_time": "2020-09-04T19:01:52.170300",
     "status": "completed"
    },
    "tags": [],
    "vscode": {
     "languageId": "r"
    }
   },
   "outputs": [
    {
     "data": {
      "text/plain": [
       "n= 324242 \n",
       "\n",
       "node), split, n, loss, yval, (yprob)\n",
       "      * denotes terminal node\n",
       "\n",
       "    1) root 324242 161342  (5.024025e-01 2.047853e-03 2.621499e-03 4.929281e-01)  \n",
       "      2) foto_mes>=202102 162900      0  (1.000000e+00 0.000000e+00 0.000000e+00 0.000000e+00) *\n",
       "      3) foto_mes< 202102 161342   1514 CONTINUA (0.000000e+00 4.115481e-03 5.268312e-03 9.906162e-01)  \n",
       "        6) ctrx_quarter< 13.5 8400    711 CONTINUA (0.000000e+00 3.476190e-02 4.988095e-02 9.153571e-01)  \n",
       "         12) mcuentas_saldo< -1256.1 2928    416 CONTINUA (0.000000e+00 6.181694e-02 8.025956e-02 8.579235e-01)  \n",
       "           24) cprestamos_personales< 1.5 2328    396 CONTINUA (0.000000e+00 7.431271e-02 9.579038e-02 8.298969e-01)  \n",
       "             48) cdescubierto_preacordado< 0.5 321    116 CONTINUA (0.000000e+00 1.713396e-01 1.900312e-01 6.386293e-01) *\n",
       "             49) cdescubierto_preacordado>=0.5 2007    280 CONTINUA (0.000000e+00 5.879422e-02 8.071749e-02 8.604883e-01)  \n",
       "               98) mpasivos_margen< 8.05 1339    221 CONTINUA (0.000000e+00 6.348021e-02 1.015683e-01 8.349515e-01)  \n",
       "                196) Visa_fechaalta>=720.5 867    177 CONTINUA (0.000000e+00 8.073818e-02 1.234141e-01 7.958478e-01)  \n",
       "                  392) mrentabilidad_annual< 14671.11 547    130 CONTINUA (0.000000e+00 1.042048e-01 1.334552e-01 7.623400e-01)  \n",
       "                    784) mrentabilidad>=1233.845 347     98 CONTINUA (0.000000e+00 1.354467e-01 1.469741e-01 7.175793e-01) *\n",
       "                    785) mrentabilidad< 1233.845 200     32 CONTINUA (0.000000e+00 5.000000e-02 1.100000e-01 8.400000e-01) *\n",
       "                  393) mrentabilidad_annual>=14671.11 320     47 CONTINUA (0.000000e+00 4.062500e-02 1.062500e-01 8.531250e-01) *\n",
       "                197) Visa_fechaalta< 720.5 472     44 CONTINUA (0.000000e+00 3.177966e-02 6.144068e-02 9.067797e-01)  \n",
       "                  394) mcuentas_saldo>=-6611.745 223     29 CONTINUA (0.000000e+00 5.829596e-02 7.174888e-02 8.699552e-01) *\n",
       "                  395) mcuentas_saldo< -6611.745 249     15 CONTINUA (0.000000e+00 8.032129e-03 5.220884e-02 9.397590e-01) *\n",
       "               99) mpasivos_margen>=8.05 668     59 CONTINUA (0.000000e+00 4.940120e-02 3.892216e-02 9.116766e-01)  \n",
       "                198) mcuentas_saldo>=-5155.265 237     34 CONTINUA (0.000000e+00 8.438819e-02 5.907173e-02 8.565401e-01) *\n",
       "                199) mcuentas_saldo< -5155.265 431     25 CONTINUA (0.000000e+00 3.016241e-02 2.784223e-02 9.419954e-01)  \n",
       "                  398) mrentabilidad< 2152.495 225     17 CONTINUA (0.000000e+00 4.000000e-02 3.555556e-02 9.244444e-01) *\n",
       "                  399) mrentabilidad>=2152.495 206      8 CONTINUA (0.000000e+00 1.941748e-02 1.941748e-02 9.611650e-01) *\n",
       "           25) cprestamos_personales>=1.5 600     20 CONTINUA (0.000000e+00 1.333333e-02 2.000000e-02 9.666667e-01)  \n",
       "             50) ctrx_quarter< 1.5 209     13 CONTINUA (0.000000e+00 1.913876e-02 4.306220e-02 9.377990e-01) *\n",
       "             51) ctrx_quarter>=1.5 391      7 CONTINUA (0.000000e+00 1.023018e-02 7.672634e-03 9.820972e-01) *\n",
       "         13) mcuentas_saldo>=-1256.1 5472    295 CONTINUA (0.000000e+00 2.028509e-02 3.362573e-02 9.460892e-01)  \n",
       "           26) mcaja_ahorro< 2601.125 3371    236 CONTINUA (0.000000e+00 2.521507e-02 4.479383e-02 9.299911e-01)  \n",
       "             52) Visa_fechaalta>=4538.5 434     56 CONTINUA (0.000000e+00 3.686636e-02 9.216590e-02 8.709677e-01)  \n",
       "              104) ctarjeta_visa>=0.5 214     33 CONTINUA (0.000000e+00 3.738318e-02 1.168224e-01 8.457944e-01) *\n",
       "              105) ctarjeta_visa< 0.5 220     23 CONTINUA (0.000000e+00 3.636364e-02 6.818182e-02 8.954545e-01) *\n",
       "             53) Visa_fechaalta< 4538.5 2937    180 CONTINUA (0.000000e+00 2.349336e-02 3.779367e-02 9.387130e-01)  \n",
       "              106) mprestamos_personales< 37011.26 2560    179 CONTINUA (0.000000e+00 2.656250e-02 4.335937e-02 9.300781e-01)  \n",
       "                212) cdescubierto_preacordado< 0.5 313     54 CONTINUA (0.000000e+00 4.472843e-02 1.277955e-01 8.274760e-01) *\n",
       "                213) cdescubierto_preacordado>=0.5 2247    125 CONTINUA (0.000000e+00 2.403204e-02 3.159769e-02 9.443703e-01)  \n",
       "                  426) Visa_fechaalta>=115.5 1897    122 CONTINUA (0.000000e+00 2.846600e-02 3.584607e-02 9.356879e-01)  \n",
       "                    852) Visa_msaldopesos< 2150.3 1526    112 CONTINUA (0.000000e+00 3.276540e-02 4.062910e-02 9.266055e-01)  \n",
       "                     1704) mcuentas_saldo< 124.355 901     83 CONTINUA (0.000000e+00 4.106548e-02 5.105438e-02 9.078801e-01)  \n",
       "                       3408) thomebanking>=0.5 215     28 CONTINUA (0.000000e+00 7.441860e-02 5.581395e-02 8.697674e-01) *\n",
       "                       3409) thomebanking< 0.5 686     55 CONTINUA (0.000000e+00 3.061224e-02 4.956268e-02 9.198251e-01)  \n",
       "                         6818) Master_mfinanciacion_limite>=114015.6 327     36 CONTINUA (0.000000e+00 4.587156e-02 6.422018e-02 8.899083e-01) *\n",
       "                         6819) Master_mfinanciacion_limite< 114015.6 359     19 CONTINUA (0.000000e+00 1.671309e-02 3.621170e-02 9.470752e-01) *\n",
       "                     1705) mcuentas_saldo>=124.355 625     29 CONTINUA (0.000000e+00 2.080000e-02 2.560000e-02 9.536000e-01)  \n",
       "                       3410) mrentabilidad_annual>=2259.635 344     22 CONTINUA (0.000000e+00 3.197674e-02 3.197674e-02 9.360465e-01) *\n",
       "                       3411) mrentabilidad_annual< 2259.635 281      7 CONTINUA (0.000000e+00 7.117438e-03 1.779359e-02 9.750890e-01) *\n",
       "                    853) Visa_msaldopesos>=2150.3 371     10 CONTINUA (0.000000e+00 1.078167e-02 1.617251e-02 9.730458e-01) *\n",
       "                  427) Visa_fechaalta< 115.5 350      3 CONTINUA (0.000000e+00 0.000000e+00 8.571429e-03 9.914286e-01) *\n",
       "              107) mprestamos_personales>=37011.26 377      1 CONTINUA (0.000000e+00 2.652520e-03 0.000000e+00 9.973475e-01) *\n",
       "           27) mcaja_ahorro>=2601.125 2101     59 CONTINUA (0.000000e+00 1.237506e-02 1.570681e-02 9.719181e-01)  \n",
       "             54) ctarjeta_master< 0.5 519     28 CONTINUA (0.000000e+00 2.504817e-02 2.890173e-02 9.460501e-01)  \n",
       "              108) mprestamos_personales< 31598.16 296     26 CONTINUA (0.000000e+00 4.391892e-02 4.391892e-02 9.121622e-01) *\n",
       "              109) mprestamos_personales>=31598.16 223      2 CONTINUA (0.000000e+00 0.000000e+00 8.968610e-03 9.910314e-01) *\n",
       "             55) ctarjeta_master>=0.5 1582     31 CONTINUA (0.000000e+00 8.217446e-03 1.137800e-02 9.804046e-01)  \n",
       "              110) Visa_Fvencimiento>=-925.5 276     14 CONTINUA (0.000000e+00 2.173913e-02 2.898551e-02 9.492754e-01) *\n",
       "              111) Visa_Fvencimiento< -925.5 1306     17 CONTINUA (0.000000e+00 5.359877e-03 7.656968e-03 9.869832e-01)  \n",
       "                222) Master_fechaalta>=582.5 662     15 CONTINUA (0.000000e+00 9.063444e-03 1.359517e-02 9.773414e-01)  \n",
       "                  444) numero_de_cliente>=1.02321e+08 256     10 CONTINUA (0.000000e+00 1.953125e-02 1.953125e-02 9.609375e-01) *\n",
       "                  445) numero_de_cliente< 1.02321e+08 406      5 CONTINUA (0.000000e+00 2.463054e-03 9.852217e-03 9.876847e-01)  \n",
       "                    890) cliente_edad>=55.5 201      4 CONTINUA (0.000000e+00 0.000000e+00 1.990050e-02 9.800995e-01) *\n",
       "                    891) cliente_edad< 55.5 205      1 CONTINUA (0.000000e+00 4.878049e-03 0.000000e+00 9.951220e-01) *\n",
       "                223) Master_fechaalta< 582.5 644      2 CONTINUA (0.000000e+00 1.552795e-03 1.552795e-03 9.968944e-01)  \n",
       "                  446) mpasivos_margen< 146.84 200      2 CONTINUA (0.000000e+00 5.000000e-03 5.000000e-03 9.900000e-01) *\n",
       "                  447) mpasivos_margen>=146.84 444      0 CONTINUA (0.000000e+00 0.000000e+00 0.000000e+00 1.000000e+00) *\n",
       "        7) ctrx_quarter>=13.5 152942    803 CONTINUA (0.000000e+00 2.432295e-03 2.818062e-03 9.947496e-01)  \n",
       "         14) ctrx_quarter< 29.5 10241    325 CONTINUA (0.000000e+00 1.533053e-02 1.640465e-02 9.682648e-01)  \n",
       "           28) mcaja_ahorro< 2604.25 4767    252 CONTINUA (0.000000e+00 2.475351e-02 2.810992e-02 9.471366e-01)  \n",
       "             56) Visa_msaldototal< 1624.09 2207    163 CONTINUA (0.000000e+00 3.579520e-02 3.806072e-02 9.261441e-01)  \n",
       "              112) mprestamos_personales< 14858.41 1534    153 CONTINUA (0.000000e+00 5.019557e-02 4.954368e-02 9.002608e-01)  \n",
       "                224) mpasivos_margen< 5.835 488     75 CONTINUA (0.000000e+00 8.401639e-02 6.967213e-02 8.463115e-01)  \n",
       "                  448) mcomisiones_mantenimiento>=1339.005 230     47 CONTINUA (0.000000e+00 1.217391e-01 8.260870e-02 7.956522e-01) *\n",
       "                  449) mcomisiones_mantenimiento< 1339.005 258     28 CONTINUA (0.000000e+00 5.038760e-02 5.813953e-02 8.914729e-01) *\n",
       "                225) mpasivos_margen>=5.835 1046     78 CONTINUA (0.000000e+00 3.441683e-02 4.015296e-02 9.254302e-01)  \n",
       "                  450) chomebanking_transacciones>=16.5 250     30 CONTINUA (0.000000e+00 6.000000e-02 6.000000e-02 8.800000e-01) *\n",
       "                  451) chomebanking_transacciones< 16.5 796     48 CONTINUA (0.000000e+00 2.638191e-02 3.391960e-02 9.396985e-01)  \n",
       "                    902) mcomisiones>=154.52 545     41 CONTINUA (0.000000e+00 3.302752e-02 4.220183e-02 9.247706e-01)  \n",
       "                     1804) mcomisiones< 1299.65 248     26 CONTINUA (0.000000e+00 5.645161e-02 4.838710e-02 8.951613e-01) *\n",
       "                     1805) mcomisiones>=1299.65 297     15 CONTINUA (0.000000e+00 1.346801e-02 3.703704e-02 9.494949e-01) *\n",
       "                    903) mcomisiones< 154.52 251      7 CONTINUA (0.000000e+00 1.195219e-02 1.593625e-02 9.721116e-01) *\n",
       "              113) mprestamos_personales>=14858.41 673     10 CONTINUA (0.000000e+00 2.971768e-03 1.188707e-02 9.851412e-01)  \n",
       "                226) mprestamos_personales< 84259.97 312      8 CONTINUA (0.000000e+00 3.205128e-03 2.243590e-02 9.743590e-01) *\n",
       "                227) mprestamos_personales>=84259.97 361      2 CONTINUA (0.000000e+00 2.770083e-03 2.770083e-03 9.944598e-01) *\n",
       "             57) Visa_msaldototal>=1624.09 2560     89 CONTINUA (0.000000e+00 1.523437e-02 1.953125e-02 9.652344e-01)  \n",
       "              114) mtarjeta_visa_consumo< 1714.15 200     16 CONTINUA (0.000000e+00 4.500000e-02 3.500000e-02 9.200000e-01) *\n",
       "              115) mtarjeta_visa_consumo>=1714.15 2360     73 CONTINUA (0.000000e+00 1.271186e-02 1.822034e-02 9.690678e-01)  \n",
       "                230) chomebanking_transacciones>=20.5 665     35 CONTINUA (0.000000e+00 2.406015e-02 2.857143e-02 9.473684e-01)  \n",
       "                  460) mpasivos_margen< 115.51 339     26 CONTINUA (0.000000e+00 3.244838e-02 4.424779e-02 9.233038e-01) *\n",
       "                  461) mpasivos_margen>=115.51 326      9 CONTINUA (0.000000e+00 1.533742e-02 1.226994e-02 9.723926e-01) *\n",
       "                231) chomebanking_transacciones< 20.5 1695     38 CONTINUA (0.000000e+00 8.259587e-03 1.415929e-02 9.775811e-01)  \n",
       "                  462) Visa_Fvencimiento>=-682.5 212     12 CONTINUA (0.000000e+00 2.358491e-02 3.301887e-02 9.433962e-01) *\n",
       "                  463) Visa_Fvencimiento< -682.5 1483     26 CONTINUA (0.000000e+00 6.068780e-03 1.146325e-02 9.824680e-01)  \n",
       "                    926) mrentabilidad>=329.755 835     22 CONTINUA (0.000000e+00 9.580838e-03 1.676647e-02 9.736527e-01)  \n",
       "                     1852) mrentabilidad_annual< 9303.345 319     13 CONTINUA (0.000000e+00 9.404389e-03 3.134796e-02 9.592476e-01) *\n",
       "                     1853) mrentabilidad_annual>=9303.345 516      9 CONTINUA (0.000000e+00 9.689922e-03 7.751938e-03 9.825581e-01)  \n",
       "                       3706) mtarjeta_visa_consumo< 6253.655 249      8 CONTINUA (0.000000e+00 2.008032e-02 1.204819e-02 9.678715e-01) *\n",
       "                       3707) mtarjeta_visa_consumo>=6253.655 267      1 CONTINUA (0.000000e+00 0.000000e+00 3.745318e-03 9.962547e-01) *\n",
       "                    927) mrentabilidad< 329.755 648      4 CONTINUA (0.000000e+00 1.543210e-03 4.629630e-03 9.938272e-01)  \n",
       "                     1854) cliente_edad>=54.5 208      4 CONTINUA (0.000000e+00 4.807692e-03 1.442308e-02 9.807692e-01) *\n",
       "                     1855) cliente_edad< 54.5 440      0 CONTINUA (0.000000e+00 0.000000e+00 0.000000e+00 1.000000e+00) *\n",
       "           29) mcaja_ahorro>=2604.25 5474     73 CONTINUA (0.000000e+00 7.124589e-03 6.211180e-03 9.866642e-01)  \n",
       "             58) ctarjeta_visa< 0.5 258     14 CONTINUA (0.000000e+00 3.100775e-02 2.325581e-02 9.457364e-01) *\n",
       "             59) ctarjeta_visa>=0.5 5216     59 CONTINUA (0.000000e+00 5.943252e-03 5.368098e-03 9.886887e-01)  \n",
       "              118) mpasivos_margen< 185.055 1602     35 CONTINUA (0.000000e+00 1.498127e-02 6.866417e-03 9.781523e-01)  \n",
       "                236) mrentabilidad>=1203.715 634     25 CONTINUA (0.000000e+00 2.839117e-02 1.104101e-02 9.605678e-01)  \n",
       "                  472) mrentabilidad< 1995.495 334     21 CONTINUA (0.000000e+00 4.790419e-02 1.497006e-02 9.371257e-01) *\n",
       "                  473) mrentabilidad>=1995.495 300      4 CONTINUA (0.000000e+00 6.666667e-03 6.666667e-03 9.866667e-01) *\n",
       "                237) mrentabilidad< 1203.715 968     10 CONTINUA (0.000000e+00 6.198347e-03 4.132231e-03 9.896694e-01)  \n",
       "                  474) Visa_msaldototal< 2850.395 520     10 CONTINUA (0.000000e+00 1.153846e-02 7.692308e-03 9.807692e-01)  \n",
       "                    948) cpayroll_trx< 0.5 261     10 CONTINUA (0.000000e+00 2.298851e-02 1.532567e-02 9.616858e-01) *\n",
       "                    949) cpayroll_trx>=0.5 259      0 CONTINUA (0.000000e+00 0.000000e+00 0.000000e+00 1.000000e+00) *\n",
       "                  475) Visa_msaldototal>=2850.395 448      0 CONTINUA (0.000000e+00 0.000000e+00 0.000000e+00 1.000000e+00) *\n",
       "              119) mpasivos_margen>=185.055 3614     24 CONTINUA (0.000000e+00 1.936912e-03 4.703929e-03 9.933592e-01)  \n",
       "                238) cliente_edad< 32.5 224      6 CONTINUA (0.000000e+00 1.339286e-02 1.339286e-02 9.732143e-01) *\n",
       "                239) cliente_edad>=32.5 3390     18 CONTINUA (0.000000e+00 1.179941e-03 4.129794e-03 9.946903e-01)  \n",
       "                  478) Visa_mpagospesos>=-12791.78 2570     18 CONTINUA (0.000000e+00 1.556420e-03 5.447471e-03 9.929961e-01)  \n",
       "                    956) mrentabilidad_annual< 3895.7 539      8 CONTINUA (0.000000e+00 1.855288e-03 1.298701e-02 9.851577e-01)  \n",
       "                     1912) mcomisiones>=132.29 252      8 CONTINUA (0.000000e+00 3.968254e-03 2.777778e-02 9.682540e-01) *\n",
       "                     1913) mcomisiones< 132.29 287      0 CONTINUA (0.000000e+00 0.000000e+00 0.000000e+00 1.000000e+00) *\n",
       "                    957) mrentabilidad_annual>=3895.7 2031     10 CONTINUA (0.000000e+00 1.477105e-03 3.446578e-03 9.950763e-01)  \n",
       "                     1914) cplazo_fijo>=0.5 318      5 CONTINUA (0.000000e+00 6.289308e-03 9.433962e-03 9.842767e-01) *\n",
       "                     1915) cplazo_fijo< 0.5 1713      5 CONTINUA (0.000000e+00 5.837712e-04 2.335085e-03 9.970811e-01)  \n",
       "                       3830) Master_mfinanciacion_limite>=412427.7 345      4 CONTINUA (0.000000e+00 2.898551e-03 8.695652e-03 9.884058e-01) *\n",
       "                       3831) Master_mfinanciacion_limite< 412427.7 1368      1 CONTINUA (0.000000e+00 0.000000e+00 7.309942e-04 9.992690e-01)  \n",
       "                         7662) matm>=4985.25 200      1 CONTINUA (0.000000e+00 0.000000e+00 5.000000e-03 9.950000e-01) *\n",
       "                         7663) matm< 4985.25 1168      0 CONTINUA (0.000000e+00 0.000000e+00 0.000000e+00 1.000000e+00) *\n",
       "                  479) Visa_mpagospesos< -12791.78 820      0 CONTINUA (0.000000e+00 0.000000e+00 0.000000e+00 1.000000e+00) *\n",
       "         15) ctrx_quarter>=29.5 142701    478 CONTINUA (0.000000e+00 1.506647e-03 1.843014e-03 9.966503e-01)  \n",
       "           30) ctrx_quarter< 48.5 13974    185 CONTINUA (0.000000e+00 6.082725e-03 7.156147e-03 9.867611e-01)  \n",
       "             60) mcaja_ahorro< 573.32 2712     78 CONTINUA (0.000000e+00 1.364307e-02 1.511799e-02 9.712389e-01)  \n",
       "              120) Visa_msaldototal< 3208.75 776     41 CONTINUA (0.000000e+00 2.963918e-02 2.319588e-02 9.471649e-01)  \n",
       "                240) mprestamos_personales< 3714.425 491     39 CONTINUA (0.000000e+00 4.684318e-02 3.258656e-02 9.205703e-01)  \n",
       "                  480) thomebanking>=0.5 254     28 CONTINUA (0.000000e+00 7.086614e-02 3.937008e-02 8.897638e-01) *\n",
       "                  481) thomebanking< 0.5 237     11 CONTINUA (0.000000e+00 2.109705e-02 2.531646e-02 9.535865e-01) *\n",
       "                241) mprestamos_personales>=3714.425 285      2 CONTINUA (0.000000e+00 0.000000e+00 7.017544e-03 9.929825e-01) *\n",
       "              121) Visa_msaldototal>=3208.75 1936     37 CONTINUA (0.000000e+00 7.231405e-03 1.188017e-02 9.808884e-01)  \n",
       "                242) Visa_Fvencimiento>=-591 226     13 CONTINUA (0.000000e+00 2.654867e-02 3.097345e-02 9.424779e-01) *\n",
       "                243) Visa_Fvencimiento< -591 1710     24 CONTINUA (0.000000e+00 4.678363e-03 9.356725e-03 9.859649e-01)  \n",
       "                  486) mrentabilidad_annual>=5498.425 1056     22 CONTINUA (0.000000e+00 7.575758e-03 1.325758e-02 9.791667e-01)  \n",
       "                    972) Visa_Fvencimiento< -1078.5 778     22 CONTINUA (0.000000e+00 1.028278e-02 1.799486e-02 9.717224e-01)  \n",
       "                     1944) mprestamos_personales< 12044.27 563     22 CONTINUA (0.000000e+00 1.420959e-02 2.486679e-02 9.609236e-01)  \n",
       "                       3888) Visa_msaldopesos>=19754.61 283     17 CONTINUA (0.000000e+00 2.826855e-02 3.180212e-02 9.399293e-01) *\n",
       "                       3889) Visa_msaldopesos< 19754.61 280      5 CONTINUA (0.000000e+00 0.000000e+00 1.785714e-02 9.821429e-01) *\n",
       "                     1945) mprestamos_personales>=12044.27 215      0 CONTINUA (0.000000e+00 0.000000e+00 0.000000e+00 1.000000e+00) *\n",
       "                    973) Visa_Fvencimiento>=-1078.5 278      0 CONTINUA (0.000000e+00 0.000000e+00 0.000000e+00 1.000000e+00) *\n",
       "                  487) mrentabilidad_annual< 5498.425 654      2 CONTINUA (0.000000e+00 0.000000e+00 3.058104e-03 9.969419e-01)  \n",
       "                    974) Visa_mpagospesos>=-11761.13 213      2 CONTINUA (0.000000e+00 0.000000e+00 9.389671e-03 9.906103e-01) *\n",
       "                    975) Visa_mpagospesos< -11761.13 441      0 CONTINUA (0.000000e+00 0.000000e+00 0.000000e+00 1.000000e+00) *\n",
       "             61) mcaja_ahorro>=573.32 11262    107 CONTINUA (0.000000e+00 4.262120e-03 5.238856e-03 9.904990e-01)  \n",
       "              122) tcallcenter>=0.5 791     24 CONTINUA (0.000000e+00 2.022756e-02 1.011378e-02 9.696587e-01)  \n",
       "                244) mactivos_margen>=-111.525 347     22 CONTINUA (0.000000e+00 4.034582e-02 2.305476e-02 9.365994e-01) *\n",
       "                245) mactivos_margen< -111.525 444      2 CONTINUA (0.000000e+00 4.504505e-03 0.000000e+00 9.954955e-01)  \n",
       "                  490) mrentabilidad_annual>=7390.465 200      2 CONTINUA (0.000000e+00 1.000000e-02 0.000000e+00 9.900000e-01) *\n",
       "                  491) mrentabilidad_annual< 7390.465 244      0 CONTINUA (0.000000e+00 0.000000e+00 0.000000e+00 1.000000e+00) *\n",
       "              123) tcallcenter< 0.5 10471     83 CONTINUA (0.000000e+00 3.056060e-03 4.870595e-03 9.920733e-01)  \n",
       "                246) mpasivos_margen< 138.59 2224     34 CONTINUA (0.000000e+00 4.946043e-03 1.034173e-02 9.847122e-01)  \n",
       "                  492) mpayroll< 8219.62 1589     34 CONTINUA (0.000000e+00 6.922593e-03 1.447451e-02 9.786029e-01)  \n",
       "                    984) mrentabilidad_annual< 12001.23 861     28 CONTINUA (0.000000e+00 8.130081e-03 2.439024e-02 9.674797e-01)  \n",
       "                     1968) mactivos_margen>=-613.315 570     27 CONTINUA (0.000000e+00 1.052632e-02 3.684211e-02 9.526316e-01)  \n",
       "                       3936) mcuentas_saldo>=1066.36 327     22 CONTINUA (0.000000e+00 1.223242e-02 5.504587e-02 9.327217e-01) *\n",
       "                       3937) mcuentas_saldo< 1066.36 243      5 CONTINUA (0.000000e+00 8.230453e-03 1.234568e-02 9.794239e-01) *\n",
       "                     1969) mactivos_margen< -613.315 291      1 CONTINUA (0.000000e+00 3.436426e-03 0.000000e+00 9.965636e-01) *\n",
       "                    985) mrentabilidad_annual>=12001.23 728      6 CONTINUA (0.000000e+00 5.494505e-03 2.747253e-03 9.917582e-01)  \n",
       "                     1970) chomebanking_transacciones>=24.5 203      4 CONTINUA (0.000000e+00 1.970443e-02 0.000000e+00 9.802956e-01) *\n",
       "                     1971) chomebanking_transacciones< 24.5 525      2 CONTINUA (0.000000e+00 0.000000e+00 3.809524e-03 9.961905e-01)  \n",
       "                       3942) cliente_edad>=55.5 200      2 CONTINUA (0.000000e+00 0.000000e+00 1.000000e-02 9.900000e-01) *\n",
       "                       3943) cliente_edad< 55.5 325      0 CONTINUA (0.000000e+00 0.000000e+00 0.000000e+00 1.000000e+00) *\n",
       "                  493) mpayroll>=8219.62 635      0 CONTINUA (0.000000e+00 0.000000e+00 0.000000e+00 1.000000e+00) *\n",
       "                247) mpasivos_margen>=138.59 8247     49 CONTINUA (0.000000e+00 2.546381e-03 3.395174e-03 9.940584e-01)  \n",
       "                  494) ctarjeta_visa_transacciones< 0.5 1757     23 CONTINUA (0.000000e+00 5.122368e-03 7.968127e-03 9.869095e-01)  \n",
       "                    988) mcuentas_saldo< 42021.41 772     18 CONTINUA (0.000000e+00 9.067358e-03 1.424870e-02 9.766839e-01)  \n",
       "                     1976) Visa_mfinanciacion_limite>=139352.4 306     13 CONTINUA (0.000000e+00 1.633987e-02 2.614379e-02 9.575163e-01) *\n",
       "                     1977) Visa_mfinanciacion_limite< 139352.4 466      5 CONTINUA (0.000000e+00 4.291845e-03 6.437768e-03 9.892704e-01)  \n",
       "                       3954) mpasivos_margen>=379.6 207      5 CONTINUA (0.000000e+00 9.661836e-03 1.449275e-02 9.758454e-01) *\n",
       "                       3955) mpasivos_margen< 379.6 259      0 CONTINUA (0.000000e+00 0.000000e+00 0.000000e+00 1.000000e+00) *\n",
       "                    989) mcuentas_saldo>=42021.41 985      5 CONTINUA (0.000000e+00 2.030457e-03 3.045685e-03 9.949239e-01)  \n",
       "                     1978) mpagomiscuentas>=1668.1 230      4 CONTINUA (0.000000e+00 8.695652e-03 8.695652e-03 9.826087e-01) *\n",
       "                     1979) mpagomiscuentas< 1668.1 755      1 CONTINUA (0.000000e+00 0.000000e+00 1.324503e-03 9.986755e-01)  \n",
       "                       3958) cliente_antiguedad>=143.5 200      1 CONTINUA (0.000000e+00 0.000000e+00 5.000000e-03 9.950000e-01) *\n",
       "                       3959) cliente_antiguedad< 143.5 555      0 CONTINUA (0.000000e+00 0.000000e+00 0.000000e+00 1.000000e+00) *\n",
       "                  495) ctarjeta_visa_transacciones>=0.5 6490     26 CONTINUA (0.000000e+00 1.848998e-03 2.157165e-03 9.959938e-01)  \n",
       "                    990) mrentabilidad_annual< 4520.745 1835     16 CONTINUA (0.000000e+00 3.814714e-03 4.904632e-03 9.912807e-01)  \n",
       "                     1980) Visa_mconsumospesos>=6939.285 673     11 CONTINUA (0.000000e+00 8.915305e-03 7.429421e-03 9.836553e-01)  \n",
       "                       3960) mttarjeta_visa_debitos_automaticos< 2718.31 242      8 CONTINUA (0.000000e+00 1.239669e-02 2.066116e-02 9.669421e-01) *\n",
       "                       3961) mttarjeta_visa_debitos_automaticos>=2718.31 431      3 CONTINUA (0.000000e+00 6.960557e-03 0.000000e+00 9.930394e-01)  \n",
       "                         7922) mcuentas_saldo>=9670.915 200      3 CONTINUA (0.000000e+00 1.500000e-02 0.000000e+00 9.850000e-01) *\n",
       "                         7923) mcuentas_saldo< 9670.915 231      0 CONTINUA (0.000000e+00 0.000000e+00 0.000000e+00 1.000000e+00) *\n",
       "                     1981) Visa_mconsumospesos< 6939.285 1162      5 CONTINUA (0.000000e+00 8.605852e-04 3.442341e-03 9.956971e-01)  \n",
       "                       3962) mcaja_ahorro_dolares>=3544.605 232      4 CONTINUA (0.000000e+00 4.310345e-03 1.293103e-02 9.827586e-01) *\n",
       "                       3963) mcaja_ahorro_dolares< 3544.605 930      1 CONTINUA (0.000000e+00 0.000000e+00 1.075269e-03 9.989247e-01)  \n",
       "                         7926) mcomisiones< 59.76 200      1 CONTINUA (0.000000e+00 0.000000e+00 5.000000e-03 9.950000e-01) *\n",
       "                         7927) mcomisiones>=59.76 730      0 CONTINUA (0.000000e+00 0.000000e+00 0.000000e+00 1.000000e+00) *\n",
       "                    991) mrentabilidad_annual>=4520.745 4655     10 CONTINUA (0.000000e+00 1.074114e-03 1.074114e-03 9.978518e-01)  \n",
       "                     1982) mautoservicio>=23525.07 200      2 CONTINUA (0.000000e+00 5.000000e-03 5.000000e-03 9.900000e-01) *\n",
       "                     1983) mautoservicio< 23525.07 4455      8 CONTINUA (0.000000e+00 8.978676e-04 8.978676e-04 9.982043e-01)  \n",
       "                       3966) mplazo_fijo_dolares>=351313.5 312      2 CONTINUA (0.000000e+00 6.410256e-03 0.000000e+00 9.935897e-01) *\n",
       "                       3967) mplazo_fijo_dolares< 351313.5 4143      6 CONTINUA (0.000000e+00 4.827420e-04 9.654839e-04 9.985518e-01)  \n",
       "                         7934) Visa_mpagospesos>=-1320.065 458      2 CONTINUA (0.000000e+00 4.366812e-03 0.000000e+00 9.956332e-01)  \n",
       "                          15868) mactivos_margen< -62.42 200      2 CONTINUA (0.000000e+00 1.000000e-02 0.000000e+00 9.900000e-01) *\n",
       "                          15869) mactivos_margen>=-62.42 258      0 CONTINUA (0.000000e+00 0.000000e+00 0.000000e+00 1.000000e+00) *\n",
       "                         7935) Visa_mpagospesos< -1320.065 3685      4 CONTINUA (0.000000e+00 0.000000e+00 1.085482e-03 9.989145e-01)  \n",
       "                          15870) Visa_mpagospesos< -27936.67 839      3 CONTINUA (0.000000e+00 0.000000e+00 3.575685e-03 9.964243e-01)  \n",
       "                            31740) mcomisiones>=1984.335 348      3 CONTINUA (0.000000e+00 0.000000e+00 8.620690e-03 9.913793e-01) *\n",
       "                            31741) mcomisiones< 1984.335 491      0 CONTINUA (0.000000e+00 0.000000e+00 0.000000e+00 1.000000e+00) *\n",
       "                          15871) Visa_mpagospesos>=-27936.67 2846      1 CONTINUA (0.000000e+00 0.000000e+00 3.513703e-04 9.996486e-01)  \n",
       "                            31742) mactivos_margen>=603 229      1 CONTINUA (0.000000e+00 0.000000e+00 4.366812e-03 9.956332e-01) *\n",
       "                            31743) mactivos_margen< 603 2617      0 CONTINUA (0.000000e+00 0.000000e+00 0.000000e+00 1.000000e+00) *\n",
       "           31) ctrx_quarter>=48.5 128727    293 CONTINUA (0.000000e+00 1.009889e-03 1.266246e-03 9.977239e-01)  \n",
       "             62) mpayroll< 7043.48 51914    238 CONTINUA (0.000000e+00 2.022576e-03 2.561929e-03 9.954155e-01)  \n",
       "              124) mtarjeta_visa_consumo< 2130.445 5004     88 CONTINUA (0.000000e+00 8.393285e-03 9.192646e-03 9.824141e-01)  \n",
       "                248) mcuentas_saldo< 10785.39 1838     59 CONTINUA (0.000000e+00 1.523395e-02 1.686616e-02 9.678999e-01)  \n",
       "                  496) cprestamos_personales< 0.5 1166     54 CONTINUA (0.000000e+00 2.229846e-02 2.401372e-02 9.536878e-01)  \n",
       "                    992) cproductos< 6.5 589     39 CONTINUA (0.000000e+00 3.225806e-02 3.395586e-02 9.337861e-01)  \n",
       "                     1984) chomebanking_transacciones>=10.5 288     28 CONTINUA (0.000000e+00 4.861111e-02 4.861111e-02 9.027778e-01) *\n",
       "                     1985) chomebanking_transacciones< 10.5 301     11 CONTINUA (0.000000e+00 1.661130e-02 1.993355e-02 9.634551e-01) *\n",
       "                    993) cproductos>=6.5 577     15 CONTINUA (0.000000e+00 1.213172e-02 1.386482e-02 9.740035e-01)  \n",
       "                     1986) numero_de_cliente< 8.838596e+07 236     11 CONTINUA (0.000000e+00 2.118644e-02 2.542373e-02 9.533898e-01) *\n",
       "                     1987) numero_de_cliente>=8.838596e+07 341      4 CONTINUA (0.000000e+00 5.865103e-03 5.865103e-03 9.882698e-01) *\n",
       "                  497) cprestamos_personales>=0.5 672      5 CONTINUA (0.000000e+00 2.976190e-03 4.464286e-03 9.925595e-01)  \n",
       "                    994) cliente_antiguedad>=126.5 288      5 CONTINUA (0.000000e+00 6.944444e-03 1.041667e-02 9.826389e-01) *\n",
       "                    995) cliente_antiguedad< 126.5 384      0 CONTINUA (0.000000e+00 0.000000e+00 0.000000e+00 1.000000e+00) *\n",
       "                249) mcuentas_saldo>=10785.39 3166     29 CONTINUA (0.000000e+00 4.421984e-03 4.737840e-03 9.908402e-01)  \n",
       "                  498) mautoservicio< 889.13 701     16 CONTINUA (0.000000e+00 8.559201e-03 1.426534e-02 9.771755e-01)  \n",
       "                    996) mcuenta_debitos_automaticos< 2571.245 422     16 CONTINUA (0.000000e+00 1.421801e-02 2.369668e-02 9.620853e-01)  \n",
       "                     1992) mpagomiscuentas< 2608.53 200     12 CONTINUA (0.000000e+00 2.000000e-02 4.000000e-02 9.400000e-01) *\n",
       "                     1993) mpagomiscuentas>=2608.53 222      4 CONTINUA (0.000000e+00 9.009009e-03 9.009009e-03 9.819820e-01) *\n",
       "                    997) mcuenta_debitos_automaticos>=2571.245 279      0 CONTINUA (0.000000e+00 0.000000e+00 0.000000e+00 1.000000e+00) *\n",
       "                  499) mautoservicio>=889.13 2465     13 CONTINUA (0.000000e+00 3.245436e-03 2.028398e-03 9.947262e-01)  \n",
       "                    998) Visa_mconsumospesos>=1183.44 202      4 CONTINUA (0.000000e+00 1.980198e-02 0.000000e+00 9.801980e-01) *\n",
       "                    999) Visa_mconsumospesos< 1183.44 2263      9 CONTINUA (0.000000e+00 1.767565e-03 2.209456e-03 9.960230e-01)  \n",
       "                     1998) chomebanking_transacciones< 0.5 274      4 CONTINUA (0.000000e+00 0.000000e+00 1.459854e-02 9.854015e-01) *\n",
       "                     1999) chomebanking_transacciones>=0.5 1989      5 CONTINUA (0.000000e+00 2.011061e-03 5.027652e-04 9.974862e-01)  \n",
       "                       3998) mextraccion_autoservicio>=11554.05 761      5 CONTINUA (0.000000e+00 5.256242e-03 1.314060e-03 9.934297e-01)  \n",
       "                         7996) mtransferencias_recibidas< 12270.24 250      4 CONTINUA (0.000000e+00 1.600000e-02 0.000000e+00 9.840000e-01) *\n",
       "                         7997) mtransferencias_recibidas>=12270.24 511      1 CONTINUA (0.000000e+00 0.000000e+00 1.956947e-03 9.980431e-01)  \n",
       "                          15994) numero_de_cliente>=1.080848e+08 200      1 CONTINUA (0.000000e+00 0.000000e+00 5.000000e-03 9.950000e-01) *\n",
       "                          15995) numero_de_cliente< 1.080848e+08 311      0 CONTINUA (0.000000e+00 0.000000e+00 0.000000e+00 1.000000e+00) *\n",
       "                       3999) mextraccion_autoservicio< 11554.05 1228      0 CONTINUA (0.000000e+00 0.000000e+00 0.000000e+00 1.000000e+00) *\n",
       "              125) mtarjeta_visa_consumo>=2130.445 46910    150 CONTINUA (0.000000e+00 1.342997e-03 1.854615e-03 9.968024e-01)  \n",
       "                250) mpasivos_margen< 698.5 18540    102 CONTINUA (0.000000e+00 2.157497e-03 3.344121e-03 9.944984e-01)  \n",
       "                  500) Visa_msaldopesos< 5711.48 1348     20 CONTINUA (0.000000e+00 3.709199e-03 1.112760e-02 9.851632e-01)  \n",
       "                   1000) Visa_mconsumospesos>=3557.285 359     14 CONTINUA (0.000000e+00 8.356546e-03 3.064067e-02 9.610028e-01) *\n",
       "                   1001) Visa_mconsumospesos< 3557.285 989      6 CONTINUA (0.000000e+00 2.022245e-03 4.044489e-03 9.939333e-01)  \n",
       "                     2002) mpasivos_margen< 81.65 224      4 CONTINUA (0.000000e+00 4.464286e-03 1.339286e-02 9.821429e-01) *\n",
       "                     2003) mpasivos_margen>=81.65 765      2 CONTINUA (0.000000e+00 1.307190e-03 1.307190e-03 9.973856e-01)  \n",
       "                       4006) mtarjeta_visa_consumo< 2982.68 200      2 CONTINUA (0.000000e+00 5.000000e-03 5.000000e-03 9.900000e-01) *\n",
       "                       4007) mtarjeta_visa_consumo>=2982.68 565      0 CONTINUA (0.000000e+00 0.000000e+00 0.000000e+00 1.000000e+00) *\n",
       "                  501) Visa_msaldopesos>=5711.48 17192     82 CONTINUA (0.000000e+00 2.035831e-03 2.733830e-03 9.952303e-01)  \n",
       "                   1002) mrentabilidad_annual< 11416.31 8435     61 CONTINUA (0.000000e+00 2.963841e-03 4.267931e-03 9.927682e-01)  \n",
       "                     2004) ctrx_quarter< 147.5 6571     60 CONTINUA (0.000000e+00 3.804596e-03 5.326434e-03 9.908690e-01)  \n",
       "                       4008) ccajas_consultas>=0.5 230      7 CONTINUA (0.000000e+00 8.695652e-03 2.173913e-02 9.695652e-01) *\n",
       "                       4009) ccajas_consultas< 0.5 6341     53 CONTINUA (0.000000e+00 3.627188e-03 4.731115e-03 9.916417e-01)  \n",
       "                         8018) mrentabilidad>=-156.3 3105     39 CONTINUA (0.000000e+00 6.763285e-03 5.797101e-03 9.874396e-01)  \n",
       "                          16036) chomebanking_transacciones>=42.5 1144     23 CONTINUA (0.000000e+00 9.615385e-03 1.048951e-02 9.798951e-01)  \n",
       "                            32072) ctarjeta_visa_transacciones< 6.5 278     12 CONTINUA (0.000000e+00 2.158273e-02 2.158273e-02 9.568345e-01) *\n",
       "                            32073) ctarjeta_visa_transacciones>=6.5 866     11 CONTINUA (0.000000e+00 5.773672e-03 6.928406e-03 9.872979e-01) *\n",
       "                          16037) chomebanking_transacciones< 42.5 1961     16 CONTINUA (0.000000e+00 5.099439e-03 3.059663e-03 9.918409e-01)  \n",
       "                            32074) Visa_msaldopesos>=48697.17 239      5 CONTINUA (0.000000e+00 2.092050e-02 0.000000e+00 9.790795e-01) *\n",
       "                            32075) Visa_msaldopesos< 48697.17 1722     11 CONTINUA (0.000000e+00 2.903600e-03 3.484321e-03 9.936121e-01) *\n",
       "                         8019) mrentabilidad< -156.3 3236     14 CONTINUA (0.000000e+00 6.180470e-04 3.708282e-03 9.956737e-01)  \n",
       "                          16038) mcaja_ahorro< 29.95 292      5 CONTINUA (0.000000e+00 3.424658e-03 1.369863e-02 9.828767e-01) *\n",
       "                          16039) mcaja_ahorro>=29.95 2944      9 CONTINUA (0.000000e+00 3.396739e-04 2.717391e-03 9.969429e-01)  \n",
       "                            32078) ctarjeta_visa_debitos_automaticos>=5.5 468      5 CONTINUA (0.000000e+00 0.000000e+00 1.068376e-02 9.893162e-01) *\n",
       "                            32079) ctarjeta_visa_debitos_automaticos< 5.5 2476      4 CONTINUA (0.000000e+00 4.038772e-04 1.211632e-03 9.983845e-01) *\n",
       "                     2005) ctrx_quarter>=147.5 1864      1 CONTINUA (0.000000e+00 0.000000e+00 5.364807e-04 9.994635e-01)  \n",
       "                       4010) mpasivos_margen>=622.96 200      1 CONTINUA (0.000000e+00 0.000000e+00 5.000000e-03 9.950000e-01) *\n",
       "                       4011) mpasivos_margen< 622.96 1664      0 CONTINUA (0.000000e+00 0.000000e+00 0.000000e+00 1.000000e+00) *\n",
       "                   1003) mrentabilidad_annual>=11416.31 8757     21 CONTINUA (0.000000e+00 1.141944e-03 1.256138e-03 9.976019e-01)  \n",
       "                     2006) ctrx_quarter< 50.5 250      4 CONTINUA (0.000000e+00 4.000000e-03 1.200000e-02 9.840000e-01) *\n",
       "                     2007) ctrx_quarter>=50.5 8507     17 CONTINUA (0.000000e+00 1.057952e-03 9.404020e-04 9.980016e-01)  \n",
       "                       4014) Visa_msaldodolares>=3025.54 306      4 CONTINUA (0.000000e+00 9.803922e-03 3.267974e-03 9.869281e-01) *\n",
       "                       4015) Visa_msaldodolares< 3025.54 8201     13 CONTINUA (0.000000e+00 7.316181e-04 8.535544e-04 9.984148e-01)  \n",
       "                         8030) mcomisiones>=14308.11 335      3 CONTINUA (0.000000e+00 2.985075e-03 5.970149e-03 9.910448e-01) *\n",
       "                         8031) mcomisiones< 14308.11 7866     10 CONTINUA (0.000000e+00 6.356471e-04 6.356471e-04 9.987287e-01)  \n",
       "                          16062) ccallcenter_transacciones>=2.5 562      3 CONTINUA (0.000000e+00 5.338078e-03 0.000000e+00 9.946619e-01)  \n",
       "                            32124) mcomisiones>=1910.31 200      3 CONTINUA (0.000000e+00 1.500000e-02 0.000000e+00 9.850000e-01) *\n",
       "                            32125) mcomisiones< 1910.31 362      0 CONTINUA (0.000000e+00 0.000000e+00 0.000000e+00 1.000000e+00) *\n",
       "                          16063) ccallcenter_transacciones< 2.5 7304      7 CONTINUA (0.000000e+00 2.738226e-04 6.845564e-04 9.990416e-01)  \n",
       "                            32126) mttarjeta_visa_debitos_automaticos>=5975.67 2967      6 CONTINUA (0.000000e+00 3.370408e-04 1.685204e-03 9.979778e-01) *\n",
       "                            32127) mttarjeta_visa_debitos_automaticos< 5975.67 4337      1 CONTINUA (0.000000e+00 2.305741e-04 0.000000e+00 9.997694e-01) *\n",
       "                251) mpasivos_margen>=698.5 28370     48 CONTINUA (0.000000e+00 8.107155e-04 8.812125e-04 9.983081e-01)  \n",
       "                  502) ccallcenter_transacciones>=10.5 242      4 CONTINUA (0.000000e+00 1.239669e-02 4.132231e-03 9.834711e-01) *\n",
       "                  503) ccallcenter_transacciones< 10.5 28128     44 CONTINUA (0.000000e+00 7.110353e-04 8.532423e-04 9.984357e-01)  \n",
       "                   1006) internet>=0.5 233      3 CONTINUA (0.000000e+00 0.000000e+00 1.287554e-02 9.871245e-01) *\n",
       "                   1007) internet< 0.5 27895     41 CONTINUA (0.000000e+00 7.169744e-04 7.528231e-04 9.985302e-01)  \n",
       "                     2014) cliente_edad>=77.5 812      6 CONTINUA (0.000000e+00 1.231527e-03 6.157635e-03 9.926108e-01)  \n",
       "                       4028) Visa_mpagado>=5790.79 279      5 CONTINUA (0.000000e+00 3.584229e-03 1.433692e-02 9.820789e-01) *\n",
       "                       4029) Visa_mpagado< 5790.79 533      1 CONTINUA (0.000000e+00 0.000000e+00 1.876173e-03 9.981238e-01)  \n",
       "                         8058) numero_de_cliente>=5.660946e+07 200      1 CONTINUA (0.000000e+00 0.000000e+00 5.000000e-03 9.950000e-01) *\n",
       "                         8059) numero_de_cliente< 5.660946e+07 333      0 CONTINUA (0.000000e+00 0.000000e+00 0.000000e+00 1.000000e+00) *\n",
       "                     2015) cliente_edad< 77.5 27083     35 CONTINUA (0.000000e+00 7.015471e-04 5.907765e-04 9.987077e-01)  \n",
       "                       4030) mcaja_ahorro< 324.52 1263      7 CONTINUA (0.000000e+00 4.750594e-03 7.917656e-04 9.944576e-01)  \n",
       "                         8060) Visa_mpagominimo< 5126.01 540      6 CONTINUA (0.000000e+00 1.111111e-02 0.000000e+00 9.888889e-01)  \n",
       "                          16120) Visa_mpagominimo>=2457.435 200      6 CONTINUA (0.000000e+00 3.000000e-02 0.000000e+00 9.700000e-01) *\n",
       "                          16121) Visa_mpagominimo< 2457.435 340      0 CONTINUA (0.000000e+00 0.000000e+00 0.000000e+00 1.000000e+00) *\n",
       "                         8061) Visa_mpagominimo>=5126.01 723      1 CONTINUA (0.000000e+00 0.000000e+00 1.383126e-03 9.986169e-01)  \n",
       "                          16122) numero_de_cliente< 7.165632e+07 200      1 CONTINUA (0.000000e+00 0.000000e+00 5.000000e-03 9.950000e-01) *\n",
       "                          16123) numero_de_cliente>=7.165632e+07 523      0 CONTINUA (0.000000e+00 0.000000e+00 0.000000e+00 1.000000e+00) *\n",
       "                       4031) mcaja_ahorro>=324.52 25820     28 CONTINUA (0.000000e+00 5.034857e-04 5.809450e-04 9.989156e-01)  \n",
       "                         8062) mcomisiones_otras< 318.515 1653      8 CONTINUA (0.000000e+00 3.024803e-03 1.814882e-03 9.951603e-01)  \n",
       "                          16124) mcomisiones>=259.815 315      5 CONTINUA (0.000000e+00 1.269841e-02 3.174603e-03 9.841270e-01) *\n",
       "                          16125) mcomisiones< 259.815 1338      3 CONTINUA (0.000000e+00 7.473842e-04 1.494768e-03 9.977578e-01)  \n",
       "                            32250) ctrx_quarter< 65.5 208      3 CONTINUA (0.000000e+00 4.807692e-03 9.615385e-03 9.855769e-01) *\n",
       "                            32251) ctrx_quarter>=65.5 1130      0 CONTINUA (0.000000e+00 0.000000e+00 0.000000e+00 1.000000e+00) *\n",
       "                         8063) mcomisiones_otras>=318.515 24167     20 CONTINUA (0.000000e+00 3.310299e-04 4.965449e-04 9.991724e-01)  \n",
       "                          16126) mtransferencias_recibidas>=81975.11 10611     16 CONTINUA (0.000000e+00 5.654509e-04 9.424182e-04 9.984921e-01)  \n",
       "                            32252) mcomisiones_otras< 2757.535 5410     16 CONTINUA (0.000000e+00 1.109057e-03 1.848429e-03 9.970425e-01) *\n",
       "                            32253) mcomisiones_otras>=2757.535 5201      0 CONTINUA (0.000000e+00 0.000000e+00 0.000000e+00 1.000000e+00) *\n",
       "                          16127) mtransferencias_recibidas< 81975.11 13556      4 CONTINUA (0.000000e+00 1.475361e-04 1.475361e-04 9.997049e-01)  \n",
       "                            32254) ctarjeta_master_debitos_automaticos>=5.5 343      2 CONTINUA (0.000000e+00 2.915452e-03 2.915452e-03 9.941691e-01) *\n",
       "                            32255) ctarjeta_master_debitos_automaticos< 5.5 13213      2 CONTINUA (0.000000e+00 7.568304e-05 7.568304e-05 9.998486e-01) *\n",
       "             63) mpayroll>=7043.48 76813     55 CONTINUA (0.000000e+00 3.254657e-04 3.905589e-04 9.992840e-01)  \n",
       "              126) mpayroll>=1267299 200      3 CONTINUA (0.000000e+00 1.500000e-02 0.000000e+00 9.850000e-01) *\n",
       "              127) mpayroll< 1267299 76613     52 CONTINUA (0.000000e+00 2.871575e-04 3.915785e-04 9.993213e-01)  \n",
       "                254) ccaja_ahorro>=3.5 2973     13 CONTINUA (0.000000e+00 2.018163e-03 2.354524e-03 9.956273e-01)  \n",
       "                  508) ctarjeta_visa_transacciones< 1.5 437     11 CONTINUA (0.000000e+00 1.144165e-02 1.372998e-02 9.748284e-01)  \n",
       "                   1016) ctrx_quarter< 96.5 202     10 CONTINUA (0.000000e+00 1.980198e-02 2.970297e-02 9.504950e-01) *\n",
       "                   1017) ctrx_quarter>=96.5 235      1 CONTINUA (0.000000e+00 4.255319e-03 0.000000e+00 9.957447e-01) *\n",
       "                  509) ctarjeta_visa_transacciones>=1.5 2536      2 CONTINUA (0.000000e+00 3.943218e-04 3.943218e-04 9.992114e-01)  \n",
       "                   1018) Visa_mpagospesos>=-4823.465 230      2 CONTINUA (0.000000e+00 4.347826e-03 4.347826e-03 9.913043e-01) *\n",
       "                   1019) Visa_mpagospesos< -4823.465 2306      0 CONTINUA (0.000000e+00 0.000000e+00 0.000000e+00 1.000000e+00) *\n",
       "                255) ccaja_ahorro< 3.5 73640     39 CONTINUA (0.000000e+00 2.172732e-04 3.123303e-04 9.994704e-01)  \n",
       "                  510) Visa_fechaalta>=9195 200      2 CONTINUA (0.000000e+00 0.000000e+00 1.000000e-02 9.900000e-01) *\n",
       "                  511) Visa_fechaalta< 9195 73440     37 CONTINUA (0.000000e+00 2.178649e-04 2.859477e-04 9.994962e-01)  \n",
       "                   1022) mcheques_depositados>=45489.62 461      3 CONTINUA (0.000000e+00 0.000000e+00 6.507592e-03 9.934924e-01)  \n",
       "                     2044) mcomisiones< 783.26 200      3 CONTINUA (0.000000e+00 0.000000e+00 1.500000e-02 9.850000e-01) *\n",
       "                     2045) mcomisiones>=783.26 261      0 CONTINUA (0.000000e+00 0.000000e+00 0.000000e+00 1.000000e+00) *\n",
       "                   1023) mcheques_depositados< 45489.62 72979     34 CONTINUA (0.000000e+00 2.192412e-04 2.466463e-04 9.995341e-01)  \n",
       "                     2046) Master_mconsumospesos>=76790.04 357      2 CONTINUA (0.000000e+00 5.602241e-03 0.000000e+00 9.943978e-01) *\n",
       "                     2047) Master_mconsumospesos< 76790.04 72622     32 CONTINUA (0.000000e+00 1.927790e-04 2.478588e-04 9.995594e-01)  \n",
       "                       4094) cproductos< 6.5 14294     16 CONTINUA (0.000000e+00 5.596754e-04 5.596754e-04 9.988806e-01)  \n",
       "                         8188) mtarjeta_master_descuentos>=221.94 250      3 CONTINUA (0.000000e+00 8.000000e-03 4.000000e-03 9.880000e-01) *\n",
       "                         8189) mtarjeta_master_descuentos< 221.94 14044     13 CONTINUA (0.000000e+00 4.272287e-04 4.984335e-04 9.990743e-01)  \n",
       "                          16378) mcuentas_saldo< -23459.15 200      2 CONTINUA (0.000000e+00 5.000000e-03 5.000000e-03 9.900000e-01) *\n",
       "                          16379) mcuentas_saldo>=-23459.15 13844     11 CONTINUA (0.000000e+00 3.611673e-04 4.334008e-04 9.992054e-01)  \n",
       "                            32758) ccallcenter_transacciones>=5.5 261      2 CONTINUA (0.000000e+00 3.831418e-03 3.831418e-03 9.923372e-01) *\n",
       "                            32759) ccallcenter_transacciones< 5.5 13583      9 CONTINUA (0.000000e+00 2.944858e-04 3.681072e-04 9.993374e-01) *\n",
       "                       4095) cproductos>=6.5 58328     16 CONTINUA (0.000000e+00 1.028665e-04 1.714442e-04 9.997257e-01)  \n",
       "                         8190) mcuenta_debitos_automaticos>=54668.43 200      1 CONTINUA (0.000000e+00 5.000000e-03 0.000000e+00 9.950000e-01) *\n",
       "                         8191) mcuenta_debitos_automaticos< 54668.43 58128     15 CONTINUA (0.000000e+00 8.601707e-05 1.720341e-04 9.997419e-01)  \n",
       "                          16382) Master_msaldototal< -12232.32 200      1 CONTINUA (0.000000e+00 0.000000e+00 5.000000e-03 9.950000e-01) *\n",
       "                          16383) Master_msaldototal>=-12232.32 57928     14 CONTINUA (0.000000e+00 8.631405e-05 1.553653e-04 9.997583e-01)  \n",
       "                            32766) Visa_mfinanciacion_limite< 41172.3 843      2 CONTINUA (0.000000e+00 0.000000e+00 2.372479e-03 9.976275e-01) *\n",
       "                            32767) Visa_mfinanciacion_limite>=41172.3 57085     12 CONTINUA (0.000000e+00 8.758868e-05 1.226242e-04 9.997898e-01) *"
      ]
     },
     "metadata": {},
     "output_type": "display_data"
    }
   ],
   "source": [
    "#Detalles del modelo\n",
    "modelo"
   ]
  },
  {
   "cell_type": "code",
   "execution_count": 11,
   "metadata": {
    "papermill": {
     "duration": 2.186041,
     "end_time": "2020-09-04T19:04:18.120606",
     "exception": false,
     "start_time": "2020-09-04T19:04:15.934565",
     "status": "completed"
    },
    "tags": [],
    "vscode": {
     "languageId": "r"
    }
   },
   "outputs": [
    {
     "ename": "ERROR",
     "evalue": "Error in fread(karchivo_predecir): object 'karchivo_predecir' not found\n",
     "output_type": "error",
     "traceback": [
      "Error in fread(karchivo_predecir): object 'karchivo_predecir' not found\nTraceback:\n",
      "1. fread(karchivo_predecir)"
     ]
    }
   ],
   "source": [
    "#Leo datos a estimar\n",
    "dataset_pred <- fread(karchivo_predecir)\n",
    "\n",
    "\n",
    "#Genero la clase\n",
    "#dataset_pred[,(kobjetivo) := as.integer(dataset[,..kclase_nomcampo] == kclase_valor_positivo)]\n",
    "\n",
    "#Limpio campos a borrar\n",
    "#dataset_pred[ ,  (kcampos_a_borrar) := NULL    ] \n",
    "\n",
    "prediccion  <- predict( modelo, dataset_pred ) #aplico el modelo"
   ]
  },
  {
   "cell_type": "code",
   "execution_count": 12,
   "metadata": {
    "papermill": {
     "duration": 2.186041,
     "end_time": "2020-09-04T19:04:18.120606",
     "exception": false,
     "start_time": "2020-09-04T19:04:15.934565",
     "status": "completed"
    },
    "tags": [],
    "vscode": {
     "languageId": "r"
    }
   },
   "outputs": [
    {
     "ename": "ERROR",
     "evalue": "Error in eval(expr, envir, enclos): object 'dataset_pred' not found\n",
     "output_type": "error",
     "traceback": [
      "Error in eval(expr, envir, enclos): object 'dataset_pred' not found\nTraceback:\n"
     ]
    }
   ],
   "source": [
    "dataset_pred[ , prob_baja := prediccion]\n",
    "dataset_pred[ , Predicted  := as.numeric(prob_baja > 0.025) ]\n",
    "\n",
    "entrega  <- dataset_pred[   , list(numero_de_cliente, Predicted) ] #genero la salida\n",
    "\n",
    "#genero el archivo para Kaggle\n",
    "fwrite( entrega, file=\"./salida_rpart_grid.csv\", sep=\",\" )"
   ]
  },
  {
   "cell_type": "code",
   "execution_count": null,
   "metadata": {
    "papermill": {
     "duration": 0.195911,
     "end_time": "2020-09-04T19:04:21.274063",
     "exception": false,
     "start_time": "2020-09-04T19:04:21.078152",
     "status": "completed"
    },
    "tags": [],
    "vscode": {
     "languageId": "r"
    }
   },
   "outputs": [],
   "source": []
  },
  {
   "cell_type": "code",
   "execution_count": null,
   "metadata": {
    "vscode": {
     "languageId": "r"
    }
   },
   "outputs": [],
   "source": []
  }
 ],
 "metadata": {
  "kernelspec": {
   "display_name": "R",
   "language": "R",
   "name": "ir"
  },
  "language_info": {
   "codemirror_mode": "r",
   "file_extension": ".r",
   "mimetype": "text/x-r-source",
   "name": "R",
   "pygments_lexer": "r",
   "version": "4.2.1"
  },
  "papermill": {
   "duration": 216.919775,
   "end_time": "2020-09-04T19:04:21.680072",
   "environment_variables": {},
   "exception": null,
   "input_path": "__notebook__.ipynb",
   "output_path": "__notebook__.ipynb",
   "parameters": {},
   "start_time": "2020-09-04T19:00:44.760297",
   "version": "2.1.2"
  }
 },
 "nbformat": 4,
 "nbformat_minor": 4
}
