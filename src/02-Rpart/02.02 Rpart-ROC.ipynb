{
 "cells": [
  {
   "cell_type": "code",
   "execution_count": 1,
   "metadata": {
    "papermill": {
     "duration": 1.629423,
     "end_time": "2020-09-04T19:00:49.168162",
     "exception": false,
     "start_time": "2020-09-04T19:00:47.538739",
     "status": "completed"
    },
    "tags": [],
    "vscode": {
     "languageId": "r"
    }
   },
   "outputs": [
    {
     "data": {
      "text/html": [
       "<table class=\"dataframe\">\n",
       "<caption>A matrix: 2 × 6 of type dbl</caption>\n",
       "<thead>\n",
       "\t<tr><th></th><th scope=col>used</th><th scope=col>(Mb)</th><th scope=col>gc trigger</th><th scope=col>(Mb)</th><th scope=col>max used</th><th scope=col>(Mb)</th></tr>\n",
       "</thead>\n",
       "<tbody>\n",
       "\t<tr><th scope=row>Ncells</th><td> 604257</td><td>32.3</td><td>1291145</td><td>69</td><td>1291145</td><td>69.0</td></tr>\n",
       "\t<tr><th scope=row>Vcells</th><td>1086061</td><td> 8.3</td><td>8388608</td><td>64</td><td>1633205</td><td>12.5</td></tr>\n",
       "</tbody>\n",
       "</table>\n"
      ],
      "text/latex": [
       "A matrix: 2 × 6 of type dbl\n",
       "\\begin{tabular}{r|llllll}\n",
       "  & used & (Mb) & gc trigger & (Mb) & max used & (Mb)\\\\\n",
       "\\hline\n",
       "\tNcells &  604257 & 32.3 & 1291145 & 69 & 1291145 & 69.0\\\\\n",
       "\tVcells & 1086061 &  8.3 & 8388608 & 64 & 1633205 & 12.5\\\\\n",
       "\\end{tabular}\n"
      ],
      "text/markdown": [
       "\n",
       "A matrix: 2 × 6 of type dbl\n",
       "\n",
       "| <!--/--> | used | (Mb) | gc trigger | (Mb) | max used | (Mb) |\n",
       "|---|---|---|---|---|---|---|\n",
       "| Ncells |  604257 | 32.3 | 1291145 | 69 | 1291145 | 69.0 |\n",
       "| Vcells | 1086061 |  8.3 | 8388608 | 64 | 1633205 | 12.5 |\n",
       "\n"
      ],
      "text/plain": [
       "       used    (Mb) gc trigger (Mb) max used (Mb)\n",
       "Ncells  604257 32.3 1291145    69   1291145  69.0\n",
       "Vcells 1086061  8.3 8388608    64   1633205  12.5"
      ]
     },
     "metadata": {},
     "output_type": "display_data"
    },
    {
     "name": "stderr",
     "output_type": "stream",
     "text": [
      "Loading required package: ggplot2\n",
      "\n",
      "Loading required package: lattice\n",
      "\n"
     ]
    }
   ],
   "source": [
    "#limpio la memoria\n",
    "rm(list=ls())\n",
    "gc()\n",
    "\n",
    "#cargo librerias\n",
    "library(\"data.table\")\n",
    "library(\"ROCR\")\n",
    "library(\"rpart\")\n",
    "library(\"rpart.plot\")\n",
    "library(\"caret\")"
   ]
  },
  {
   "cell_type": "code",
   "execution_count": 2,
   "metadata": {
    "papermill": {
     "duration": 0.279475,
     "end_time": "2020-09-04T19:00:49.466032",
     "exception": false,
     "start_time": "2020-09-04T19:00:49.186557",
     "status": "completed"
    },
    "tags": [],
    "vscode": {
     "languageId": "r"
    }
   },
   "outputs": [],
   "source": [
    "setwd(\"~/lab1/\")\n",
    "\n",
    "#Parametros entrada\n",
    "\n",
    "#kcarpeta_datasets    <- \"../input/laboratorio-de-implementacion-i-2021/\"   #KAGGLE\n",
    "kcarpeta_datasets    <- \"./datasets/\"                          #VM o Ubuntu\n",
    "\n",
    "#Archivo con datos etiquetados para entrenamiento\n",
    "karchivo_entrada      <-  paste0(kcarpeta_datasets, \"competencia1_2022.csv\")\n",
    "\n",
    "#Formato para submit en Kaggle\n",
    "#karchivo_score      <-  \"../input/uamds2020ldi1f1/Sample_201910_Fase_I.txt\"\n",
    "\n",
    "#Separador de campos en archivos\n",
    "kcampos_separador     <-  \"\\t\"\n",
    "\n",
    "#Campo que identifica las muestras\n",
    "kcampo_id             <-  \"numero_de_cliente\"\n",
    "\n",
    "#Campo que contiene la clase a estimar\n",
    "kclase_nomcampo       <-  \"clase_ternaria\"\n",
    "\n",
    "#Valor de interés\n",
    "kclase_valor_positivo <-  \"BAJA+2\"\n",
    "\n",
    "#Campos a borrar para el entrenamiento\n",
    "kcampos_a_borrar      <-  c(kcampo_id,kclase_nomcampo,\"foto_mes\")\n",
    "\n",
    "#Campo que contendrá a la variable objetivo generada\n",
    "kobjetivo             <-  \"clase\"\n",
    "\n",
    "#Identificación del modelo\n",
    "kmodelo               <-  \"02-RPART\"\n",
    "\n",
    "#Ganancia por TP\n",
    "kTPGain               <-  78000\n",
    "\n",
    "#Pérdida por FP\n",
    "kFPGain               <-  -2000\n",
    "\n",
    "#Establezco semilla aleatoria\n",
    "set.seed(1)\n",
    "\n"
   ]
  },
  {
   "cell_type": "code",
   "execution_count": 3,
   "metadata": {
    "papermill": {
     "duration": 3.125502,
     "end_time": "2020-09-04T19:00:52.608890",
     "exception": false,
     "start_time": "2020-09-04T19:00:49.483388",
     "status": "completed"
    },
    "tags": [],
    "vscode": {
     "languageId": "r"
    }
   },
   "outputs": [],
   "source": [
    "#cargo los datos\n",
    "dataset <- fread(karchivo_entrada)\n",
    "\n",
    "#Para hacer pruebas rapidas puedo reducir el dataset a una fraccion\n",
    "#subsample <- sample(1:nrow(dataset), .1 * nrow(dataset))\n",
    "#dataset <- dataset[subsample,]\n",
    "\n",
    "dtrain  <- dataset[ foto_mes==202101 ]  #defino donde voy a entrenar\n",
    "dapply  <- dataset[ foto_mes==202103 ]  #defino donde voy a aplicar el modelo"
   ]
  },
  {
   "cell_type": "code",
   "execution_count": 4,
   "metadata": {
    "papermill": {
     "duration": 1.110089,
     "end_time": "2020-09-04T19:00:53.738438",
     "exception": false,
     "start_time": "2020-09-04T19:00:52.628349",
     "status": "completed"
    },
    "tags": [],
    "vscode": {
     "languageId": "r"
    }
   },
   "outputs": [
    {
     "name": "stderr",
     "output_type": "stream",
     "text": [
      "Warning message in `[.data.table`(dataset, , ..kclase_nomcampo):\n",
      "\"Both 'kclase_nomcampo' and '..kclase_nomcampo' exist in calling scope. Please remove the '..kclase_nomcampo' variable in calling scope for clarity.\"\n"
     ]
    }
   ],
   "source": [
    "#Genero la clase\n",
    "dataset[,(kobjetivo) := as.integer(dataset[,..kclase_nomcampo] == kclase_valor_positivo)]\n",
    "\n",
    "#Limpio campos a borrar\n",
    "dataset[ ,  (kcampos_a_borrar) := NULL    ] \n",
    "\n",
    "#Completo missings\n",
    "dataset[is.na(dataset)] <- 0"
   ]
  },
  {
   "cell_type": "code",
   "execution_count": 5,
   "metadata": {
    "vscode": {
     "languageId": "r"
    }
   },
   "outputs": [],
   "source": [
    "# generacion del modelo\n",
    "formula  <-  formula(paste(kobjetivo, \"~ .\"))"
   ]
  },
  {
   "cell_type": "code",
   "execution_count": 6,
   "metadata": {
    "vscode": {
     "languageId": "r"
    }
   },
   "outputs": [],
   "source": [
    "#cargo los datos\n",
    "dataset <- fread(karchivo_entrada)\n",
    "\n",
    "#Para hacer pruebas rapidas puedo reducir el dataset a una fraccion\n",
    "#subsample <- sample(1:nrow(dataset), .1 * nrow(dataset))\n",
    "#dataset <- dataset[subsample,]\n",
    "\n",
    "dtrain  <- dataset[ foto_mes==202101 ]  #defino donde voy a entrenar\n",
    "\n",
    "train_rows <- createDataPartition(dtrain$clase, p = .66, list = FALSE)\n",
    "\n",
    "#train_rows <- sample(1:nrow(dataset), .66 * nrow(dataset))\n",
    "dtest <- dtrain[-train_rows,]\n",
    "dtrain <- dtrain[train_rows,]\n",
    "\n",
    "dapply  <- dataset[ foto_mes==202103 ]  #defino donde voy a aplicar el modelo"
   ]
  },
  {
   "cell_type": "code",
   "execution_count": 7,
   "metadata": {
    "papermill": {
     "duration": 56.333957,
     "end_time": "2020-09-04T19:01:51.065177",
     "exception": false,
     "start_time": "2020-09-04T19:00:54.731220",
     "status": "completed"
    },
    "tags": [],
    "vscode": {
     "languageId": "r"
    }
   },
   "outputs": [
    {
     "name": "stdout",
     "output_type": "stream",
     "text": [
      "[1] 7.626724\n"
     ]
    }
   ],
   "source": [
    "#Genero el modelo\n",
    "t0       <-  Sys.time()\n",
    "modelo   <-  rpart(\"clase_ternaria ~ .\",   data = dtrain, maxdepth = 5,  cp=0,   xval=0)\n",
    "t1       <-  Sys.time()\n",
    "\n",
    "tcorrida <-  as.numeric( t1 - t0, units = \"secs\")\n",
    "print( tcorrida)"
   ]
  },
  {
   "cell_type": "code",
   "execution_count": 8,
   "metadata": {
    "papermill": {
     "duration": 0.042756,
     "end_time": "2020-09-04T19:01:52.213056",
     "exception": false,
     "start_time": "2020-09-04T19:01:52.170300",
     "status": "completed"
    },
    "tags": [],
    "vscode": {
     "languageId": "r"
    }
   },
   "outputs": [
    {
     "data": {
      "text/plain": [
       "n= 106487 \n",
       "\n",
       "node), split, n, loss, yval, (yprob)\n",
       "      * denotes terminal node\n",
       "\n",
       " 1) root 106487 1000 CONTINUA (0.004122569 0.005268249 0.990609182)  \n",
       "   2) ctrx_quarter< 13.5 5511  460 CONTINUA (0.033569225 0.049900200 0.916530575)  \n",
       "     4) mcuentas_saldo< -1100.705 1981  280 CONTINUA (0.058556285 0.082786471 0.858657244) *\n",
       "     5) mcuentas_saldo>=-1100.705 3530  180 CONTINUA (0.019546742 0.031444759 0.949008499)  \n",
       "      10) mpasivos_margen< 6.325 1141   94 CONTINUA (0.029798422 0.052585451 0.917616126)  \n",
       "        20) Visa_fechaalta>=4532 116   19 CONTINUA (0.043103448 0.120689655 0.836206897)  \n",
       "          40) Visa_Fvencimiento< -1839 7    3 BAJA+2 (0.000000000 0.571428571 0.428571429) *\n",
       "          41) Visa_Fvencimiento>=-1839 109   15 CONTINUA (0.045871560 0.091743119 0.862385321) *\n",
       "        21) Visa_fechaalta< 4532 1025   75 CONTINUA (0.028292683 0.044878049 0.926829268) *\n",
       "      11) mpasivos_margen>=6.325 2389   86 CONTINUA (0.014650481 0.021347844 0.964001674) *\n",
       "   3) ctrx_quarter>=13.5 100976  540 CONTINUA (0.002515449 0.002832356 0.994652195) *"
      ]
     },
     "metadata": {},
     "output_type": "display_data"
    }
   ],
   "source": [
    "#Detalles del modelo\n",
    "modelo"
   ]
  },
  {
   "cell_type": "code",
   "execution_count": 9,
   "metadata": {
    "papermill": {
     "duration": 0.360185,
     "end_time": "2020-09-04T19:02:22.940847",
     "exception": false,
     "start_time": "2020-09-04T19:02:22.580662",
     "status": "completed"
    },
    "tags": [],
    "vscode": {
     "languageId": "r"
    }
   },
   "outputs": [
    {
     "data": {
      "image/png": "[encoded data removed]",
      "text/plain": [
       "plot without title"
      ]
     },
     "metadata": {
      "image/png": {
       "height": 900,
       "width": 900
      }
     },
     "output_type": "display_data"
    }
   ],
   "source": [
    "#Arbol generado\n",
    "options(repr.plot.width=15, repr.plot.height=15)\n",
    "prp(modelo, extra=101, digits=5, branch=1, type=4, varlen=0, faclen=0, tweak=1.3)"
   ]
  },
  {
   "cell_type": "code",
   "execution_count": 10,
   "metadata": {
    "papermill": {
     "duration": 0.293419,
     "end_time": "2020-09-04T19:02:23.863598",
     "exception": false,
     "start_time": "2020-09-04T19:02:23.570179",
     "status": "completed"
    },
    "tags": [],
    "vscode": {
     "languageId": "r"
    }
   },
   "outputs": [
    {
     "name": "stdout",
     "output_type": "stream",
     "text": [
      "[1] \"La Ganancia es: 15168000\"\n"
     ]
    }
   ],
   "source": [
    "#Evalúo sobre test\n",
    "prediccion <- predict(modelo, dtest,) # predicted values\n",
    "\n",
    "#Calculo ganancia sobre dataset de pruebas\n",
    "dtest[ , prob_baja2 := prediccion[, \"BAJA+2\"] ]\n",
    "dtest[ , Predicted  := as.numeric(prob_baja2 > 1/40) ]\n",
    "\n",
    "\n",
    "#calculo la ganancia de incentivar cada caso\n",
    "dtest[  , ganancia:= kFPGain ] #-1250\n",
    "dtest[ clase_ternaria=='BAJA+2',   ganancia:= kTPGain] #48750\n",
    "\n",
    "\n",
    "#Determino ganancia\n",
    "print(paste(\"La Ganancia es:\", 3*sum(dtest$Predicted*dtest$ganancia)))"
   ]
  },
  {
   "cell_type": "code",
   "execution_count": 11,
   "metadata": {
    "vscode": {
     "languageId": "r"
    }
   },
   "outputs": [
    {
     "data": {
      "text/html": [
       "<ol>\n",
       "\t<li>0.726637352410408</li>\n",
       "</ol>\n"
      ],
      "text/latex": [
       "\\begin{enumerate}\n",
       "\\item 0.726637352410408\n",
       "\\end{enumerate}\n"
      ],
      "text/markdown": [
       "1. 0.726637352410408\n",
       "\n",
       "\n"
      ],
      "text/plain": [
       "[[1]]\n",
       "[1] 0.7266374\n"
      ]
     },
     "metadata": {},
     "output_type": "display_data"
    },
    {
     "data": {
      "image/png": "[encoded data removed]",
      "text/plain": [
       "plot without title"
      ]
     },
     "metadata": {
      "image/png": {
       "height": 900,
       "width": 900
      }
     },
     "output_type": "display_data"
    }
   ],
   "source": [
    "#Calculo las metricas\n",
    "pred <- prediction(dtest$prob_baja2, dtest$clase_ternaria=='BAJA+2')\n",
    "\n",
    "#Calculo las metricas\n",
    "perf <- performance(pred, measure = \"tpr\", x.measure = \"fpr\")\n",
    "\n",
    "#Grafico la ROC\n",
    "plot(perf, col=rainbow(10))\n",
    "\n",
    "#Determino AUC\n",
    "performance( pred,\"auc\")@y.values"
   ]
  },
  {
   "cell_type": "code",
   "execution_count": 12,
   "metadata": {
    "papermill": {
     "duration": 110.854829,
     "end_time": "2020-09-04T19:04:15.329508",
     "exception": false,
     "start_time": "2020-09-04T19:02:24.474679",
     "status": "completed"
    },
    "tags": [],
    "vscode": {
     "languageId": "r"
    }
   },
   "outputs": [
    {
     "name": "stdout",
     "output_type": "stream",
     "text": [
      "[1] 12.39837\n"
     ]
    },
    {
     "data": {
      "image/png": "[encoded data removed]",
      "text/plain": [
       "plot without title"
      ]
     },
     "metadata": {
      "image/png": {
       "height": 900,
       "width": 900
      }
     },
     "output_type": "display_data"
    }
   ],
   "source": [
    "#Genero el modelo sobre dataset completo\n",
    "\n",
    "t0       <-  Sys.time()\n",
    "modelo   <-  rpart(\"clase_ternaria ~ .\",   data = dataset, maxdepth = 2,  cp=0,   xval=0)\n",
    "t1       <-  Sys.time()\n",
    "\n",
    "tcorrida <-  as.numeric( t1 - t0, units = \"secs\")\n",
    "print( tcorrida)\n",
    "\n",
    "#Arbol generado\n",
    "options(repr.plot.width=15, repr.plot.height=15)\n",
    "prp(modelo, extra=101, digits=5, branch=1, type=4, varlen=0, faclen=0, tweak=1.3)"
   ]
  },
  {
   "cell_type": "code",
   "execution_count": 13,
   "metadata": {
    "papermill": {
     "duration": 2.186041,
     "end_time": "2020-09-04T19:04:18.120606",
     "exception": false,
     "start_time": "2020-09-04T19:04:15.934565",
     "status": "completed"
    },
    "tags": [],
    "vscode": {
     "languageId": "r"
    }
   },
   "outputs": [
    {
     "name": "stderr",
     "output_type": "stream",
     "text": [
      "Warning message in dir.create(\"./exp/KA2002\"):\n",
      "\"'.\\exp\\KA2002' already exists\"\n"
     ]
    }
   ],
   "source": [
    "prediccion  <- predict( modelo, dapply , type = \"prob\") #aplico el modelo\n",
    "dapply[ , prob_baja2 := prediccion[, \"BAJA+2\"] ]\n",
    "dapply[ , Predicted  := as.numeric(prob_baja2 > 1/40) ]\n",
    "dir.create( \"./exp/KA2002\" )\n",
    "fwrite( dapply[ , list(numero_de_cliente, Predicted) ], #solo los campos para Kaggle\n",
    "        file= \"./exp/KA2002/KA2002_001.csv\", \n",
    "        sep= \",\" )"
   ]
  },
  {
   "cell_type": "code",
   "execution_count": null,
   "metadata": {
    "vscode": {
     "languageId": "r"
    }
   },
   "outputs": [],
   "source": []
  }
 ],
 "metadata": {
  "kernelspec": {
   "display_name": "R",
   "language": "R",
   "name": "ir"
  },
  "language_info": {
   "codemirror_mode": "r",
   "file_extension": ".r",
   "mimetype": "text/x-r-source",
   "name": "R",
   "pygments_lexer": "r",
   "version": "4.2.1"
  },
  "papermill": {
   "duration": 216.919775,
   "end_time": "2020-09-04T19:04:21.680072",
   "environment_variables": {},
   "exception": null,
   "input_path": "__notebook__.ipynb",
   "output_path": "__notebook__.ipynb",
   "parameters": {},
   "start_time": "2020-09-04T19:00:44.760297",
   "version": "2.1.2"
  }
 },
 "nbformat": 4,
 "nbformat_minor": 4
}
