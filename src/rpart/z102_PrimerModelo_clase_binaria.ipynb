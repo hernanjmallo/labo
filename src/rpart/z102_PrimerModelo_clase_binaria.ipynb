{
 "cells": [
  {
   "cell_type": "markdown",
   "metadata": {},
   "source": [
    "## Arbol elemental con libreria  rpart"
   ]
  },
  {
   "cell_type": "markdown",
   "metadata": {},
   "source": [
    "Debe tener instaladas las librerias  data.table  ,  rpart   y rpart.plot"
   ]
  },
  {
   "cell_type": "code",
   "execution_count": 16,
   "metadata": {},
   "outputs": [],
   "source": [
    "#cargo las librerias que necesito\n",
    "require(\"data.table\")\n",
    "require(\"rpart\")\n",
    "require(\"rpart.plot\")\n",
    "require(\"caret\")"
   ]
  },
  {
   "cell_type": "markdown",
   "metadata": {},
   "source": [
    "Aqui se debe poner la carpeta de SU computadora local"
   ]
  },
  {
   "cell_type": "code",
   "execution_count": 17,
   "metadata": {},
   "outputs": [],
   "source": [
    "setwd(\"~/lab1\")  #Establezco el Working Directory"
   ]
  },
  {
   "cell_type": "markdown",
   "metadata": {},
   "source": [
    "cargo el dataset"
   ]
  },
  {
   "cell_type": "code",
   "execution_count": 18,
   "metadata": {},
   "outputs": [],
   "source": [
    "dataset  <- fread(\"./datasets/competencia1_2022_FE.csv\")"
   ]
  },
  {
   "cell_type": "code",
   "execution_count": 19,
   "metadata": {},
   "outputs": [],
   "source": [
    "#creo la clase_binaria SI={ BAJA+1, BAJA+2 }    NO={ CONTINUA }\n",
    "dataset[ , clase_binaria :=  ifelse( clase_ternaria==\"CONTINUA\", \"NO\", \"SI\" ) ]"
   ]
  },
  {
   "cell_type": "markdown",
   "metadata": {},
   "source": [
    "defino donde entreno y donde aplico el modelo"
   ]
  },
  {
   "cell_type": "code",
   "execution_count": 20,
   "metadata": {},
   "outputs": [],
   "source": [
    "dtrain  <- dataset[ foto_mes==202101 ]  #defino donde voy a entrenar\n",
    "dapply  <- dataset[ foto_mes==202103 ]  #defino donde voy a aplicar el modelo"
   ]
  },
  {
   "cell_type": "code",
   "execution_count": 21,
   "metadata": {},
   "outputs": [
    {
     "data": {
      "text/html": [
       "<table class=\"dataframe\">\n",
       "<caption>A data.table: 6 × 195</caption>\n",
       "<thead>\n",
       "\t<tr><th scope=col>numero_de_cliente</th><th scope=col>foto_mes</th><th scope=col>active_quarter</th><th scope=col>cliente_vip</th><th scope=col>internet</th><th scope=col>cliente_edad</th><th scope=col>cliente_antiguedad</th><th scope=col>mrentabilidad</th><th scope=col>mrentabilidad_annual</th><th scope=col>mcomisiones</th><th scope=col>⋯</th><th scope=col>new_limite_saldo</th><th scope=col>new_limite_consumo</th><th scope=col>new_limite_saldototal</th><th scope=col>new_limite_pagopesos</th><th scope=col>new_limite_debaut</th><th scope=col>new_limite_consumoV</th><th scope=col>new_limite_fechaaltaV</th><th scope=col>new_limite_fechaaltaM</th><th scope=col>new_w_status_limite</th><th scope=col>clase_binaria</th></tr>\n",
       "\t<tr><th scope=col>&lt;int&gt;</th><th scope=col>&lt;int&gt;</th><th scope=col>&lt;int&gt;</th><th scope=col>&lt;int&gt;</th><th scope=col>&lt;int&gt;</th><th scope=col>&lt;int&gt;</th><th scope=col>&lt;int&gt;</th><th scope=col>&lt;dbl&gt;</th><th scope=col>&lt;dbl&gt;</th><th scope=col>&lt;dbl&gt;</th><th scope=col>⋯</th><th scope=col>&lt;dbl&gt;</th><th scope=col>&lt;dbl&gt;</th><th scope=col>&lt;dbl&gt;</th><th scope=col>&lt;dbl&gt;</th><th scope=col>&lt;dbl&gt;</th><th scope=col>&lt;dbl&gt;</th><th scope=col>&lt;dbl&gt;</th><th scope=col>&lt;dbl&gt;</th><th scope=col>&lt;chr&gt;</th><th scope=col>&lt;chr&gt;</th></tr>\n",
       "</thead>\n",
       "<tbody>\n",
       "\t<tr><td>31115668</td><td>202101</td><td>1</td><td>0</td><td>0</td><td>56</td><td>132</td><td> 1897.12</td><td> 24324.75</td><td> 940.32</td><td>⋯</td><td> 14937.75</td><td>  7.635232</td><td>  8.672011</td><td>  -8.663343</td><td> 7.635232</td><td>140760.00</td><td> 35.21641</td><td>  43.11179</td><td>1 1 1  </td><td>NO</td></tr>\n",
       "\t<tr><td>31115678</td><td>202101</td><td>1</td><td>0</td><td>0</td><td>48</td><td>100</td><td> -384.72</td><td> 33860.45</td><td>-515.53</td><td>⋯</td><td>  -329.99</td><td>       Inf</td><td>  2.000000</td><td>   2.000000</td><td>      Inf</td><td>     2.00</td><td>       NA</td><td>        NA</td><td>NA NA 0</td><td>NO</td></tr>\n",
       "\t<tr><td>31117415</td><td>202101</td><td>1</td><td>0</td><td>0</td><td>60</td><td> 53</td><td>-3622.66</td><td>-21310.32</td><td>2442.04</td><td>⋯</td><td> 55061.04</td><td>  7.188682</td><td>  4.290357</td><td>  -4.210526</td><td>49.207492</td><td> 35190.00</td><td> 89.48506</td><td>  89.48506</td><td>1 1 0  </td><td>NO</td></tr>\n",
       "\t<tr><td>31117711</td><td>202101</td><td>1</td><td>0</td><td>0</td><td>46</td><td>273</td><td>14542.05</td><td>125727.99</td><td>1037.77</td><td>⋯</td><td>838259.66</td><td>142.240887</td><td>152.325932</td><td>-111.575515</td><td>      Inf</td><td>365705.11</td><td>531.80579</td><td>2046.85698</td><td>1 1 1  </td><td>NO</td></tr>\n",
       "\t<tr><td>31118145</td><td>202101</td><td>1</td><td>0</td><td>0</td><td>47</td><td>192</td><td> 1868.27</td><td> 37305.29</td><td>1496.68</td><td>⋯</td><td>144217.80</td><td> 24.486775</td><td> 16.926055</td><td>        Inf</td><td>      Inf</td><td>154836.00</td><td> 26.50394</td><td>  26.50394</td><td>1 1 0  </td><td>NO</td></tr>\n",
       "\t<tr><td>31118204</td><td>202101</td><td>1</td><td>0</td><td>0</td><td>68</td><td>258</td><td> 2301.86</td><td> 60781.98</td><td>3240.88</td><td>⋯</td><td>372394.12</td><td>  8.681904</td><td> 10.063114</td><td>  -8.451295</td><td>12.107525</td><td> 23184.06</td><td>126.28292</td><td>        NA</td><td>1 NA 1 </td><td>NO</td></tr>\n",
       "</tbody>\n",
       "</table>\n"
      ],
      "text/latex": [
       "A data.table: 6 × 195\n",
       "\\begin{tabular}{lllllllllllllllllllll}\n",
       " numero\\_de\\_cliente & foto\\_mes & active\\_quarter & cliente\\_vip & internet & cliente\\_edad & cliente\\_antiguedad & mrentabilidad & mrentabilidad\\_annual & mcomisiones & ⋯ & new\\_limite\\_saldo & new\\_limite\\_consumo & new\\_limite\\_saldototal & new\\_limite\\_pagopesos & new\\_limite\\_debaut & new\\_limite\\_consumoV & new\\_limite\\_fechaaltaV & new\\_limite\\_fechaaltaM & new\\_w\\_status\\_limite & clase\\_binaria\\\\\n",
       " <int> & <int> & <int> & <int> & <int> & <int> & <int> & <dbl> & <dbl> & <dbl> & ⋯ & <dbl> & <dbl> & <dbl> & <dbl> & <dbl> & <dbl> & <dbl> & <dbl> & <chr> & <chr>\\\\\n",
       "\\hline\n",
       "\t 31115668 & 202101 & 1 & 0 & 0 & 56 & 132 &  1897.12 &  24324.75 &  940.32 & ⋯ &  14937.75 &   7.635232 &   8.672011 &   -8.663343 &  7.635232 & 140760.00 &  35.21641 &   43.11179 & 1 1 1   & NO\\\\\n",
       "\t 31115678 & 202101 & 1 & 0 & 0 & 48 & 100 &  -384.72 &  33860.45 & -515.53 & ⋯ &   -329.99 &        Inf &   2.000000 &    2.000000 &       Inf &      2.00 &        NA &         NA & NA NA 0 & NO\\\\\n",
       "\t 31117415 & 202101 & 1 & 0 & 0 & 60 &  53 & -3622.66 & -21310.32 & 2442.04 & ⋯ &  55061.04 &   7.188682 &   4.290357 &   -4.210526 & 49.207492 &  35190.00 &  89.48506 &   89.48506 & 1 1 0   & NO\\\\\n",
       "\t 31117711 & 202101 & 1 & 0 & 0 & 46 & 273 & 14542.05 & 125727.99 & 1037.77 & ⋯ & 838259.66 & 142.240887 & 152.325932 & -111.575515 &       Inf & 365705.11 & 531.80579 & 2046.85698 & 1 1 1   & NO\\\\\n",
       "\t 31118145 & 202101 & 1 & 0 & 0 & 47 & 192 &  1868.27 &  37305.29 & 1496.68 & ⋯ & 144217.80 &  24.486775 &  16.926055 &         Inf &       Inf & 154836.00 &  26.50394 &   26.50394 & 1 1 0   & NO\\\\\n",
       "\t 31118204 & 202101 & 1 & 0 & 0 & 68 & 258 &  2301.86 &  60781.98 & 3240.88 & ⋯ & 372394.12 &   8.681904 &  10.063114 &   -8.451295 & 12.107525 &  23184.06 & 126.28292 &         NA & 1 NA 1  & NO\\\\\n",
       "\\end{tabular}\n"
      ],
      "text/markdown": [
       "\n",
       "A data.table: 6 × 195\n",
       "\n",
       "| numero_de_cliente &lt;int&gt; | foto_mes &lt;int&gt; | active_quarter &lt;int&gt; | cliente_vip &lt;int&gt; | internet &lt;int&gt; | cliente_edad &lt;int&gt; | cliente_antiguedad &lt;int&gt; | mrentabilidad &lt;dbl&gt; | mrentabilidad_annual &lt;dbl&gt; | mcomisiones &lt;dbl&gt; | ⋯ ⋯ | new_limite_saldo &lt;dbl&gt; | new_limite_consumo &lt;dbl&gt; | new_limite_saldototal &lt;dbl&gt; | new_limite_pagopesos &lt;dbl&gt; | new_limite_debaut &lt;dbl&gt; | new_limite_consumoV &lt;dbl&gt; | new_limite_fechaaltaV &lt;dbl&gt; | new_limite_fechaaltaM &lt;dbl&gt; | new_w_status_limite &lt;chr&gt; | clase_binaria &lt;chr&gt; |\n",
       "|---|---|---|---|---|---|---|---|---|---|---|---|---|---|---|---|---|---|---|---|---|\n",
       "| 31115668 | 202101 | 1 | 0 | 0 | 56 | 132 |  1897.12 |  24324.75 |  940.32 | ⋯ |  14937.75 |   7.635232 |   8.672011 |   -8.663343 |  7.635232 | 140760.00 |  35.21641 |   43.11179 | 1 1 1   | NO |\n",
       "| 31115678 | 202101 | 1 | 0 | 0 | 48 | 100 |  -384.72 |  33860.45 | -515.53 | ⋯ |   -329.99 |        Inf |   2.000000 |    2.000000 |       Inf |      2.00 |        NA |         NA | NA NA 0 | NO |\n",
       "| 31117415 | 202101 | 1 | 0 | 0 | 60 |  53 | -3622.66 | -21310.32 | 2442.04 | ⋯ |  55061.04 |   7.188682 |   4.290357 |   -4.210526 | 49.207492 |  35190.00 |  89.48506 |   89.48506 | 1 1 0   | NO |\n",
       "| 31117711 | 202101 | 1 | 0 | 0 | 46 | 273 | 14542.05 | 125727.99 | 1037.77 | ⋯ | 838259.66 | 142.240887 | 152.325932 | -111.575515 |       Inf | 365705.11 | 531.80579 | 2046.85698 | 1 1 1   | NO |\n",
       "| 31118145 | 202101 | 1 | 0 | 0 | 47 | 192 |  1868.27 |  37305.29 | 1496.68 | ⋯ | 144217.80 |  24.486775 |  16.926055 |         Inf |       Inf | 154836.00 |  26.50394 |   26.50394 | 1 1 0   | NO |\n",
       "| 31118204 | 202101 | 1 | 0 | 0 | 68 | 258 |  2301.86 |  60781.98 | 3240.88 | ⋯ | 372394.12 |   8.681904 |  10.063114 |   -8.451295 | 12.107525 |  23184.06 | 126.28292 |         NA | 1 NA 1  | NO |\n",
       "\n"
      ],
      "text/plain": [
       "  numero_de_cliente foto_mes active_quarter cliente_vip internet cliente_edad\n",
       "1 31115668          202101   1              0           0        56          \n",
       "2 31115678          202101   1              0           0        48          \n",
       "3 31117415          202101   1              0           0        60          \n",
       "4 31117711          202101   1              0           0        46          \n",
       "5 31118145          202101   1              0           0        47          \n",
       "6 31118204          202101   1              0           0        68          \n",
       "  cliente_antiguedad mrentabilidad mrentabilidad_annual mcomisiones ⋯\n",
       "1 132                 1897.12       24324.75             940.32     ⋯\n",
       "2 100                 -384.72       33860.45            -515.53     ⋯\n",
       "3  53                -3622.66      -21310.32            2442.04     ⋯\n",
       "4 273                14542.05      125727.99            1037.77     ⋯\n",
       "5 192                 1868.27       37305.29            1496.68     ⋯\n",
       "6 258                 2301.86       60781.98            3240.88     ⋯\n",
       "  new_limite_saldo new_limite_consumo new_limite_saldototal\n",
       "1  14937.75          7.635232           8.672011           \n",
       "2   -329.99               Inf           2.000000           \n",
       "3  55061.04          7.188682           4.290357           \n",
       "4 838259.66        142.240887         152.325932           \n",
       "5 144217.80         24.486775          16.926055           \n",
       "6 372394.12          8.681904          10.063114           \n",
       "  new_limite_pagopesos new_limite_debaut new_limite_consumoV\n",
       "1   -8.663343           7.635232         140760.00          \n",
       "2    2.000000                Inf              2.00          \n",
       "3   -4.210526          49.207492          35190.00          \n",
       "4 -111.575515                Inf         365705.11          \n",
       "5         Inf                Inf         154836.00          \n",
       "6   -8.451295          12.107525          23184.06          \n",
       "  new_limite_fechaaltaV new_limite_fechaaltaM new_w_status_limite clase_binaria\n",
       "1  35.21641               43.11179            1 1 1               NO           \n",
       "2        NA                     NA            NA NA 0             NO           \n",
       "3  89.48506               89.48506            1 1 0               NO           \n",
       "4 531.80579             2046.85698            1 1 1               NO           \n",
       "5  26.50394               26.50394            1 1 0               NO           \n",
       "6 126.28292                     NA            1 NA 1              NO           "
      ]
     },
     "metadata": {},
     "output_type": "display_data"
    }
   ],
   "source": [
    "#sitaxis head\n",
    "head(dataset)"
   ]
  },
  {
   "cell_type": "markdown",
   "metadata": {},
   "source": [
    "genero el modelo,  aqui se construye el arbol"
   ]
  },
  {
   "cell_type": "code",
   "execution_count": 22,
   "metadata": {},
   "outputs": [],
   "source": [
    "modelo  <- rpart(formula=    \"clase_binaria ~ . -clase_ternaria\", #quiero predecir clase_ternaria a partir de el resto de las variables\n",
    "                 data =      dtrain,  #los datos donde voy a entrenar\n",
    "                 xval=       0,\n",
    "                 cp=        -0.765, #esto significa no limitar la complejidad de los splits\n",
    "                 minsplit=   492,   #minima cantidad de registros para que se haga el split\n",
    "                 minbucket=  244,   #tamaño minimo de una hoja\n",
    "                 maxdepth=  7)  #PRUEBO  una profundidad de 10\n",
    "\n",
    "#modelo  <- rpart(formula=    \"clase_binaria ~ . -clase_ternaria\", #quiero predecir clase_ternaria a partir de el resto de las variables\n",
    "#                 data =      dtrain,  #los datos donde voy a entrenar\n",
    "#                 xval=       0,\n",
    "#                 cp=        -0.321, #esto significa no limitar la complejidad de los splits\n",
    "#                 minsplit= 744,   #minima cantidad de registros para que se haga el split\n",
    "#                 minbucket=  3.15,   #tamaño minimo de una hoja\n",
    "#                 maxdepth=  9)  #PRUEBO  una profundidad de 10"
   ]
  },
  {
   "cell_type": "code",
   "execution_count": 23,
   "metadata": {},
   "outputs": [
    {
     "data": {
      "text/html": [
       "<table class=\"dataframe\">\n",
       "<caption>A data.frame: 193 × 1</caption>\n",
       "<thead>\n",
       "\t<tr><th></th><th scope=col>Overall</th></tr>\n",
       "\t<tr><th></th><th scope=col>&lt;dbl&gt;</th></tr>\n",
       "</thead>\n",
       "<tbody>\n",
       "\t<tr><th scope=row>ccajas_consultas</th><td>  0.10697162</td></tr>\n",
       "\t<tr><th scope=row>ccallcenter_transacciones</th><td>  0.29764391</td></tr>\n",
       "\t<tr><th scope=row>ccomisiones_mantenimiento</th><td>  3.90471614</td></tr>\n",
       "\t<tr><th scope=row>cdescubierto_preacordado</th><td> 24.03916188</td></tr>\n",
       "\t<tr><th scope=row>chomebanking_transacciones</th><td>  3.99574069</td></tr>\n",
       "\t<tr><th scope=row>cliente_antiguedad</th><td>  7.66531894</td></tr>\n",
       "\t<tr><th scope=row>cliente_edad</th><td>  0.59022762</td></tr>\n",
       "\t<tr><th scope=row>cpayroll_trx</th><td>  3.13885865</td></tr>\n",
       "\t<tr><th scope=row>cprestamos_personales</th><td>  5.39705666</td></tr>\n",
       "\t<tr><th scope=row>ctarjeta_debito</th><td>  0.12522314</td></tr>\n",
       "\t<tr><th scope=row>ctarjeta_debito_transacciones</th><td>  0.30192946</td></tr>\n",
       "\t<tr><th scope=row>ctarjeta_master</th><td> 16.20222218</td></tr>\n",
       "\t<tr><th scope=row>ctarjeta_visa</th><td>  2.87891101</td></tr>\n",
       "\t<tr><th scope=row>ctarjeta_visa_debitos_automaticos</th><td>  0.52734472</td></tr>\n",
       "\t<tr><th scope=row>ctarjeta_visa_transacciones</th><td>  5.03422418</td></tr>\n",
       "\t<tr><th scope=row>ctrx_quarter</th><td>122.22126418</td></tr>\n",
       "\t<tr><th scope=row>mactivos_margen</th><td>  7.84037497</td></tr>\n",
       "\t<tr><th scope=row>Master_fechaalta</th><td> 11.38495651</td></tr>\n",
       "\t<tr><th scope=row>Master_Fvencimiento</th><td>  8.08199724</td></tr>\n",
       "\t<tr><th scope=row>mautoservicio</th><td>  1.99178760</td></tr>\n",
       "\t<tr><th scope=row>mcaja_ahorro</th><td> 91.25491572</td></tr>\n",
       "\t<tr><th scope=row>mcaja_ahorro_dolares</th><td>  0.16378554</td></tr>\n",
       "\t<tr><th scope=row>mcomisiones</th><td> 30.68258376</td></tr>\n",
       "\t<tr><th scope=row>mcomisiones_mantenimiento</th><td> 18.57324294</td></tr>\n",
       "\t<tr><th scope=row>mcomisiones_otras</th><td> 24.26915858</td></tr>\n",
       "\t<tr><th scope=row>mcuenta_corriente</th><td> 57.06175460</td></tr>\n",
       "\t<tr><th scope=row>mcuentas_saldo</th><td> 83.88031308</td></tr>\n",
       "\t<tr><th scope=row>mpagomiscuentas</th><td>  0.06187675</td></tr>\n",
       "\t<tr><th scope=row>mpasivos_margen</th><td> 56.43608093</td></tr>\n",
       "\t<tr><th scope=row>mpayroll</th><td>  1.03292014</td></tr>\n",
       "\t<tr><th scope=row>⋮</th><td>⋮</td></tr>\n",
       "\t<tr><th scope=row>Master_mpagospesos</th><td>0</td></tr>\n",
       "\t<tr><th scope=row>Master_mpagosdolares</th><td>0</td></tr>\n",
       "\t<tr><th scope=row>Master_mconsumototal</th><td>0</td></tr>\n",
       "\t<tr><th scope=row>Master_cconsumos</th><td>0</td></tr>\n",
       "\t<tr><th scope=row>Master_cadelantosefectivo</th><td>0</td></tr>\n",
       "\t<tr><th scope=row>Master_mpagominimo</th><td>0</td></tr>\n",
       "\t<tr><th scope=row>Visa_delinquency</th><td>0</td></tr>\n",
       "\t<tr><th scope=row>Visa_status</th><td>0</td></tr>\n",
       "\t<tr><th scope=row>Visa_mfinanciacion_limite</th><td>0</td></tr>\n",
       "\t<tr><th scope=row>Visa_Finiciomora</th><td>0</td></tr>\n",
       "\t<tr><th scope=row>Visa_msaldodolares</th><td>0</td></tr>\n",
       "\t<tr><th scope=row>Visa_mconsumosdolares</th><td>0</td></tr>\n",
       "\t<tr><th scope=row>Visa_mlimitecompra</th><td>0</td></tr>\n",
       "\t<tr><th scope=row>Visa_madelantopesos</th><td>0</td></tr>\n",
       "\t<tr><th scope=row>Visa_madelantodolares</th><td>0</td></tr>\n",
       "\t<tr><th scope=row>Visa_fultimo_cierre</th><td>0</td></tr>\n",
       "\t<tr><th scope=row>Visa_mpagado</th><td>0</td></tr>\n",
       "\t<tr><th scope=row>Visa_mpagosdolares</th><td>0</td></tr>\n",
       "\t<tr><th scope=row>Visa_cconsumos</th><td>0</td></tr>\n",
       "\t<tr><th scope=row>Visa_cadelantosefectivo</th><td>0</td></tr>\n",
       "\t<tr><th scope=row>mv_status02</th><td>0</td></tr>\n",
       "\t<tr><th scope=row>mv_mfinanciacion_limite</th><td>0</td></tr>\n",
       "\t<tr><th scope=row>mv_Finiciomora</th><td>0</td></tr>\n",
       "\t<tr><th scope=row>mv_mconsumosdolares</th><td>0</td></tr>\n",
       "\t<tr><th scope=row>mv_mlimitecompra</th><td>0</td></tr>\n",
       "\t<tr><th scope=row>mv_mpagado</th><td>0</td></tr>\n",
       "\t<tr><th scope=row>mv_cconsumos</th><td>0</td></tr>\n",
       "\t<tr><th scope=row>new_avg_visa_master</th><td>0</td></tr>\n",
       "\t<tr><th scope=row>new_rent_si_no</th><td>0</td></tr>\n",
       "\t<tr><th scope=row>new_mcuentas_saldo</th><td>0</td></tr>\n",
       "</tbody>\n",
       "</table>\n"
      ],
      "text/latex": [
       "A data.frame: 193 × 1\n",
       "\\begin{tabular}{r|l}\n",
       "  & Overall\\\\\n",
       "  & <dbl>\\\\\n",
       "\\hline\n",
       "\tccajas\\_consultas &   0.10697162\\\\\n",
       "\tccallcenter\\_transacciones &   0.29764391\\\\\n",
       "\tccomisiones\\_mantenimiento &   3.90471614\\\\\n",
       "\tcdescubierto\\_preacordado &  24.03916188\\\\\n",
       "\tchomebanking\\_transacciones &   3.99574069\\\\\n",
       "\tcliente\\_antiguedad &   7.66531894\\\\\n",
       "\tcliente\\_edad &   0.59022762\\\\\n",
       "\tcpayroll\\_trx &   3.13885865\\\\\n",
       "\tcprestamos\\_personales &   5.39705666\\\\\n",
       "\tctarjeta\\_debito &   0.12522314\\\\\n",
       "\tctarjeta\\_debito\\_transacciones &   0.30192946\\\\\n",
       "\tctarjeta\\_master &  16.20222218\\\\\n",
       "\tctarjeta\\_visa &   2.87891101\\\\\n",
       "\tctarjeta\\_visa\\_debitos\\_automaticos &   0.52734472\\\\\n",
       "\tctarjeta\\_visa\\_transacciones &   5.03422418\\\\\n",
       "\tctrx\\_quarter & 122.22126418\\\\\n",
       "\tmactivos\\_margen &   7.84037497\\\\\n",
       "\tMaster\\_fechaalta &  11.38495651\\\\\n",
       "\tMaster\\_Fvencimiento &   8.08199724\\\\\n",
       "\tmautoservicio &   1.99178760\\\\\n",
       "\tmcaja\\_ahorro &  91.25491572\\\\\n",
       "\tmcaja\\_ahorro\\_dolares &   0.16378554\\\\\n",
       "\tmcomisiones &  30.68258376\\\\\n",
       "\tmcomisiones\\_mantenimiento &  18.57324294\\\\\n",
       "\tmcomisiones\\_otras &  24.26915858\\\\\n",
       "\tmcuenta\\_corriente &  57.06175460\\\\\n",
       "\tmcuentas\\_saldo &  83.88031308\\\\\n",
       "\tmpagomiscuentas &   0.06187675\\\\\n",
       "\tmpasivos\\_margen &  56.43608093\\\\\n",
       "\tmpayroll &   1.03292014\\\\\n",
       "\t⋮ & ⋮\\\\\n",
       "\tMaster\\_mpagospesos & 0\\\\\n",
       "\tMaster\\_mpagosdolares & 0\\\\\n",
       "\tMaster\\_mconsumototal & 0\\\\\n",
       "\tMaster\\_cconsumos & 0\\\\\n",
       "\tMaster\\_cadelantosefectivo & 0\\\\\n",
       "\tMaster\\_mpagominimo & 0\\\\\n",
       "\tVisa\\_delinquency & 0\\\\\n",
       "\tVisa\\_status & 0\\\\\n",
       "\tVisa\\_mfinanciacion\\_limite & 0\\\\\n",
       "\tVisa\\_Finiciomora & 0\\\\\n",
       "\tVisa\\_msaldodolares & 0\\\\\n",
       "\tVisa\\_mconsumosdolares & 0\\\\\n",
       "\tVisa\\_mlimitecompra & 0\\\\\n",
       "\tVisa\\_madelantopesos & 0\\\\\n",
       "\tVisa\\_madelantodolares & 0\\\\\n",
       "\tVisa\\_fultimo\\_cierre & 0\\\\\n",
       "\tVisa\\_mpagado & 0\\\\\n",
       "\tVisa\\_mpagosdolares & 0\\\\\n",
       "\tVisa\\_cconsumos & 0\\\\\n",
       "\tVisa\\_cadelantosefectivo & 0\\\\\n",
       "\tmv\\_status02 & 0\\\\\n",
       "\tmv\\_mfinanciacion\\_limite & 0\\\\\n",
       "\tmv\\_Finiciomora & 0\\\\\n",
       "\tmv\\_mconsumosdolares & 0\\\\\n",
       "\tmv\\_mlimitecompra & 0\\\\\n",
       "\tmv\\_mpagado & 0\\\\\n",
       "\tmv\\_cconsumos & 0\\\\\n",
       "\tnew\\_avg\\_visa\\_master & 0\\\\\n",
       "\tnew\\_rent\\_si\\_no & 0\\\\\n",
       "\tnew\\_mcuentas\\_saldo & 0\\\\\n",
       "\\end{tabular}\n"
      ],
      "text/markdown": [
       "\n",
       "A data.frame: 193 × 1\n",
       "\n",
       "| <!--/--> | Overall &lt;dbl&gt; |\n",
       "|---|---|\n",
       "| ccajas_consultas |   0.10697162 |\n",
       "| ccallcenter_transacciones |   0.29764391 |\n",
       "| ccomisiones_mantenimiento |   3.90471614 |\n",
       "| cdescubierto_preacordado |  24.03916188 |\n",
       "| chomebanking_transacciones |   3.99574069 |\n",
       "| cliente_antiguedad |   7.66531894 |\n",
       "| cliente_edad |   0.59022762 |\n",
       "| cpayroll_trx |   3.13885865 |\n",
       "| cprestamos_personales |   5.39705666 |\n",
       "| ctarjeta_debito |   0.12522314 |\n",
       "| ctarjeta_debito_transacciones |   0.30192946 |\n",
       "| ctarjeta_master |  16.20222218 |\n",
       "| ctarjeta_visa |   2.87891101 |\n",
       "| ctarjeta_visa_debitos_automaticos |   0.52734472 |\n",
       "| ctarjeta_visa_transacciones |   5.03422418 |\n",
       "| ctrx_quarter | 122.22126418 |\n",
       "| mactivos_margen |   7.84037497 |\n",
       "| Master_fechaalta |  11.38495651 |\n",
       "| Master_Fvencimiento |   8.08199724 |\n",
       "| mautoservicio |   1.99178760 |\n",
       "| mcaja_ahorro |  91.25491572 |\n",
       "| mcaja_ahorro_dolares |   0.16378554 |\n",
       "| mcomisiones |  30.68258376 |\n",
       "| mcomisiones_mantenimiento |  18.57324294 |\n",
       "| mcomisiones_otras |  24.26915858 |\n",
       "| mcuenta_corriente |  57.06175460 |\n",
       "| mcuentas_saldo |  83.88031308 |\n",
       "| mpagomiscuentas |   0.06187675 |\n",
       "| mpasivos_margen |  56.43608093 |\n",
       "| mpayroll |   1.03292014 |\n",
       "| ⋮ | ⋮ |\n",
       "| Master_mpagospesos | 0 |\n",
       "| Master_mpagosdolares | 0 |\n",
       "| Master_mconsumototal | 0 |\n",
       "| Master_cconsumos | 0 |\n",
       "| Master_cadelantosefectivo | 0 |\n",
       "| Master_mpagominimo | 0 |\n",
       "| Visa_delinquency | 0 |\n",
       "| Visa_status | 0 |\n",
       "| Visa_mfinanciacion_limite | 0 |\n",
       "| Visa_Finiciomora | 0 |\n",
       "| Visa_msaldodolares | 0 |\n",
       "| Visa_mconsumosdolares | 0 |\n",
       "| Visa_mlimitecompra | 0 |\n",
       "| Visa_madelantopesos | 0 |\n",
       "| Visa_madelantodolares | 0 |\n",
       "| Visa_fultimo_cierre | 0 |\n",
       "| Visa_mpagado | 0 |\n",
       "| Visa_mpagosdolares | 0 |\n",
       "| Visa_cconsumos | 0 |\n",
       "| Visa_cadelantosefectivo | 0 |\n",
       "| mv_status02 | 0 |\n",
       "| mv_mfinanciacion_limite | 0 |\n",
       "| mv_Finiciomora | 0 |\n",
       "| mv_mconsumosdolares | 0 |\n",
       "| mv_mlimitecompra | 0 |\n",
       "| mv_mpagado | 0 |\n",
       "| mv_cconsumos | 0 |\n",
       "| new_avg_visa_master | 0 |\n",
       "| new_rent_si_no | 0 |\n",
       "| new_mcuentas_saldo | 0 |\n",
       "\n"
      ],
      "text/plain": [
       "                                  Overall     \n",
       "ccajas_consultas                    0.10697162\n",
       "ccallcenter_transacciones           0.29764391\n",
       "ccomisiones_mantenimiento           3.90471614\n",
       "cdescubierto_preacordado           24.03916188\n",
       "chomebanking_transacciones          3.99574069\n",
       "cliente_antiguedad                  7.66531894\n",
       "cliente_edad                        0.59022762\n",
       "cpayroll_trx                        3.13885865\n",
       "cprestamos_personales               5.39705666\n",
       "ctarjeta_debito                     0.12522314\n",
       "ctarjeta_debito_transacciones       0.30192946\n",
       "ctarjeta_master                    16.20222218\n",
       "ctarjeta_visa                       2.87891101\n",
       "ctarjeta_visa_debitos_automaticos   0.52734472\n",
       "ctarjeta_visa_transacciones         5.03422418\n",
       "ctrx_quarter                      122.22126418\n",
       "mactivos_margen                     7.84037497\n",
       "Master_fechaalta                   11.38495651\n",
       "Master_Fvencimiento                 8.08199724\n",
       "mautoservicio                       1.99178760\n",
       "mcaja_ahorro                       91.25491572\n",
       "mcaja_ahorro_dolares                0.16378554\n",
       "mcomisiones                        30.68258376\n",
       "mcomisiones_mantenimiento          18.57324294\n",
       "mcomisiones_otras                  24.26915858\n",
       "mcuenta_corriente                  57.06175460\n",
       "mcuentas_saldo                     83.88031308\n",
       "mpagomiscuentas                     0.06187675\n",
       "mpasivos_margen                    56.43608093\n",
       "mpayroll                            1.03292014\n",
       "⋮                                 ⋮           \n",
       "Master_mpagospesos                0           \n",
       "Master_mpagosdolares              0           \n",
       "Master_mconsumototal              0           \n",
       "Master_cconsumos                  0           \n",
       "Master_cadelantosefectivo         0           \n",
       "Master_mpagominimo                0           \n",
       "Visa_delinquency                  0           \n",
       "Visa_status                       0           \n",
       "Visa_mfinanciacion_limite         0           \n",
       "Visa_Finiciomora                  0           \n",
       "Visa_msaldodolares                0           \n",
       "Visa_mconsumosdolares             0           \n",
       "Visa_mlimitecompra                0           \n",
       "Visa_madelantopesos               0           \n",
       "Visa_madelantodolares             0           \n",
       "Visa_fultimo_cierre               0           \n",
       "Visa_mpagado                      0           \n",
       "Visa_mpagosdolares                0           \n",
       "Visa_cconsumos                    0           \n",
       "Visa_cadelantosefectivo           0           \n",
       "mv_status02                       0           \n",
       "mv_mfinanciacion_limite           0           \n",
       "mv_Finiciomora                    0           \n",
       "mv_mconsumosdolares               0           \n",
       "mv_mlimitecompra                  0           \n",
       "mv_mpagado                        0           \n",
       "mv_cconsumos                      0           \n",
       "new_avg_visa_master               0           \n",
       "new_rent_si_no                    0           \n",
       "new_mcuentas_saldo                0           "
      ]
     },
     "metadata": {},
     "output_type": "display_data"
    }
   ],
   "source": [
    "\n",
    "\n",
    "vim <- varImp(modelo,useModel=T)\n",
    "vim"
   ]
  },
  {
   "cell_type": "markdown",
   "metadata": {},
   "source": [
    "Ahora grafico el arbol, va a ser muy frondoso porque la profundidad es de 10"
   ]
  },
  {
   "cell_type": "code",
   "execution_count": 24,
   "metadata": {},
   "outputs": [],
   "source": [
    "#options(repr.plot.width=35, repr.plot.height=50)\n",
    "#prp(modelo, extra=101, digits=5, branch=1, type=4, varlen=0, faclen=0, tweak=1.3)"
   ]
  },
  {
   "cell_type": "markdown",
   "metadata": {},
   "source": [
    "Ahora aplico al modelo  a los datos muevos  y genero la salida para kaggle"
   ]
  },
  {
   "cell_type": "markdown",
   "metadata": {},
   "source": [
    "aplico el modelo a los datos nuevos"
   ]
  },
  {
   "cell_type": "code",
   "execution_count": 25,
   "metadata": {},
   "outputs": [],
   "source": [
    "prediccion  <- predict( modelo, dapply , type = \"prob\") #aplico el modelo"
   ]
  },
  {
   "cell_type": "markdown",
   "metadata": {},
   "source": [
    "prediccion es una matriz con TRES columnas, llamadas \"BAJA+1\", \"BAJA+2\"  y \"CONTINUA\"\n",
    "cada columna es el vector de probabilidades "
   ]
  },
  {
   "cell_type": "markdown",
   "metadata": {},
   "source": [
    "agrego a dapply una columna nueva que es la probabilidad de BAJA+2"
   ]
  },
  {
   "cell_type": "code",
   "execution_count": 26,
   "metadata": {},
   "outputs": [],
   "source": [
    "dapply[ , prob_si := prediccion[, \"SI\"] ]"
   ]
  },
  {
   "cell_type": "markdown",
   "metadata": {},
   "source": [
    "solo le envio estimulo a los registros con probabilidad de BAJA+2 mayor  a  1/40"
   ]
  },
  {
   "cell_type": "code",
   "execution_count": 33,
   "metadata": {},
   "outputs": [],
   "source": [
    "#dapply[ , Predicted  := as.numeric(prob_baja2 > 1/40) ]\n",
    "#dapply[ , Predicted  := as.numeric(prob_si > .028) ]\n",
    "dapply[ , Predicted  := as.numeric(prob_si > .035) ]"
   ]
  },
  {
   "cell_type": "markdown",
   "metadata": {},
   "source": [
    "Finalmente genero el archivo para Kaggle"
   ]
  },
  {
   "cell_type": "markdown",
   "metadata": {},
   "source": [
    "creo la carpeta donde va el experimento"
   ]
  },
  {
   "cell_type": "code",
   "execution_count": 34,
   "metadata": {},
   "outputs": [
    {
     "name": "stderr",
     "output_type": "stream",
     "text": [
      "Warning message in dir.create(\"./exp/KA2002\"):\n",
      "\"'.\\exp\\KA2002' already exists\"\n"
     ]
    }
   ],
   "source": [
    "dir.create( \"./exp/KA2002\" ) "
   ]
  },
  {
   "cell_type": "markdown",
   "metadata": {},
   "source": [
    "grabo el dataset"
   ]
  },
  {
   "cell_type": "code",
   "execution_count": 35,
   "metadata": {},
   "outputs": [],
   "source": [
    "fwrite( dapply[ , list(numero_de_cliente, Predicted) ], #solo los campos para Kaggle\n",
    "        file= \"./exp/KA2002/KA2002_001_binariaFE_35.csv\", \n",
    "        sep= \",\" )"
   ]
  },
  {
   "cell_type": "code",
   "execution_count": null,
   "metadata": {},
   "outputs": [],
   "source": []
  }
 ],
 "metadata": {
  "kernelspec": {
   "display_name": "R",
   "language": "R",
   "name": "ir"
  },
  "language_info": {
   "codemirror_mode": "r",
   "file_extension": ".r",
   "mimetype": "text/x-r-source",
   "name": "R",
   "pygments_lexer": "r",
   "version": "4.2.1"
  }
 },
 "nbformat": 4,
 "nbformat_minor": 4
}
