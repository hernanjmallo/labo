{
 "cells": [
  {
   "cell_type": "markdown",
   "metadata": {},
   "source": [
    "# Zero to Hero"
   ]
  },
  {
   "cell_type": "markdown",
   "metadata": {},
   "source": [
    "## 1.08 Unos buenos hiperparametros"
   ]
  },
  {
   "cell_type": "markdown",
   "metadata": {},
   "source": [
    "Se aplicará el modelo generado por rpart a los datos nuevos y se genera la salida para Kaggle"
   ]
  },
  {
   "cell_type": "code",
   "execution_count": 1,
   "metadata": {},
   "outputs": [
    {
     "data": {
      "text/html": [
       "<table class=\"dataframe\">\n",
       "<caption>A matrix: 2 × 6 of type dbl</caption>\n",
       "<thead>\n",
       "\t<tr><th></th><th scope=col>used</th><th scope=col>(Mb)</th><th scope=col>gc trigger</th><th scope=col>(Mb)</th><th scope=col>max used</th><th scope=col>(Mb)</th></tr>\n",
       "</thead>\n",
       "<tbody>\n",
       "\t<tr><th scope=row>Ncells</th><td> 604257</td><td>32.3</td><td>1291145</td><td>69</td><td>1291145</td><td>69.0</td></tr>\n",
       "\t<tr><th scope=row>Vcells</th><td>1086175</td><td> 8.3</td><td>8388608</td><td>64</td><td>1633205</td><td>12.5</td></tr>\n",
       "</tbody>\n",
       "</table>\n"
      ],
      "text/latex": [
       "A matrix: 2 × 6 of type dbl\n",
       "\\begin{tabular}{r|llllll}\n",
       "  & used & (Mb) & gc trigger & (Mb) & max used & (Mb)\\\\\n",
       "\\hline\n",
       "\tNcells &  604257 & 32.3 & 1291145 & 69 & 1291145 & 69.0\\\\\n",
       "\tVcells & 1086175 &  8.3 & 8388608 & 64 & 1633205 & 12.5\\\\\n",
       "\\end{tabular}\n"
      ],
      "text/markdown": [
       "\n",
       "A matrix: 2 × 6 of type dbl\n",
       "\n",
       "| <!--/--> | used | (Mb) | gc trigger | (Mb) | max used | (Mb) |\n",
       "|---|---|---|---|---|---|---|\n",
       "| Ncells |  604257 | 32.3 | 1291145 | 69 | 1291145 | 69.0 |\n",
       "| Vcells | 1086175 |  8.3 | 8388608 | 64 | 1633205 | 12.5 |\n",
       "\n"
      ],
      "text/plain": [
       "       used    (Mb) gc trigger (Mb) max used (Mb)\n",
       "Ncells  604257 32.3 1291145    69   1291145  69.0\n",
       "Vcells 1086175  8.3 8388608    64   1633205  12.5"
      ]
     },
     "metadata": {},
     "output_type": "display_data"
    },
    {
     "name": "stderr",
     "output_type": "stream",
     "text": [
      "Loading required package: caret\n",
      "\n",
      "Loading required package: ggplot2\n",
      "\n",
      "Loading required package: lattice\n",
      "\n"
     ]
    }
   ],
   "source": [
    "rm( list=ls())\n",
    "gc()\n",
    "\n",
    "library( \"data.table\")   #cargo la libreria  data.table\n",
    "library( \"rpart\")  #cargo la libreria  rpart\n",
    "library( \"rpart.plot\")\n",
    "require(\"caret\")\n",
    "\n",
    "options(repr.plot.width=20, repr.plot.height=10) \n",
    "setwd(\"~/lab1/\") #Aqui se debe poner la ruta de la PC local"
   ]
  },
  {
   "cell_type": "code",
   "execution_count": 2,
   "metadata": {},
   "outputs": [
    {
     "data": {
      "text/html": [
       "106487"
      ],
      "text/latex": [
       "106487"
      ],
      "text/markdown": [
       "106487"
      ],
      "text/plain": [
       "[1] 106487"
      ]
     },
     "metadata": {},
     "output_type": "display_data"
    },
    {
     "data": {
      "text/html": [
       "161"
      ],
      "text/latex": [
       "161"
      ],
      "text/markdown": [
       "161"
      ],
      "text/plain": [
       "[1] 161"
      ]
     },
     "metadata": {},
     "output_type": "display_data"
    }
   ],
   "source": [
    "set.seed(999953)\n",
    "dataset <- fread(\"./datasets/competencia1_2022_v2.csv\")   #cargo el dataset #cargo el dataset\n",
    "#creo la clase_binaria SI={ BAJA+1, BAJA+2 }    NO={ CONTINUA }\n",
    "dataset[ , clase_binaria :=  ifelse( clase_ternaria==\"CONTINUA\", \"NO\", \"SI\" ) ]\n",
    "datasettrain <- dataset[ foto_mes==202101 ]\n",
    "train_rows <- createDataPartition(datasettrain$clase_binaria, p= 0.66,list= FALSE)\n",
    "dtrain <- datasettrain[c(train_rows)]\n",
    "dapply <- datasettrain[-c(train_rows)]\n",
    "nrow( dtrain )\n",
    "ncol( dtrain )"
   ]
  },
  {
   "cell_type": "markdown",
   "metadata": {},
   "source": [
    "defino unos parametros interesantes\n",
    "<br>\n",
    "los hiperparametros van en una lista\n",
    "<br>\n",
    "notar la forma en que esos parametros se pasan a la funcion rpart"
   ]
  },
  {
   "cell_type": "code",
   "execution_count": 3,
   "metadata": {},
   "outputs": [
    {
     "data": {
      "text/html": [
       "161342"
      ],
      "text/latex": [
       "161342"
      ],
      "text/markdown": [
       "161342"
      ],
      "text/plain": [
       "[1] 161342"
      ]
     },
     "metadata": {},
     "output_type": "display_data"
    },
    {
     "data": {
      "text/html": [
       "106487"
      ],
      "text/latex": [
       "106487"
      ],
      "text/markdown": [
       "106487"
      ],
      "text/plain": [
       "[1] 106487"
      ]
     },
     "metadata": {},
     "output_type": "display_data"
    },
    {
     "data": {
      "text/html": [
       "54855"
      ],
      "text/latex": [
       "54855"
      ],
      "text/markdown": [
       "54855"
      ],
      "text/plain": [
       "[1] 54855"
      ]
     },
     "metadata": {},
     "output_type": "display_data"
    }
   ],
   "source": [
    "nrow( datasettrain )\n",
    "nrow( dtrain )\n",
    "nrow( dapply )"
   ]
  },
  {
   "cell_type": "code",
   "execution_count": 4,
   "metadata": {},
   "outputs": [],
   "source": [
    "param1  <- list(\"cp\"= -0.937,\n",
    "               \"minsplit\"=  1143,\n",
    "               \"minbucket\"= 1,\n",
    "               \"maxdepth\"= 9\n",
    "              )\n",
    "\n",
    "param2  <- list(\"cp\"= 0.000001,\n",
    "               \"minsplit\"=  18,\n",
    "               \"minbucket\"= 3,\n",
    "               \"maxdepth\"= 10\n",
    "              )"
   ]
  },
  {
   "cell_type": "code",
   "execution_count": 5,
   "metadata": {},
   "outputs": [],
   "source": [
    "#genero el modelo\n",
    "modelo <-  rpart::rpart(formula= \"clase_binaria ~ . -clase_ternaria\" ,\n",
    "                        data= dtrain,\n",
    "                        xval= 0,\n",
    "                        control= param1)\n",
    "#print(modelo)"
   ]
  },
  {
   "cell_type": "code",
   "execution_count": 14,
   "metadata": {},
   "outputs": [
    {
     "data": {
      "text/html": [
       "<table class=\"dataframe\">\n",
       "<caption>A data.frame: 159 × 1</caption>\n",
       "<thead>\n",
       "\t<tr><th></th><th scope=col>Overall</th></tr>\n",
       "\t<tr><th></th><th scope=col>&lt;dbl&gt;</th></tr>\n",
       "</thead>\n",
       "<tbody>\n",
       "\t<tr><th scope=row>active_quarter</th><td>39.06643840</td></tr>\n",
       "\t<tr><th scope=row>active_vs_mov</th><td> 8.46916528</td></tr>\n",
       "\t<tr><th scope=row>avg_visa_master</th><td> 1.53650794</td></tr>\n",
       "\t<tr><th scope=row>catm_trx_other</th><td> 0.98432539</td></tr>\n",
       "\t<tr><th scope=row>ccaja_ahorro</th><td> 0.02921448</td></tr>\n",
       "\t<tr><th scope=row>ccajas_consultas</th><td> 3.16112269</td></tr>\n",
       "\t<tr><th scope=row>ccajas_depositos</th><td> 0.96151259</td></tr>\n",
       "\t<tr><th scope=row>ccajas_extracciones</th><td> 1.25718584</td></tr>\n",
       "\t<tr><th scope=row>ccajas_otras</th><td> 1.18576436</td></tr>\n",
       "\t<tr><th scope=row>ccallcenter_transacciones</th><td>10.05813649</td></tr>\n",
       "\t<tr><th scope=row>ccuenta_debitos_automaticos</th><td> 0.39777167</td></tr>\n",
       "\t<tr><th scope=row>cdescubierto_preacordado</th><td>20.05433411</td></tr>\n",
       "\t<tr><th scope=row>cforex_sell</th><td> 0.32681748</td></tr>\n",
       "\t<tr><th scope=row>cinversion2</th><td> 3.88237212</td></tr>\n",
       "\t<tr><th scope=row>cliente_edad</th><td> 3.71319256</td></tr>\n",
       "\t<tr><th scope=row>cpayroll_trx</th><td>12.67162654</td></tr>\n",
       "\t<tr><th scope=row>cpayroll2_trx</th><td> 0.32891417</td></tr>\n",
       "\t<tr><th scope=row>cprestamos_personales</th><td> 6.84157184</td></tr>\n",
       "\t<tr><th scope=row>cproductos</th><td> 3.94868191</td></tr>\n",
       "\t<tr><th scope=row>cseguro_auto</th><td> 1.95202466</td></tr>\n",
       "\t<tr><th scope=row>cseguro_vivienda</th><td> 3.90989860</td></tr>\n",
       "\t<tr><th scope=row>ctarjeta_debito</th><td> 5.52874878</td></tr>\n",
       "\t<tr><th scope=row>ctarjeta_master_debitos_automaticos</th><td> 7.78983853</td></tr>\n",
       "\t<tr><th scope=row>ctarjeta_visa_debitos_automaticos</th><td> 3.61583594</td></tr>\n",
       "\t<tr><th scope=row>ctrx_quarter</th><td>73.51843819</td></tr>\n",
       "\t<tr><th scope=row>Master_fechaalta</th><td> 4.91922610</td></tr>\n",
       "\t<tr><th scope=row>Master_Fvencimiento</th><td> 3.31745656</td></tr>\n",
       "\t<tr><th scope=row>Master_mfinanciacion_limite</th><td> 3.30640394</td></tr>\n",
       "\t<tr><th scope=row>Master_mlimitecompra</th><td> 1.82857143</td></tr>\n",
       "\t<tr><th scope=row>Master_mpagado</th><td> 2.02606898</td></tr>\n",
       "\t<tr><th scope=row>⋮</th><td>⋮</td></tr>\n",
       "\t<tr><th scope=row>Master_delinquency</th><td>0</td></tr>\n",
       "\t<tr><th scope=row>Master_Finiciomora</th><td>0</td></tr>\n",
       "\t<tr><th scope=row>Master_msaldototal</th><td>0</td></tr>\n",
       "\t<tr><th scope=row>Master_msaldopesos</th><td>0</td></tr>\n",
       "\t<tr><th scope=row>Master_msaldodolares</th><td>0</td></tr>\n",
       "\t<tr><th scope=row>Master_mconsumospesos</th><td>0</td></tr>\n",
       "\t<tr><th scope=row>Master_mconsumosdolares</th><td>0</td></tr>\n",
       "\t<tr><th scope=row>Master_madelantopesos</th><td>0</td></tr>\n",
       "\t<tr><th scope=row>Master_madelantodolares</th><td>0</td></tr>\n",
       "\t<tr><th scope=row>Master_fultimo_cierre</th><td>0</td></tr>\n",
       "\t<tr><th scope=row>Master_mpagosdolares</th><td>0</td></tr>\n",
       "\t<tr><th scope=row>Master_mconsumototal</th><td>0</td></tr>\n",
       "\t<tr><th scope=row>Master_cconsumos</th><td>0</td></tr>\n",
       "\t<tr><th scope=row>Master_cadelantosefectivo</th><td>0</td></tr>\n",
       "\t<tr><th scope=row>Master_mpagominimo</th><td>0</td></tr>\n",
       "\t<tr><th scope=row>Visa_delinquency</th><td>0</td></tr>\n",
       "\t<tr><th scope=row>Visa_mfinanciacion_limite</th><td>0</td></tr>\n",
       "\t<tr><th scope=row>Visa_Fvencimiento</th><td>0</td></tr>\n",
       "\t<tr><th scope=row>Visa_Finiciomora</th><td>0</td></tr>\n",
       "\t<tr><th scope=row>Visa_msaldodolares</th><td>0</td></tr>\n",
       "\t<tr><th scope=row>Visa_mconsumospesos</th><td>0</td></tr>\n",
       "\t<tr><th scope=row>Visa_mlimitecompra</th><td>0</td></tr>\n",
       "\t<tr><th scope=row>Visa_madelantopesos</th><td>0</td></tr>\n",
       "\t<tr><th scope=row>Visa_madelantodolares</th><td>0</td></tr>\n",
       "\t<tr><th scope=row>Visa_fultimo_cierre</th><td>0</td></tr>\n",
       "\t<tr><th scope=row>Visa_mpagospesos</th><td>0</td></tr>\n",
       "\t<tr><th scope=row>Visa_mpagosdolares</th><td>0</td></tr>\n",
       "\t<tr><th scope=row>Visa_mconsumototal</th><td>0</td></tr>\n",
       "\t<tr><th scope=row>Visa_cconsumos</th><td>0</td></tr>\n",
       "\t<tr><th scope=row>Visa_cadelantosefectivo</th><td>0</td></tr>\n",
       "</tbody>\n",
       "</table>\n"
      ],
      "text/latex": [
       "A data.frame: 159 × 1\n",
       "\\begin{tabular}{r|l}\n",
       "  & Overall\\\\\n",
       "  & <dbl>\\\\\n",
       "\\hline\n",
       "\tactive\\_quarter & 39.06643840\\\\\n",
       "\tactive\\_vs\\_mov &  8.46916528\\\\\n",
       "\tavg\\_visa\\_master &  1.53650794\\\\\n",
       "\tcatm\\_trx\\_other &  0.98432539\\\\\n",
       "\tccaja\\_ahorro &  0.02921448\\\\\n",
       "\tccajas\\_consultas &  3.16112269\\\\\n",
       "\tccajas\\_depositos &  0.96151259\\\\\n",
       "\tccajas\\_extracciones &  1.25718584\\\\\n",
       "\tccajas\\_otras &  1.18576436\\\\\n",
       "\tccallcenter\\_transacciones & 10.05813649\\\\\n",
       "\tccuenta\\_debitos\\_automaticos &  0.39777167\\\\\n",
       "\tcdescubierto\\_preacordado & 20.05433411\\\\\n",
       "\tcforex\\_sell &  0.32681748\\\\\n",
       "\tcinversion2 &  3.88237212\\\\\n",
       "\tcliente\\_edad &  3.71319256\\\\\n",
       "\tcpayroll\\_trx & 12.67162654\\\\\n",
       "\tcpayroll2\\_trx &  0.32891417\\\\\n",
       "\tcprestamos\\_personales &  6.84157184\\\\\n",
       "\tcproductos &  3.94868191\\\\\n",
       "\tcseguro\\_auto &  1.95202466\\\\\n",
       "\tcseguro\\_vivienda &  3.90989860\\\\\n",
       "\tctarjeta\\_debito &  5.52874878\\\\\n",
       "\tctarjeta\\_master\\_debitos\\_automaticos &  7.78983853\\\\\n",
       "\tctarjeta\\_visa\\_debitos\\_automaticos &  3.61583594\\\\\n",
       "\tctrx\\_quarter & 73.51843819\\\\\n",
       "\tMaster\\_fechaalta &  4.91922610\\\\\n",
       "\tMaster\\_Fvencimiento &  3.31745656\\\\\n",
       "\tMaster\\_mfinanciacion\\_limite &  3.30640394\\\\\n",
       "\tMaster\\_mlimitecompra &  1.82857143\\\\\n",
       "\tMaster\\_mpagado &  2.02606898\\\\\n",
       "\t⋮ & ⋮\\\\\n",
       "\tMaster\\_delinquency & 0\\\\\n",
       "\tMaster\\_Finiciomora & 0\\\\\n",
       "\tMaster\\_msaldototal & 0\\\\\n",
       "\tMaster\\_msaldopesos & 0\\\\\n",
       "\tMaster\\_msaldodolares & 0\\\\\n",
       "\tMaster\\_mconsumospesos & 0\\\\\n",
       "\tMaster\\_mconsumosdolares & 0\\\\\n",
       "\tMaster\\_madelantopesos & 0\\\\\n",
       "\tMaster\\_madelantodolares & 0\\\\\n",
       "\tMaster\\_fultimo\\_cierre & 0\\\\\n",
       "\tMaster\\_mpagosdolares & 0\\\\\n",
       "\tMaster\\_mconsumototal & 0\\\\\n",
       "\tMaster\\_cconsumos & 0\\\\\n",
       "\tMaster\\_cadelantosefectivo & 0\\\\\n",
       "\tMaster\\_mpagominimo & 0\\\\\n",
       "\tVisa\\_delinquency & 0\\\\\n",
       "\tVisa\\_mfinanciacion\\_limite & 0\\\\\n",
       "\tVisa\\_Fvencimiento & 0\\\\\n",
       "\tVisa\\_Finiciomora & 0\\\\\n",
       "\tVisa\\_msaldodolares & 0\\\\\n",
       "\tVisa\\_mconsumospesos & 0\\\\\n",
       "\tVisa\\_mlimitecompra & 0\\\\\n",
       "\tVisa\\_madelantopesos & 0\\\\\n",
       "\tVisa\\_madelantodolares & 0\\\\\n",
       "\tVisa\\_fultimo\\_cierre & 0\\\\\n",
       "\tVisa\\_mpagospesos & 0\\\\\n",
       "\tVisa\\_mpagosdolares & 0\\\\\n",
       "\tVisa\\_mconsumototal & 0\\\\\n",
       "\tVisa\\_cconsumos & 0\\\\\n",
       "\tVisa\\_cadelantosefectivo & 0\\\\\n",
       "\\end{tabular}\n"
      ],
      "text/markdown": [
       "\n",
       "A data.frame: 159 × 1\n",
       "\n",
       "| <!--/--> | Overall &lt;dbl&gt; |\n",
       "|---|---|\n",
       "| active_quarter | 39.06643840 |\n",
       "| active_vs_mov |  8.46916528 |\n",
       "| avg_visa_master |  1.53650794 |\n",
       "| catm_trx_other |  0.98432539 |\n",
       "| ccaja_ahorro |  0.02921448 |\n",
       "| ccajas_consultas |  3.16112269 |\n",
       "| ccajas_depositos |  0.96151259 |\n",
       "| ccajas_extracciones |  1.25718584 |\n",
       "| ccajas_otras |  1.18576436 |\n",
       "| ccallcenter_transacciones | 10.05813649 |\n",
       "| ccuenta_debitos_automaticos |  0.39777167 |\n",
       "| cdescubierto_preacordado | 20.05433411 |\n",
       "| cforex_sell |  0.32681748 |\n",
       "| cinversion2 |  3.88237212 |\n",
       "| cliente_edad |  3.71319256 |\n",
       "| cpayroll_trx | 12.67162654 |\n",
       "| cpayroll2_trx |  0.32891417 |\n",
       "| cprestamos_personales |  6.84157184 |\n",
       "| cproductos |  3.94868191 |\n",
       "| cseguro_auto |  1.95202466 |\n",
       "| cseguro_vivienda |  3.90989860 |\n",
       "| ctarjeta_debito |  5.52874878 |\n",
       "| ctarjeta_master_debitos_automaticos |  7.78983853 |\n",
       "| ctarjeta_visa_debitos_automaticos |  3.61583594 |\n",
       "| ctrx_quarter | 73.51843819 |\n",
       "| Master_fechaalta |  4.91922610 |\n",
       "| Master_Fvencimiento |  3.31745656 |\n",
       "| Master_mfinanciacion_limite |  3.30640394 |\n",
       "| Master_mlimitecompra |  1.82857143 |\n",
       "| Master_mpagado |  2.02606898 |\n",
       "| ⋮ | ⋮ |\n",
       "| Master_delinquency | 0 |\n",
       "| Master_Finiciomora | 0 |\n",
       "| Master_msaldototal | 0 |\n",
       "| Master_msaldopesos | 0 |\n",
       "| Master_msaldodolares | 0 |\n",
       "| Master_mconsumospesos | 0 |\n",
       "| Master_mconsumosdolares | 0 |\n",
       "| Master_madelantopesos | 0 |\n",
       "| Master_madelantodolares | 0 |\n",
       "| Master_fultimo_cierre | 0 |\n",
       "| Master_mpagosdolares | 0 |\n",
       "| Master_mconsumototal | 0 |\n",
       "| Master_cconsumos | 0 |\n",
       "| Master_cadelantosefectivo | 0 |\n",
       "| Master_mpagominimo | 0 |\n",
       "| Visa_delinquency | 0 |\n",
       "| Visa_mfinanciacion_limite | 0 |\n",
       "| Visa_Fvencimiento | 0 |\n",
       "| Visa_Finiciomora | 0 |\n",
       "| Visa_msaldodolares | 0 |\n",
       "| Visa_mconsumospesos | 0 |\n",
       "| Visa_mlimitecompra | 0 |\n",
       "| Visa_madelantopesos | 0 |\n",
       "| Visa_madelantodolares | 0 |\n",
       "| Visa_fultimo_cierre | 0 |\n",
       "| Visa_mpagospesos | 0 |\n",
       "| Visa_mpagosdolares | 0 |\n",
       "| Visa_mconsumototal | 0 |\n",
       "| Visa_cconsumos | 0 |\n",
       "| Visa_cadelantosefectivo | 0 |\n",
       "\n"
      ],
      "text/plain": [
       "                                    Overall    \n",
       "active_quarter                      39.06643840\n",
       "active_vs_mov                        8.46916528\n",
       "avg_visa_master                      1.53650794\n",
       "catm_trx_other                       0.98432539\n",
       "ccaja_ahorro                         0.02921448\n",
       "ccajas_consultas                     3.16112269\n",
       "ccajas_depositos                     0.96151259\n",
       "ccajas_extracciones                  1.25718584\n",
       "ccajas_otras                         1.18576436\n",
       "ccallcenter_transacciones           10.05813649\n",
       "ccuenta_debitos_automaticos          0.39777167\n",
       "cdescubierto_preacordado            20.05433411\n",
       "cforex_sell                          0.32681748\n",
       "cinversion2                          3.88237212\n",
       "cliente_edad                         3.71319256\n",
       "cpayroll_trx                        12.67162654\n",
       "cpayroll2_trx                        0.32891417\n",
       "cprestamos_personales                6.84157184\n",
       "cproductos                           3.94868191\n",
       "cseguro_auto                         1.95202466\n",
       "cseguro_vivienda                     3.90989860\n",
       "ctarjeta_debito                      5.52874878\n",
       "ctarjeta_master_debitos_automaticos  7.78983853\n",
       "ctarjeta_visa_debitos_automaticos    3.61583594\n",
       "ctrx_quarter                        73.51843819\n",
       "Master_fechaalta                     4.91922610\n",
       "Master_Fvencimiento                  3.31745656\n",
       "Master_mfinanciacion_limite          3.30640394\n",
       "Master_mlimitecompra                 1.82857143\n",
       "Master_mpagado                       2.02606898\n",
       "⋮                                   ⋮          \n",
       "Master_delinquency                  0          \n",
       "Master_Finiciomora                  0          \n",
       "Master_msaldototal                  0          \n",
       "Master_msaldopesos                  0          \n",
       "Master_msaldodolares                0          \n",
       "Master_mconsumospesos               0          \n",
       "Master_mconsumosdolares             0          \n",
       "Master_madelantopesos               0          \n",
       "Master_madelantodolares             0          \n",
       "Master_fultimo_cierre               0          \n",
       "Master_mpagosdolares                0          \n",
       "Master_mconsumototal                0          \n",
       "Master_cconsumos                    0          \n",
       "Master_cadelantosefectivo           0          \n",
       "Master_mpagominimo                  0          \n",
       "Visa_delinquency                    0          \n",
       "Visa_mfinanciacion_limite           0          \n",
       "Visa_Fvencimiento                   0          \n",
       "Visa_Finiciomora                    0          \n",
       "Visa_msaldodolares                  0          \n",
       "Visa_mconsumospesos                 0          \n",
       "Visa_mlimitecompra                  0          \n",
       "Visa_madelantopesos                 0          \n",
       "Visa_madelantodolares               0          \n",
       "Visa_fultimo_cierre                 0          \n",
       "Visa_mpagospesos                    0          \n",
       "Visa_mpagosdolares                  0          \n",
       "Visa_mconsumototal                  0          \n",
       "Visa_cconsumos                      0          \n",
       "Visa_cadelantosefectivo             0          "
      ]
     },
     "metadata": {},
     "output_type": "display_data"
    },
    {
     "ename": "ERROR",
     "evalue": "Error in caret::varImp(rf_mod) %>% rownames_to_column() %>% arrange(desc(Overall)) %>% : could not find function \"%>%\"\n",
     "output_type": "error",
     "traceback": [
      "Error in caret::varImp(rf_mod) %>% rownames_to_column() %>% arrange(desc(Overall)) %>% : could not find function \"%>%\"\nTraceback:\n"
     ]
    }
   ],
   "source": [
    "\n",
    "#vim <- varImp(modelo,useModel=T)\n",
    "vim <- varImp(modelo, scale = TRUE, useModel = TRUE, nonpara = TRUE)\n",
    "vim\n",
    "\n",
    "caret::varImp(modelo) %>% \n",
    "  rownames_to_column() %>% \n",
    "  arrange(desc(Overall)) %>% \n",
    "  slice(1:10)\n",
    "\n",
    "\n",
    "\n",
    "#summary(modelo)"
   ]
  },
  {
   "cell_type": "markdown",
   "metadata": {},
   "source": [
    "Aplico el modelo a los datos dapply  pidiendo que me devuelva probabildades"
   ]
  },
  {
   "cell_type": "code",
   "execution_count": 7,
   "metadata": {},
   "outputs": [],
   "source": [
    "prediccion  <- predict( modelo, dapply, type = \"prob\")"
   ]
  },
  {
   "cell_type": "markdown",
   "metadata": {},
   "source": [
    "Genero la salida"
   ]
  },
  {
   "cell_type": "code",
   "execution_count": 8,
   "metadata": {},
   "outputs": [],
   "source": [
    "prob_baja2  <- prediccion[, \"SI\"]\n",
    "Predicted   <- ifelse( prob_baja2 > 0.032, 1, 0 )  # 0.025 es la probabilidad de corte\n",
    "\n",
    "entrega  <-  as.data.table( list( \"numero_de_cliente\"=dapply$numero_de_cliente, \"Predicted\"=Predicted)  )\n",
    "\n",
    "#creo la carpeta donde va el experimento\n",
    "dir.create( \"./exp/\",  showWarnings = FALSE ) \n",
    "dir.create( \"./exp/ZH2018/\", showWarnings = FALSE )\n",
    "\n",
    "#genero el archivo para Kaggle\n",
    "fwrite( entrega, \n",
    "        file= \"./exp/ZH2018/para_Kaggle_0108_3.csv\",\n",
    "        sep=  \",\" )"
   ]
  },
  {
   "cell_type": "markdown",
   "metadata": {},
   "source": [
    "¿Cuánto le da la ganancia en el Public Leaderboard?"
   ]
  },
  {
   "cell_type": "code",
   "execution_count": 9,
   "metadata": {},
   "outputs": [
    {
     "ename": "ERROR",
     "evalue": "Error in `[.default`(data, , positive): subscript out of bounds\n",
     "output_type": "error",
     "traceback": [
      "Error in `[.default`(data, , positive): subscript out of bounds\nTraceback:\n",
      "1. confusionMatrix(as.factor(dapply$clase_binaria), as.factor(preds), \n .     positive = \"1\")",
      "2. confusionMatrix.default(as.factor(dapply$clase_binaria), as.factor(preds), \n .     positive = \"1\")",
      "3. getFromNamespace(\"confusionMatrix.table\", \"caret\")(classTable, \n .     positive, prevalence = prevalence, mode = mode)",
      "4. data[, positive]",
      "5. `[.table`(data, , positive)"
     ]
    }
   ],
   "source": [
    "preds <- predict(modelo, dapply, type = \"class\")\n",
    "#preds\n",
    "\n",
    "#confusionMatrix(preds,dtrain$clase_ternaria)\n",
    "#table(preds)\n",
    "\n",
    "#  BAJA+1   BAJA+2 CONTINUA \n",
    "#       4       14   161324 \n",
    "\n",
    "confusionMatrix(as.factor(dapply$clase_binaria), as.factor(preds), positive = \"1\")\n"
   ]
  },
  {
   "cell_type": "code",
   "execution_count": null,
   "metadata": {},
   "outputs": [],
   "source": [
    "#nrow(dtrain)\n",
    "#preds"
   ]
  },
  {
   "cell_type": "code",
   "execution_count": null,
   "metadata": {},
   "outputs": [],
   "source": [
    "#library(ROCR)\n",
    "#preds  <- prediction(dapply$clase_ternaria), as.factor(preds))\n",
    "#roc = performance(preds, measure=\"tpr\", x.measure=\"fpr\")\n",
    "#plot(roc, col=\"orange\", lwd=2) \n",
    "#lines(x=c(0, 1), y=c(0, 1), col=\"red\", lwd=2)"
   ]
  },
  {
   "cell_type": "code",
   "execution_count": null,
   "metadata": {},
   "outputs": [],
   "source": []
  }
 ],
 "metadata": {
  "kernelspec": {
   "display_name": "R",
   "language": "R",
   "name": "ir"
  },
  "language_info": {
   "codemirror_mode": "r",
   "file_extension": ".r",
   "mimetype": "text/x-r-source",
   "name": "R",
   "pygments_lexer": "r",
   "version": "4.2.1"
  }
 },
 "nbformat": 4,
 "nbformat_minor": 4
}
